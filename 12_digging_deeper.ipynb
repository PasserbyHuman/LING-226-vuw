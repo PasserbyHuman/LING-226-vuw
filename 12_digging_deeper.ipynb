{
  "nbformat": 4,
  "nbformat_minor": 0,
  "metadata": {
    "colab": {
      "private_outputs": true,
      "provenance": [],
      "collapsed_sections": [],
      "toc_visible": true,
      "mount_file_id": "1Ty8-ZrpEkGyaJ6jSyYEoPUDihmZcgzA1",
      "authorship_tag": "ABX9TyOsNSOirjIFZHgUa+vsC2uY",
      "include_colab_link": true
    },
    "kernelspec": {
      "name": "python3",
      "display_name": "Python 3"
    },
    "language_info": {
      "name": "python"
    }
  },
  "cells": [
    {
      "cell_type": "markdown",
      "metadata": {
        "id": "view-in-github",
        "colab_type": "text"
      },
      "source": [
        "<a href=\"https://colab.research.google.com/github/scskalicky/LING-226-vuw/blob/main/12_digging_deeper.ipynb\" target=\"_parent\"><img src=\"https://colab.research.google.com/assets/colab-badge.svg\" alt=\"Open In Colab\"/></a>"
      ]
    },
    {
      "cell_type": "markdown",
      "source": [
        "# Digging Deeper\n",
        "\n",
        "This notebook first describes some new Python functions and data types before extending the conversation from the previous notebook regarding how to write more structured programs. The first new thing is learning how to use `enumerate()` as a means to write more flexible for loops. "
      ],
      "metadata": {
        "id": "SLNHkNJrZwbe"
      }
    },
    {
      "cell_type": "markdown",
      "source": [
        "# Enumerate\n",
        "\n",
        "`enumerate()` is a handy Python function which lets you declare a for loop alongside a counter. This means that you can loop through values *and* the counter of a loop, which can be handy for indexing and doing other tricks.\n",
        "\n",
        "To use `enumerate()`, you declare a `for` loop per usual but wrap the sequence you are looping over in `enumerate()`. You also need to declare two iterators: one for the count of the loop, and one for the value.\n"
      ],
      "metadata": {
        "id": "3mythrt3iU6R"
      }
    },
    {
      "cell_type": "code",
      "source": [
        "# define a string to use as an example\n",
        "target = 'soda'"
      ],
      "metadata": {
        "id": "YST8ZzJNi8vx"
      },
      "execution_count": null,
      "outputs": []
    },
    {
      "cell_type": "code",
      "execution_count": null,
      "metadata": {
        "id": "8kozBITtiL5g"
      },
      "outputs": [],
      "source": [
        "# create an enumerate loop\n",
        "for index, character in enumerate(target):\n",
        "  # print the loop counter plus value\n",
        "  # remember, Python starts at 0\n",
        "  print(index, character)"
      ]
    },
    {
      "cell_type": "markdown",
      "source": [
        "We can use this process to do things such as index different locations during a loop. "
      ],
      "metadata": {
        "id": "1-c4jz0Qjd8C"
      }
    },
    {
      "cell_type": "code",
      "source": [
        "# create an enumerate loop\n",
        "for index, character in enumerate(target):\n",
        "  # use the loop index as a way to indext the target at that spot, which is the same result\n",
        "  print(target[index])"
      ],
      "metadata": {
        "id": "m-ad7petjdPS"
      },
      "execution_count": null,
      "outputs": []
    },
    {
      "cell_type": "code",
      "source": [
        "# now print the previous character\n",
        "for index, character in enumerate(target):\n",
        "  # we add a conditional to make sure the index isn't the first, or else we would get an error \n",
        "  # (becaues there is no index before 0)\n",
        "  if index != 0:\n",
        "    print(target[index - 1], character)\n"
      ],
      "metadata": {
        "id": "Rvcr1H7Sjri7"
      },
      "execution_count": null,
      "outputs": []
    },
    {
      "cell_type": "markdown",
      "source": [
        "Consider how we can use this on a list of tokens to print word pairs:\n"
      ],
      "metadata": {
        "id": "1KRD1GZwkAvO"
      }
    },
    {
      "cell_type": "code",
      "source": [
        "# use nltk to tokenize\n",
        "import nltk\n",
        "nltk.download('punkt')\n",
        "sentence = nltk.word_tokenize('I overthink your punctuation use. Not my fault, just a thing that my mind do')"
      ],
      "metadata": {
        "id": "5yh1xl4zkD_X"
      },
      "execution_count": null,
      "outputs": []
    },
    {
      "cell_type": "code",
      "source": [
        "# print word pairs\n",
        "for index, word in enumerate(sentence):\n",
        "  # make sure index is not at the end of the sentence\n",
        "  if index != len(sentence) - 1:\n",
        "    # I am using the enumerate index to index the structure we are looping over\n",
        "    print(word, sentence[index + 1])"
      ],
      "metadata": {
        "id": "14yZQImDkMsN"
      },
      "execution_count": null,
      "outputs": []
    },
    {
      "cell_type": "markdown",
      "source": [
        "Knowing about `enumerate()` is handy for looking at word combination because you may want to iterate before and after words during a loop. Keep this function in mind as we explore bigrams and other ways words pattern together. It might help you when you start making your own functions and analyses!"
      ],
      "metadata": {
        "id": "MMcxLhU7vU-5"
      }
    },
    {
      "cell_type": "markdown",
      "source": [
        "# Tuples\n",
        "\n",
        "Tuples are another data type in Python. \n",
        "\n",
        "In some ways, tuples are similar to lists:\n",
        "- They are sequences of values (which can be different types)\n",
        "- The sequences are ordered (and thus can be indexed)\n",
        "\n",
        "In some ways, tuples are different than lists\n",
        "- They are immutable — you cannot alter their values after they are created.\n",
        "- They use different syntax\n",
        "\n",
        "\n",
        "You can index tuples, you can slice them, and you can measure their length. "
      ],
      "metadata": {
        "id": "g0JQZOX8lBZr"
      }
    },
    {
      "cell_type": "markdown",
      "source": [
        "## Creating Tuples\n",
        "\n",
        "Tuples are created by separating values by commas, usually placed between parentheses\n"
      ],
      "metadata": {
        "id": "_Bqzi-kE-cOB"
      }
    },
    {
      "cell_type": "code",
      "source": [
        "# create a tuple with no brackets\n",
        "nin1 = 'Nine', 'Inch', 'Nails'\n",
        "nin1"
      ],
      "metadata": {
        "id": "olR_k3AE-j7x"
      },
      "execution_count": null,
      "outputs": []
    },
    {
      "cell_type": "code",
      "source": [
        "type(nin1)"
      ],
      "metadata": {
        "id": "igmSxuNr_HZb"
      },
      "execution_count": null,
      "outputs": []
    },
    {
      "cell_type": "code",
      "source": [
        "# create a tuple with brackets\n",
        "nin2 = ('Trent', 'Reznor')\n",
        "nin2"
      ],
      "metadata": {
        "id": "nZOusbaG-_YW"
      },
      "execution_count": null,
      "outputs": []
    },
    {
      "cell_type": "code",
      "source": [
        "type(nin2)"
      ],
      "metadata": {
        "id": "W2aNUq7I_I8p"
      },
      "execution_count": null,
      "outputs": []
    },
    {
      "cell_type": "markdown",
      "source": [
        "## Tuple assignment\n",
        "\n",
        "You can use tuple assignment to efficiently generate \n",
        "multiple variables. To do so, you first generate your variable names, separated by commas, and then assign values, also separated by commas:\n",
        "\n"
      ],
      "metadata": {
        "id": "GvkaCHU5_NxT"
      }
    },
    {
      "cell_type": "code",
      "source": [
        "# we create three variables in one go\n",
        "past, present, future = 1982, 2022, 2055"
      ],
      "metadata": {
        "id": "0DQ4zrRi_Zd3"
      },
      "execution_count": null,
      "outputs": []
    },
    {
      "cell_type": "code",
      "source": [
        "past"
      ],
      "metadata": {
        "id": "X7vXqzya__4l"
      },
      "execution_count": null,
      "outputs": []
    },
    {
      "cell_type": "code",
      "source": [
        "present"
      ],
      "metadata": {
        "id": "4ITOeKp6AB9M"
      },
      "execution_count": null,
      "outputs": []
    },
    {
      "cell_type": "code",
      "source": [
        "future"
      ],
      "metadata": {
        "id": "FCgsBZvpACg5"
      },
      "execution_count": null,
      "outputs": []
    },
    {
      "cell_type": "code",
      "source": [
        "# however, length of each side has to match\n",
        "past, present, future = 1982, 2022"
      ],
      "metadata": {
        "id": "-TQ1-Gl4_cQL"
      },
      "execution_count": null,
      "outputs": []
    },
    {
      "cell_type": "markdown",
      "source": [
        "The \"not enough values to unpack\" error is telling us that it expected 3 (because there are three variable names) but only got 2 (because there are only two values on the right side of the variable assignment). "
      ],
      "metadata": {
        "id": "5B6_5JnsAINX"
      }
    },
    {
      "cell_type": "markdown",
      "source": [
        "## Using `.split()` and tuple assignment\n",
        "\n",
        "Knowing that we can assign resulting values to multiple variables, we can also use the results of functions like `.split()` as a means to provide multiple values in tuple assignment. For example, we can split a date into day, month, and year:"
      ],
      "metadata": {
        "id": "zuPkZ3aCAUar"
      }
    },
    {
      "cell_type": "code",
      "source": [
        "# save a date to a string\n",
        "date = '11.11.22'"
      ],
      "metadata": {
        "id": "dF_hDseIAeK0"
      },
      "execution_count": null,
      "outputs": []
    },
    {
      "cell_type": "code",
      "source": [
        "# split the string on '.' gives us three values\n",
        "day, month, year = date.split('.')"
      ],
      "metadata": {
        "id": "FgHfGJS9ArNY"
      },
      "execution_count": null,
      "outputs": []
    },
    {
      "cell_type": "code",
      "source": [
        "day"
      ],
      "metadata": {
        "id": "8pbvo6-RAvg5"
      },
      "execution_count": null,
      "outputs": []
    },
    {
      "cell_type": "code",
      "source": [
        "month"
      ],
      "metadata": {
        "id": "UXjlmReDAwOP"
      },
      "execution_count": null,
      "outputs": []
    },
    {
      "cell_type": "code",
      "source": [
        "year"
      ],
      "metadata": {
        "id": "CQk9oL__Aw4R"
      },
      "execution_count": null,
      "outputs": []
    },
    {
      "cell_type": "markdown",
      "source": [
        "Why would you use tuples instead of lists? It's not a bad question, and many other people [also wonder](https://stackoverflow.com/questions/1708510/list-vs-tuple-when-to-use-each) about this. The main distinction seems to boil down to mutability — you can change the values in lists as you like, but tuples cannot change. So, for structures you'd prefer to be set, you may want to use tuples, otherwise use lists. At the end of the day, there is no one \"right\" way to do it. \n"
      ],
      "metadata": {
        "id": "9v50PvthCnXX"
      }
    },
    {
      "cell_type": "code",
      "source": [
        "# create equivalent lists/tuples\n",
        "albums_list = ['Pure Heroine', 'Melodrama', 'Solar Power']\n",
        "albums_tuple = ('Pure Heroine', 'Melodrama', 'Solar Power')"
      ],
      "metadata": {
        "id": "EgkIFOtPDGA1"
      },
      "execution_count": null,
      "outputs": []
    },
    {
      "cell_type": "code",
      "source": [
        "# I can change the value of values in the list\n",
        "albums_list[1] = 'PH'\n",
        "albums_list"
      ],
      "metadata": {
        "id": "gm0CoxNBDn2A"
      },
      "execution_count": null,
      "outputs": []
    },
    {
      "cell_type": "code",
      "source": [
        "# but cannot do so with Tuples\n",
        "albums_tuple[1] = 'PH'"
      ],
      "metadata": {
        "id": "1m5NtFVvEqOq"
      },
      "execution_count": null,
      "outputs": []
    },
    {
      "cell_type": "markdown",
      "source": [
        "# Named Tuples\n",
        "\n",
        "Name tuples are a cool extension of tuples which provide you with a way of building factories to create objects containing similar properties. In this way, they are sort of like a dictionary, in that an object will have nested pieces of information, but they are different from a dictionary in that we pre-assign the properties in advance. \n",
        "\n",
        " To use named tuples we need to import the function from the `collections` module:"
      ],
      "metadata": {
        "id": "4xTbSPjzE0eS"
      }
    },
    {
      "cell_type": "code",
      "source": [
        "from collections import namedtuple"
      ],
      "metadata": {
        "id": "CMBkPLntE-_l"
      },
      "execution_count": null,
      "outputs": []
    },
    {
      "cell_type": "markdown",
      "source": [
        "To use `namedtuple`, we first need to define our blueprint. This provides us with a reusable template that we can create new data from. The syntax to do so is:\n",
        "\n",
        "```\n",
        "Name = namedtuple('Name', ['attribute1', 'attribute2', ...])\n",
        "\n",
        "```\n",
        "\n",
        "The first Name (on the left of the = ) saves our namedtuple to a variable. The second Name (the string inside the brackets) will be the identifier or name of this tuple. By saving the named tuple to a variable, we can then call that variable name to create additional tuples of the same structure. \n",
        "\n",
        "The `attributes` inside the list represent the sorts of information we want to store about the tuple. Think of them like dictionary keys.\n",
        "\n",
        "\n",
        "Maybe a bit confusing, I know, so let's look at an example. Let's create a namedtuple which stores information about a text. We will store the length of the text in words as well as the longest word for a text.\n"
      ],
      "metadata": {
        "id": "jJVPb60IFF3p"
      }
    },
    {
      "cell_type": "code",
      "source": [
        "# running this cell creates the factory/blueprint\n",
        "TextInfo = namedtuple('TextInfo', ['length', 'longest_word'])"
      ],
      "metadata": {
        "id": "xyFHPAR3HeWR"
      },
      "execution_count": null,
      "outputs": []
    },
    {
      "cell_type": "markdown",
      "source": [
        "Now that we've created the blueprint, we can start making individual versions of this blueprint for different texts. To do so, we choose a new variable name for our individual version and save it to an instance of `TextInfo`. \n",
        "\n",
        "We also need to set the values of the attribues, which we can do similar in how we set values of arguments in functions:"
      ],
      "metadata": {
        "id": "DbHQejT5IPxx"
      }
    },
    {
      "cell_type": "code",
      "source": [
        "# now create our first object with fake values\n",
        "text1 = TextInfo(length = 100, longest_word = 'incontrovertible')"
      ],
      "metadata": {
        "id": "4pm_zEW4IMiu"
      },
      "execution_count": null,
      "outputs": []
    },
    {
      "cell_type": "markdown",
      "source": [
        "After having created our object, we can see the true value of namedtuple start to shine. We can access information about the object using dot notation. Each attribute can be accessed by typing the name of the namedtuple (in this case, `text1`), followed by a full stop or dot `.`, followed by the name of the attribute:\n",
        "\n",
        "```\n",
        "name.attribute\n",
        "```\n",
        "\n",
        "So, we can quickly query the text1 length doing:\n"
      ],
      "metadata": {
        "id": "6Gv8cBmkIlGA"
      }
    },
    {
      "cell_type": "code",
      "source": [
        "text1.length"
      ],
      "metadata": {
        "id": "LeN1jdc6I3kb"
      },
      "execution_count": null,
      "outputs": []
    },
    {
      "cell_type": "markdown",
      "source": [
        "As well as the longest word:"
      ],
      "metadata": {
        "id": "uppn5_lEI5du"
      }
    },
    {
      "cell_type": "code",
      "source": [
        "text1.longest_word"
      ],
      "metadata": {
        "id": "Tp9lW6wtI6vl"
      },
      "execution_count": null,
      "outputs": []
    },
    {
      "cell_type": "markdown",
      "source": [
        "# Writing a full program\n",
        "\n",
        "Let's put this together into something more useful using some functions we already know. We'll load in some texts, count the tokens, and collect the most frequent word and store it all in some named tuples, which we can then query and loop through. \n",
        "\n",
        "1. make a function to load in a text\n",
        "2. make a function to tokenize and find most frequent token\n",
        "3. make a function to store that information in a namedtuple"
      ],
      "metadata": {
        "id": "bxgMl0ZbI-_P"
      }
    },
    {
      "cell_type": "code",
      "metadata": {
        "id": "TurQhkbFOZat"
      },
      "source": [
        "# our load text function from the prior notebook\n",
        "def load_txt(path):\n",
        "  \"\"\"opens and returns a text\"\"\"\n",
        "  text = open(path).read()\n",
        "  return text"
      ],
      "execution_count": null,
      "outputs": []
    },
    {
      "cell_type": "code",
      "source": [
        "# a function to use nltk.word_tokenize()\n",
        "def tokenize(x):\n",
        "  x = nltk.word_tokenize(x)\n",
        "  return x"
      ],
      "metadata": {
        "id": "ts32Uiw4Kj4R"
      },
      "execution_count": null,
      "outputs": []
    },
    {
      "cell_type": "code",
      "source": [
        "# a function to find the most frequent word\n",
        "def find_most_frequent(tokens):\n",
        "  fd = nltk.FreqDist(tokens)\n",
        "  return fd.most_common(1)"
      ],
      "metadata": {
        "id": "cf6Sd30JKsWR"
      },
      "execution_count": null,
      "outputs": []
    },
    {
      "cell_type": "code",
      "source": [
        "# a control function to run a string through the other functions and store results in a named tuple\n",
        "def process_text(path):\n",
        "  # first load the text\n",
        "  txt = load_txt(path)\n",
        "\n",
        "  # then tokenize\n",
        "  tokens = tokenize(txt)\n",
        "\n",
        "  # then find the most frequent word\n",
        "  most_frequent = find_most_frequent(tokens)\n",
        "\n",
        "  # return the values - note that I can use tuple assignment to return more than one value\n",
        "  return tokens, most_frequent\n"
      ],
      "metadata": {
        "id": "RRV-2nx5K1WP"
      },
      "execution_count": null,
      "outputs": []
    },
    {
      "cell_type": "markdown",
      "source": [
        "The functions I have just defined are all the different bits and pieces of our program. Now we need one final function which will control the whole show - it will define the named tuple and choose which texts to run through the whole set of programs. We will call this function `main` and will feed it a list of filenames for texts we want to process.\n",
        "\n",
        "Here is an explanation of the function:\n",
        "\n",
        "\n",
        "Line 2: I require two arguments: the `root` folder of the texts, and then a list of `files` which are located in that root folder. Doing it this way allows me to separate the filename from the full file path (there are of course other ways of doing this). \n",
        "\n",
        "Line 4: I then declare the `TextStats` namedtuple, which includes three attributes: `filename`, `number_of_words`, and `most_frequent_word`. This is the blueprint for our other named tuples.\n",
        "\n",
        "Line 7: I create an empty list which I will store all of my tuples in. \n",
        "\n",
        "Line 10: I then loop through each of the files. In each loop, I use tuple assignment to store the values which are returned by `process_text()` into two variables named `tokens` and `most_frequent`. In the call to `process_text()`, I concatenate the individual filename to the end of root (which is the path to the folder containing the files).\n",
        "\n",
        "Line 15: I then create a named tuple comprised of the filename, number of tokens, and the most frequent word. This named tuple is appended directly to my output list. \n",
        "\n",
        "Line 17: after the loop completes, I return the list of named tuples. \n"
      ],
      "metadata": {
        "id": "UDsIJi2-Lekm"
      }
    },
    {
      "cell_type": "code",
      "source": [
        "# write control function\n",
        "def main(root, files):\n",
        "  # define our named tuple\n",
        "  TextStats = namedtuple('TextStats', ['filename', 'number_of_words', 'most_frequent_word'])\n",
        "\n",
        "  # define an empty data container\n",
        "  output = []\n",
        "\n",
        "  # feed each file to our other functions\n",
        "  for file in files:\n",
        "    # get the tokens and most frequent word\n",
        "    tokens, most_frequent = process_text(root + file)\n",
        "\n",
        "    # create a named tuple\n",
        "    output.append(TextStats(file,len(tokens), most_frequent))\n",
        "  \n",
        "  return output"
      ],
      "metadata": {
        "id": "rE6gFWQNLbcU"
      },
      "execution_count": null,
      "outputs": []
    },
    {
      "cell_type": "code",
      "source": [
        "# need our nltk resources since I will use word_tokenize(). \n",
        "import nltk\n",
        "nltk.download('punkt')"
      ],
      "metadata": {
        "id": "opbALaWdOdhS"
      },
      "execution_count": null,
      "outputs": []
    },
    {
      "cell_type": "code",
      "source": [
        "# texts are in the same folder, so save that to a variable\n",
        "root = '/content/drive/MyDrive/'\n",
        "\n",
        "# my list of two texts\n",
        "texts = ['mood_ring.txt', 'marine_biologist.txt']\n",
        "\n",
        "# run the function\n",
        "analysis = main(root = root, files = texts)"
      ],
      "metadata": {
        "id": "ACSDnIn4MQn7"
      },
      "execution_count": null,
      "outputs": []
    },
    {
      "cell_type": "code",
      "source": [
        "analysis"
      ],
      "metadata": {
        "id": "n5S6Z6M3Oo4o"
      },
      "execution_count": null,
      "outputs": []
    },
    {
      "cell_type": "code",
      "source": [
        "# loop through anlaysis\n",
        "for text in analysis:\n",
        "  print(text.filename)\n",
        "  print(text.number_of_words)\n",
        "  print(text.most_frequent_word)"
      ],
      "metadata": {
        "id": "iPGyLB0Tetg1"
      },
      "execution_count": null,
      "outputs": []
    },
    {
      "cell_type": "markdown",
      "source": [
        "Looking at the output, we can see that there are probably some additional steps or at least *options* we would want to consider for pre-processing. For instance we probably don't want punctuation to count as our most frequent word. Regardless, hopefully this notebook can give you some ideas on how to structure your programs. "
      ],
      "metadata": {
        "id": "gnrlyUpxevKC"
      }
    },
    {
      "cell_type": "markdown",
      "source": [
        "# Conclusion\n",
        "\n",
        "In this notebook we have explored a new function (`enumerate`) as well as a new data type (tuples). We also learned about an extension to tuples called `namedtuples`, which provides us with another more structured way to query attributes of objects. \n",
        "\n",
        "Then I wrote a structured program which drew from different functions in a pipeline. You should spend some time playing around with each individual function to see if you can make tweaks here and there - for example could you add more functions to process texts further? What about a function to auomatically grab the filenames from a directory so you don't have to manually type them? Extending pre-existing functions, rather than reinventing the wheel each time, is a good way to develop more complex and interesting programs. "
      ],
      "metadata": {
        "id": "mi9N2wKW86IS"
      }
    }
  ]
}