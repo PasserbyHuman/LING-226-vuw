{
  "cells": [
    {
      "cell_type": "markdown",
      "metadata": {
        "colab_type": "text",
        "id": "view-in-github"
      },
      "source": [
        "<a href=\"https://colab.research.google.com/github/scskalicky/LING-226-vuw/blob/main/18_Bigrams_and_Collocations.ipynb\" target=\"_parent\"><img src=\"https://colab.research.google.com/assets/colab-badge.svg\" alt=\"Open In Colab\"/></a>"
      ]
    },
    {
      "cell_type": "markdown",
      "metadata": {
        "id": "bdBQbS1xhJrm"
      },
      "source": [
        "# Word Collocations\n",
        "\n",
        "One of the most memorable quotes one learns when studying corpus linguistics is by [Firth](https://en.wikipedia.org/wiki/John_Rupert_Firth): “you shall know a word by the company it keeps\". This quote embodies the concept of *collocational meaning* — the idea that the true meaning of words is only realised when used in the context of *other* words.\n",
        "\n",
        "Here is the definition of collocation from Google Dictionary:\n",
        "\n",
        "![](https://i.imgur.com/hz3L88z.png)\n",
        "\n",
        "Note how the linguistic definition is essentially the same thing as the non-linguistic definition, but includes an additional qualification about habitual co-occurence. Collocations are not just words which occurs next to another word, they are words which co-occur *non-randomly* - at a rate higher than chance.\n",
        "\n",
        "How do we know which words occur non-randomly or not? Think of the corpora that you've already seen thus far — large corpora such as Brown (and even larger than that) allow linguists to mine not just frequently occuring single words, but also frequently occuring word pairs, triplets, and so on. Statistical measures of word co-occurence provide insight into natural language and are also responsible for the ever-increasing accuracy of automatic NLP algorithms used today.\n",
        "\n",
        "Statistical knowledge of collocations is not just present in corpora, but is also a function of becoming proficienct in a language. This [Wikipedia article](https://en.wikipedia.org/wiki/English_collocations) contains a decent explanation of some collocations in English. Consider this table from the article, which shows how some word pairs seem natural / correct, whereas others do not:\n",
        "\n",
        "![](https://i.imgur.com/cWE5iO5.png)\n",
        "\n",
        "Note that none of the word combinations in the \"unnatural English\" column are ungrammatical, rather it's just that they seem to be odd combinations particularly when compared to the versions in the \"natural English\" column. Collocations are extracted from large corpora of language and are thought to reflect language use, which is in turn reflected by our interpretation of which of these collocations seems right and which seem odd.\n"
      ]
    },
    {
      "cell_type": "markdown",
      "metadata": {
        "id": "gREesAiNlszP"
      },
      "source": [
        "## Bigrams\n",
        "\n",
        "As was shown above, collocations are defined at a minimum of two or more co-occuring words. Collocations can stretch beyond two words, to three, four, or more word partners.\n",
        "\n",
        "A related but crucially different term from collocations is the term **bigrams**. In NLP, the term `bigram` means a pair of words, and technically can mean *any pair of adjacent words in a text*. The more general terminology is `n-grams`, where the `n` can stand for any number. So you can have bigrams (two words), trigrams (three words), and so on. You may find that sometimes people conflate `collocation` with `ngram`, but what they probably are referring to are unusually frequent ngrams when compared to other ngrams, especially when taking into account individual word frequencies.\n",
        "\n",
        "Simply put, the relationship between collocations and bigrams is that all collocations are bigrams (or, more accurately, n-grams), but not all n-grams are collocations. In order to be upgraded from n-gram to collocation, it must be shown that the n-gram occurs more frequently than would be allowed by chance.\n",
        "\n",
        "So, collocations are defined based on statistical co-occurence frequencies: collocations are thus two words which are more likely to occur with one another when compared to other words, controlled for each word's individual word frequency.\n",
        "\n",
        "How would you locate bigrams in a text? With a `for loop` and functions like `enumerate`, it wouldn't be too difficult. However, NLTK has a neat function which calculates these values for us — `bigrams` and `collocations`. Let's try `bigrams` on some sample text first."
      ]
    },
    {
      "cell_type": "markdown",
      "metadata": {
        "id": "0mzazZUymjlf"
      },
      "source": [
        "### `nltk.bigrams()`\n",
        "\n",
        "The function to create bigrams in NLTK is relatively straightforward. We just need to call the function on a tokenized text (otherwise we would get bigrams of characters in a string!).\n",
        "\n",
        "Let's see an example. First download the needed resources."
      ]
    },
    {
      "cell_type": "code",
      "execution_count": 1,
      "metadata": {
        "id": "J9b-Yaqdmxgj"
      },
      "outputs": [
        {
          "name": "stderr",
          "output_type": "stream",
          "text": [
            "[nltk_data] Downloading package punkt to\n",
            "[nltk_data]     C:\\Users\\Ming\\AppData\\Roaming\\nltk_data...\n",
            "[nltk_data]   Package punkt is already up-to-date!\n"
          ]
        },
        {
          "data": {
            "text/plain": [
              "True"
            ]
          },
          "execution_count": 1,
          "metadata": {},
          "output_type": "execute_result"
        }
      ],
      "source": [
        "# import the NLTK library and download tokenizer\n",
        "import nltk\n",
        "nltk.download('punkt')"
      ]
    },
    {
      "cell_type": "code",
      "execution_count": 2,
      "metadata": {
        "id": "c71_1GKDnMsu"
      },
      "outputs": [
        {
          "data": {
            "text/plain": [
              "[('we', 'live'),\n",
              " ('live', 'in'),\n",
              " ('in', 'a'),\n",
              " ('a', 'society'),\n",
              " ('society', '!')]"
            ]
          },
          "execution_count": 2,
          "metadata": {},
          "output_type": "execute_result"
        }
      ],
      "source": [
        "# create a sample sentence\n",
        "great_quote = 'we live in a society!'\n",
        "\n",
        "# use nltk bigrams (wrapping it in list() provides us with the output right away)\n",
        "list(nltk.bigrams(nltk.word_tokenize(great_quote)))"
      ]
    },
    {
      "cell_type": "markdown",
      "metadata": {
        "id": "ERiR9LUFj28z"
      },
      "source": [
        "You should be able to inspect the output and get an idea for what's going on. This function is simply starting with the first word of the sentence, making a pair with the second word, then moving on to the second word, making a pair with the third word, and so on. We can conceptualise how this works with a pseudo formula:\n",
        "\n",
        "First we would loop through a sentence:\n",
        "\n",
        "> `for n:m in a sentence (where n = the first word and m = the final word)`\n",
        "\n",
        "Then we would simply iterate ahead by one and add that to the current iterator\n",
        "\n",
        "> `output = n + n1, n1 + n2, n2 + n3..., m-1 + m`\n",
        "\n",
        "Is it that simple, can we produce the bigrams in the same way that the NLTK module has? One excellent function which can help us with this is `enumerate()`!\n",
        "\n",
        "Check out the code below - you can see that it was relatively easy to get the same basic functionality from NLTK with our own code. Take a moment to study what I've had to do in order to prevent index errors.\n",
        "\n",
        "\n",
        "\n"
      ]
    },
    {
      "cell_type": "code",
      "execution_count": 3,
      "metadata": {
        "id": "oKd2bkXIkmRa"
      },
      "outputs": [],
      "source": [
        "# use enumerate to make bigrams by asking for adjacent words until we get to the end of the sentence.\n",
        "def bootleg_bigram(tokens):\n",
        "  for i, word in enumerate(tokens):\n",
        "    if i != len(tokens)-1: # what is the role of this line?\n",
        "      print((tokens[i], tokens[i + 1]))"
      ]
    },
    {
      "cell_type": "code",
      "execution_count": 4,
      "metadata": {
        "id": "oZhCoPI5oZce"
      },
      "outputs": [
        {
          "name": "stdout",
          "output_type": "stream",
          "text": [
            "('we', 'live')\n",
            "('live', 'in')\n",
            "('in', 'a')\n",
            "('a', 'society')\n",
            "('society', '!')\n"
          ]
        }
      ],
      "source": [
        "# Test out bootleg_bigram on the same text.\n",
        "bootleg_bigram(nltk.word_tokenize(great_quote))"
      ]
    },
    {
      "cell_type": "markdown",
      "metadata": {
        "id": "ri0ngH1eonCI"
      },
      "source": [
        "### **Your Turn**\n",
        "\n",
        "Spend some time using `nltk.bigram()` on some text/strings. Make sure you understand what it is doing, and also compare the output to the `bootleg_bigram()` function."
      ]
    },
    {
      "cell_type": "code",
      "execution_count": null,
      "metadata": {
        "id": "jW7U8Kr3rR3_"
      },
      "outputs": [],
      "source": [
        "# play with nltk.bigram() here."
      ]
    },
    {
      "cell_type": "markdown",
      "metadata": {
        "id": "jMXZF-WWlhT2"
      },
      "source": [
        "## Finding collocations\n",
        "\n",
        "The `collocations()` function will give us the bigrams which are unusually frequent when also considering the frequency of the individual words in the bigrams. If you look under the hood in the NLTK docs, you'll find they use calculations from [this paper](https://aclanthology.org/J90-1003.pdf) to determine strength of association (i.e., to distinguish collocations from bigrams).\n",
        "\n",
        "Let's return to some of the built-in texts and examine their collocations. We need to download the NLTK resources.\n",
        "\n"
      ]
    },
    {
      "cell_type": "code",
      "execution_count": 5,
      "metadata": {
        "id": "BHIc64yatOpi"
      },
      "outputs": [
        {
          "name": "stderr",
          "output_type": "stream",
          "text": [
            "[nltk_data] Downloading collection 'book'\n",
            "[nltk_data]    | \n",
            "[nltk_data]    | Downloading package abc to\n",
            "[nltk_data]    |     C:\\Users\\Ming\\AppData\\Roaming\\nltk_data...\n",
            "[nltk_data]    |   Package abc is already up-to-date!\n",
            "[nltk_data]    | Downloading package brown to\n",
            "[nltk_data]    |     C:\\Users\\Ming\\AppData\\Roaming\\nltk_data...\n",
            "[nltk_data]    |   Package brown is already up-to-date!\n",
            "[nltk_data]    | Downloading package chat80 to\n",
            "[nltk_data]    |     C:\\Users\\Ming\\AppData\\Roaming\\nltk_data...\n",
            "[nltk_data]    |   Package chat80 is already up-to-date!\n",
            "[nltk_data]    | Downloading package cmudict to\n",
            "[nltk_data]    |     C:\\Users\\Ming\\AppData\\Roaming\\nltk_data...\n",
            "[nltk_data]    |   Package cmudict is already up-to-date!\n",
            "[nltk_data]    | Downloading package conll2000 to\n",
            "[nltk_data]    |     C:\\Users\\Ming\\AppData\\Roaming\\nltk_data...\n",
            "[nltk_data]    |   Package conll2000 is already up-to-date!\n",
            "[nltk_data]    | Downloading package conll2002 to\n",
            "[nltk_data]    |     C:\\Users\\Ming\\AppData\\Roaming\\nltk_data...\n",
            "[nltk_data]    |   Package conll2002 is already up-to-date!\n",
            "[nltk_data]    | Downloading package dependency_treebank to\n",
            "[nltk_data]    |     C:\\Users\\Ming\\AppData\\Roaming\\nltk_data...\n",
            "[nltk_data]    |   Package dependency_treebank is already up-to-date!\n",
            "[nltk_data]    | Downloading package genesis to\n",
            "[nltk_data]    |     C:\\Users\\Ming\\AppData\\Roaming\\nltk_data...\n",
            "[nltk_data]    |   Package genesis is already up-to-date!\n",
            "[nltk_data]    | Downloading package gutenberg to\n",
            "[nltk_data]    |     C:\\Users\\Ming\\AppData\\Roaming\\nltk_data...\n",
            "[nltk_data]    |   Package gutenberg is already up-to-date!\n",
            "[nltk_data]    | Downloading package ieer to\n",
            "[nltk_data]    |     C:\\Users\\Ming\\AppData\\Roaming\\nltk_data...\n",
            "[nltk_data]    |   Package ieer is already up-to-date!\n",
            "[nltk_data]    | Downloading package inaugural to\n",
            "[nltk_data]    |     C:\\Users\\Ming\\AppData\\Roaming\\nltk_data...\n",
            "[nltk_data]    |   Package inaugural is already up-to-date!\n",
            "[nltk_data]    | Downloading package movie_reviews to\n",
            "[nltk_data]    |     C:\\Users\\Ming\\AppData\\Roaming\\nltk_data...\n",
            "[nltk_data]    |   Package movie_reviews is already up-to-date!\n",
            "[nltk_data]    | Downloading package nps_chat to\n",
            "[nltk_data]    |     C:\\Users\\Ming\\AppData\\Roaming\\nltk_data...\n",
            "[nltk_data]    |   Package nps_chat is already up-to-date!\n",
            "[nltk_data]    | Downloading package names to\n",
            "[nltk_data]    |     C:\\Users\\Ming\\AppData\\Roaming\\nltk_data...\n",
            "[nltk_data]    |   Package names is already up-to-date!\n",
            "[nltk_data]    | Downloading package ppattach to\n",
            "[nltk_data]    |     C:\\Users\\Ming\\AppData\\Roaming\\nltk_data...\n",
            "[nltk_data]    |   Package ppattach is already up-to-date!\n",
            "[nltk_data]    | Downloading package reuters to\n",
            "[nltk_data]    |     C:\\Users\\Ming\\AppData\\Roaming\\nltk_data...\n",
            "[nltk_data]    |   Package reuters is already up-to-date!\n",
            "[nltk_data]    | Downloading package senseval to\n",
            "[nltk_data]    |     C:\\Users\\Ming\\AppData\\Roaming\\nltk_data...\n",
            "[nltk_data]    |   Package senseval is already up-to-date!\n",
            "[nltk_data]    | Downloading package state_union to\n",
            "[nltk_data]    |     C:\\Users\\Ming\\AppData\\Roaming\\nltk_data...\n",
            "[nltk_data]    |   Package state_union is already up-to-date!\n",
            "[nltk_data]    | Downloading package stopwords to\n",
            "[nltk_data]    |     C:\\Users\\Ming\\AppData\\Roaming\\nltk_data...\n",
            "[nltk_data]    |   Package stopwords is already up-to-date!\n",
            "[nltk_data]    | Downloading package swadesh to\n",
            "[nltk_data]    |     C:\\Users\\Ming\\AppData\\Roaming\\nltk_data...\n",
            "[nltk_data]    |   Package swadesh is already up-to-date!\n",
            "[nltk_data]    | Downloading package timit to\n",
            "[nltk_data]    |     C:\\Users\\Ming\\AppData\\Roaming\\nltk_data...\n",
            "[nltk_data]    |   Package timit is already up-to-date!\n",
            "[nltk_data]    | Downloading package treebank to\n",
            "[nltk_data]    |     C:\\Users\\Ming\\AppData\\Roaming\\nltk_data...\n",
            "[nltk_data]    |   Package treebank is already up-to-date!\n",
            "[nltk_data]    | Downloading package toolbox to\n",
            "[nltk_data]    |     C:\\Users\\Ming\\AppData\\Roaming\\nltk_data...\n",
            "[nltk_data]    |   Package toolbox is already up-to-date!\n",
            "[nltk_data]    | Downloading package udhr to\n",
            "[nltk_data]    |     C:\\Users\\Ming\\AppData\\Roaming\\nltk_data...\n",
            "[nltk_data]    |   Package udhr is already up-to-date!\n",
            "[nltk_data]    | Downloading package udhr2 to\n",
            "[nltk_data]    |     C:\\Users\\Ming\\AppData\\Roaming\\nltk_data...\n",
            "[nltk_data]    |   Package udhr2 is already up-to-date!\n",
            "[nltk_data]    | Downloading package unicode_samples to\n",
            "[nltk_data]    |     C:\\Users\\Ming\\AppData\\Roaming\\nltk_data...\n",
            "[nltk_data]    |   Package unicode_samples is already up-to-date!\n",
            "[nltk_data]    | Downloading package webtext to\n",
            "[nltk_data]    |     C:\\Users\\Ming\\AppData\\Roaming\\nltk_data...\n",
            "[nltk_data]    |   Package webtext is already up-to-date!\n",
            "[nltk_data]    | Downloading package wordnet to\n",
            "[nltk_data]    |     C:\\Users\\Ming\\AppData\\Roaming\\nltk_data...\n",
            "[nltk_data]    |   Package wordnet is already up-to-date!\n",
            "[nltk_data]    | Downloading package wordnet_ic to\n",
            "[nltk_data]    |     C:\\Users\\Ming\\AppData\\Roaming\\nltk_data...\n",
            "[nltk_data]    |   Package wordnet_ic is already up-to-date!\n",
            "[nltk_data]    | Downloading package words to\n",
            "[nltk_data]    |     C:\\Users\\Ming\\AppData\\Roaming\\nltk_data...\n",
            "[nltk_data]    |   Package words is already up-to-date!\n",
            "[nltk_data]    | Downloading package maxent_treebank_pos_tagger to\n",
            "[nltk_data]    |     C:\\Users\\Ming\\AppData\\Roaming\\nltk_data...\n",
            "[nltk_data]    |   Package maxent_treebank_pos_tagger is already up-\n",
            "[nltk_data]    |       to-date!\n",
            "[nltk_data]    | Downloading package maxent_ne_chunker to\n",
            "[nltk_data]    |     C:\\Users\\Ming\\AppData\\Roaming\\nltk_data...\n",
            "[nltk_data]    |   Package maxent_ne_chunker is already up-to-date!\n",
            "[nltk_data]    | Downloading package universal_tagset to\n",
            "[nltk_data]    |     C:\\Users\\Ming\\AppData\\Roaming\\nltk_data...\n",
            "[nltk_data]    |   Package universal_tagset is already up-to-date!\n",
            "[nltk_data]    | Downloading package punkt to\n",
            "[nltk_data]    |     C:\\Users\\Ming\\AppData\\Roaming\\nltk_data...\n",
            "[nltk_data]    |   Package punkt is already up-to-date!\n",
            "[nltk_data]    | Downloading package book_grammars to\n",
            "[nltk_data]    |     C:\\Users\\Ming\\AppData\\Roaming\\nltk_data...\n",
            "[nltk_data]    |   Package book_grammars is already up-to-date!\n",
            "[nltk_data]    | Downloading package city_database to\n",
            "[nltk_data]    |     C:\\Users\\Ming\\AppData\\Roaming\\nltk_data...\n",
            "[nltk_data]    |   Package city_database is already up-to-date!\n",
            "[nltk_data]    | Downloading package tagsets to\n",
            "[nltk_data]    |     C:\\Users\\Ming\\AppData\\Roaming\\nltk_data...\n",
            "[nltk_data]    |   Package tagsets is already up-to-date!\n",
            "[nltk_data]    | Downloading package panlex_swadesh to\n",
            "[nltk_data]    |     C:\\Users\\Ming\\AppData\\Roaming\\nltk_data...\n",
            "[nltk_data]    |   Package panlex_swadesh is already up-to-date!\n",
            "[nltk_data]    | Downloading package averaged_perceptron_tagger to\n",
            "[nltk_data]    |     C:\\Users\\Ming\\AppData\\Roaming\\nltk_data...\n",
            "[nltk_data]    |   Package averaged_perceptron_tagger is already up-\n",
            "[nltk_data]    |       to-date!\n",
            "[nltk_data]    | \n",
            "[nltk_data]  Done downloading collection book\n"
          ]
        },
        {
          "name": "stdout",
          "output_type": "stream",
          "text": [
            "*** Introductory Examples for the NLTK Book ***\n",
            "Loading text1, ..., text9 and sent1, ..., sent9\n",
            "Type the name of the text or sentence to view it.\n",
            "Type: 'texts()' or 'sents()' to list the materials.\n",
            "text1: Moby Dick by Herman Melville 1851\n",
            "text2: Sense and Sensibility by Jane Austen 1811\n",
            "text3: The Book of Genesis\n",
            "text4: Inaugural Address Corpus\n",
            "text5: Chat Corpus\n",
            "text6: Monty Python and the Holy Grail\n",
            "text7: Wall Street Journal\n",
            "text8: Personals Corpus\n",
            "text9: The Man Who Was Thursday by G . K . Chesterton 1908\n"
          ]
        }
      ],
      "source": [
        "# bring in the nltk resources\n",
        "import nltk\n",
        "nltk.download('book')\n",
        "from nltk.book import *"
      ]
    },
    {
      "cell_type": "markdown",
      "metadata": {
        "id": "CVCuCKPJtdkK"
      },
      "source": [
        "\n",
        "### **Your Turn**\n",
        "\n",
        "Examine the collocations for `text6` and `text9`.\n",
        "- What do you think it is about the text which is creating these collocations?\n",
        "- Do you think these same collocations would be found in the other texts?\n",
        "- What might this tell us about the power of using collocations / ngrams if we wanted to predict where documents came from (e.g., guessing the genre, guessing the author)?"
      ]
    },
    {
      "cell_type": "code",
      "execution_count": 46,
      "metadata": {
        "id": "wHGsl5_plr60"
      },
      "outputs": [
        {
          "name": "stdout",
          "output_type": "stream",
          "text": [
            "<Text: Monty Python and the Holy Grail> \n",
            "\n",
            "BLACK KNIGHT; clop clop; HEAD KNIGHT; mumble mumble; Holy Grail;\n",
            "squeak squeak; FRENCH GUARD; saw saw; Sir Robin; Run away; CARTOON\n",
            "CHARACTER; King Arthur; Iesu domine; Pie Iesu; DEAD PERSON; Round\n",
            "Table; clap clap; OLD MAN; dramatic chord; dona eis\n"
          ]
        }
      ],
      "source": [
        "# what are the collocations of Holy Grail?\n",
        "print(text6, '\\n')\n",
        "\n",
        "text6.collocations()"
      ]
    },
    {
      "cell_type": "code",
      "execution_count": 47,
      "metadata": {
        "id": "VRm-PmPm0H3f"
      },
      "outputs": [
        {
          "name": "stdout",
          "output_type": "stream",
          "text": [
            "<Text: The Man Who Was Thursday by G . K . Chesterton 1908> \n",
            "\n",
            "said Syme; asked Syme; Saffron Park; Comrade Gregory; Leicester\n",
            "Square; Colonel Ducroix; red hair; old gentleman; could see; Inspector\n",
            "Ratcliffe; Anarchist Council; blue card; Scotland Yard; dark room;\n",
            "blue eyes; common sense; straw hat; hundred yards; said Gregory; run\n",
            "away\n"
          ]
        }
      ],
      "source": [
        "# examine the collocations of text9.\n",
        "# What do you know about this book, without having read it?\n",
        "print(text9, '\\n')\n",
        "\n",
        "text9.collocations()"
      ]
    },
    {
      "cell_type": "markdown",
      "metadata": {
        "id": "lHPXWoDx2d5a"
      },
      "source": [
        "Look at some collocations from the other book texts. Do the collocations make sense based on what you know about the books?"
      ]
    },
    {
      "cell_type": "code",
      "execution_count": 99,
      "metadata": {},
      "outputs": [
        {
          "name": "stdout",
          "output_type": "stream",
          "text": [
            "petrol cars; fossil fuels; electric cars; climate change; global\n",
            "warming; public transport; future generations; renewable energy; good\n",
            "idea; carbon emissions; fossil fuel; electric car; right direction;\n",
            "get rid; new zealand; greenhouse gas; carbon dioxide; dont care; hello\n",
            "hello; step towards\n"
          ]
        }
      ],
      "source": [
        "import nltk\n",
        "\n",
        "tp001 = nltk.Text(nltk.word_tokenize(' '.join([line.split('\\t')[1] for line in open(\"./the-current/tp001.txt\", encoding=\"utf8\").read().rstrip().split('\\n')])))\n",
        "\n",
        "tp001.collocations()\n"
      ]
    },
    {
      "cell_type": "markdown",
      "metadata": {
        "id": "E_v21YQO0t_n"
      },
      "source": [
        "## **How do people use LOL?**\n",
        "\n",
        "Now, while collocations can tell us about a text in general, we can also use bigrams as a means to explore a targeted use of language we might be interested.\n",
        "\n",
        "Let's consider `text5`, the webchat corpus. Perhaps we want to know how people use \"lol\", regardless of whether \"lol\" is a collocation or not. To do so, we can conditionally sort through the bigrams of the text.\n",
        "\n",
        "We will first obtain all the bigrams of `text5`. Then we will print out the bigrams only if they contain the acronym `lol` or `LOL`. Perhaps this will tell us how LOL is used?"
      ]
    },
    {
      "cell_type": "code",
      "execution_count": 53,
      "metadata": {
        "id": "yEULDbAk1GdG"
      },
      "outputs": [
        {
          "data": {
            "text/plain": [
              "45009"
            ]
          },
          "execution_count": 53,
          "metadata": {},
          "output_type": "execute_result"
        }
      ],
      "source": [
        "# first get the bigrams\n",
        "webchat_bigrams = list(bigrams(text5))\n",
        "\n",
        "# we can see that there is going to be a lot of them!\n",
        "len(webchat_bigrams)"
      ]
    },
    {
      "cell_type": "code",
      "execution_count": 55,
      "metadata": {
        "id": "uMWEuWHTvHAc"
      },
      "outputs": [
        {
          "data": {
            "text/plain": [
              "[('sits', 'in'),\n",
              " ('in', 'the'),\n",
              " ('the', 'corner'),\n",
              " ('corner', '-'),\n",
              " ('-', '.'),\n",
              " ('.', 'JOIN'),\n",
              " ('JOIN', 'phone'),\n",
              " ('phone', 'U92'),\n",
              " ('U92', '?'),\n",
              " ('?', 'hello'),\n",
              " ('hello', 'U84'),\n",
              " ('U84', '.'),\n",
              " ('.', 'ACTION')]"
            ]
          },
          "execution_count": 55,
          "metadata": {},
          "output_type": "execute_result"
        }
      ],
      "source": [
        "# inspect a random part of the bigrams\n",
        "webchat_bigrams[1337:1350]"
      ]
    },
    {
      "cell_type": "markdown",
      "metadata": {
        "id": "WuHsjc9EwAty"
      },
      "source": [
        "Now that we have obtained all of the bigrams, let's use a list comprehension to fine the bigrams which contain variations of LOL:"
      ]
    },
    {
      "cell_type": "code",
      "execution_count": 74,
      "metadata": {
        "id": "nM20A2fY1lIf"
      },
      "outputs": [
        {
          "data": {
            "text/plain": [
              "252"
            ]
          },
          "execution_count": 74,
          "metadata": {},
          "output_type": "execute_result"
        }
      ],
      "source": [
        "# create a new object named lol_grams\n",
        "# which are the bigrams of webchat_bigrams only if they contain 'lol' or 'LOL'\n",
        "lol_grams = [gram for gram in webchat_bigrams if 'lmao' in gram or 'LMAO' in gram]\n",
        "\n",
        "# we have a good number!\n",
        "len(lol_grams)"
      ]
    },
    {
      "cell_type": "code",
      "execution_count": 75,
      "metadata": {
        "id": "z1wqjWnuwOLp"
      },
      "outputs": [
        {
          "data": {
            "text/plain": [
              "[('!', 'lmao'),\n",
              " ('-', 'lmao'),\n",
              " ('.', 'LMAO'),\n",
              " ('.', 'lmao'),\n",
              " ('. .', 'LMAO'),\n",
              " ('..', 'LMAO'),\n",
              " ('...', 'lmao'),\n",
              " ('....', 'lmao'),\n",
              " ('...........', 'lmao'),\n",
              " ('1', 'lmao'),\n",
              " (':)', 'LMAO'),\n",
              " (':)', 'lmao'),\n",
              " (':|', 'lmao'),\n",
              " ('<empty>', 'lmao'),\n",
              " ('?', 'lmao'),\n",
              " ('??', 'lmao'),\n",
              " ('???', 'lmao'),\n",
              " ('JOIN', 'LMAO'),\n",
              " ('JOIN', 'lmao'),\n",
              " ('Jerketts', 'lmao'),\n",
              " ('Kentucky', 'lmao'),\n",
              " ('LMAO', '.'),\n",
              " ('LMAO', '2'),\n",
              " ('LMAO', '@'),\n",
              " ('LMAO', 'And'),\n",
              " ('LMAO', 'JOIN'),\n",
              " ('LMAO', 'Randy'),\n",
              " ('LMAO', 'U27'),\n",
              " ('LMAO', 'U47'),\n",
              " ('LMAO', 'U53'),\n",
              " ('LMAO', 'U65'),\n",
              " ('LMAO', 'U7'),\n",
              " ('LMAO', 'U91'),\n",
              " ('LMAO', 'awww'),\n",
              " ('LMAO', 'damn'),\n",
              " ('LMAO', 'i'),\n",
              " ('LoL', 'lmao'),\n",
              " ('Lol', 'lmao'),\n",
              " ('PART', 'LMAO'),\n",
              " ('PART', 'lmao'),\n",
              " ('U105', 'lmao'),\n",
              " ('U144', 'lmao'),\n",
              " ('U20', 'lmao'),\n",
              " ('U21', 'lmao'),\n",
              " ('U22', 'lmao'),\n",
              " ('U25', 'lmao'),\n",
              " ('U26', 'lmao'),\n",
              " ('U30', 'lmao'),\n",
              " ('U32', 'lmao'),\n",
              " ('U35', 'lmao'),\n",
              " ('U36', 'lmao'),\n",
              " ('U41', 'lmao'),\n",
              " ('U43', 'LMAO'),\n",
              " ('U50', 'LMAO'),\n",
              " ('U52', 'lmao'),\n",
              " ('U53', 'lmao'),\n",
              " ('U6', 'lmao'),\n",
              " ('U73', 'lmao'),\n",
              " ('U95', 'LMAO'),\n",
              " ('WHISPER', 'lmao'),\n",
              " ('a', 'lmao'),\n",
              " ('all', 'lmao'),\n",
              " ('arrested', 'lmao'),\n",
              " ('away', 'lmao'),\n",
              " ('banned', 'lmao'),\n",
              " ('crap', 'lmao'),\n",
              " ('elo', 'lmao'),\n",
              " ('everyone', 'lmao'),\n",
              " ('fly', 'lmao'),\n",
              " ('gay', 'lmao'),\n",
              " ('good', 'lmao'),\n",
              " ('goodness', 'lmao'),\n",
              " ('guess', 'lmao'),\n",
              " ('hehe', 'lmao'),\n",
              " ('hehehehe', 'lmao'),\n",
              " ('here', 'lmao'),\n",
              " ('hour', 'lmao'),\n",
              " ('it', 'LMAO'),\n",
              " ('it', 'lmao'),\n",
              " ('j/k', 'lmao'),\n",
              " ('kitchen', 'lmao'),\n",
              " ('laffs', 'lmao'),\n",
              " ('late', 'lmao'),\n",
              " ('lmao', '!'),\n",
              " ('lmao', '!!!'),\n",
              " ('lmao', '*'),\n",
              " ('lmao', ','),\n",
              " ('lmao', '-s'),\n",
              " ('lmao', '.'),\n",
              " ('lmao', '...'),\n",
              " ('lmao', '........'),\n",
              " ('lmao', '22'),\n",
              " ('lmao', '24'),\n",
              " ('lmao', ':-)'),\n",
              " ('lmao', ':-o'),\n",
              " ('lmao', ':tongue:'),\n",
              " ('lmao', '@'),\n",
              " ('lmao', 'Break'),\n",
              " ('lmao', 'CO'),\n",
              " ('lmao', 'I'),\n",
              " ('lmao', 'JOIN'),\n",
              " ('lmao', 'PART'),\n",
              " ('lmao', 'Something'),\n",
              " ('lmao', 'U104'),\n",
              " ('lmao', 'U105'),\n",
              " ('lmao', 'U13'),\n",
              " ('lmao', 'U16'),\n",
              " ('lmao', 'U17'),\n",
              " ('lmao', 'U18'),\n",
              " ('lmao', 'U19'),\n",
              " ('lmao', 'U2'),\n",
              " ('lmao', 'U21'),\n",
              " ('lmao', 'U23'),\n",
              " ('lmao', 'U24'),\n",
              " ('lmao', 'U25'),\n",
              " ('lmao', 'U3'),\n",
              " ('lmao', 'U34'),\n",
              " ('lmao', 'U35'),\n",
              " ('lmao', 'U37'),\n",
              " ('lmao', 'U41'),\n",
              " ('lmao', 'U42'),\n",
              " ('lmao', 'U48'),\n",
              " ('lmao', 'U49'),\n",
              " ('lmao', 'U5'),\n",
              " ('lmao', 'U53'),\n",
              " ('lmao', 'U6'),\n",
              " ('lmao', 'U65'),\n",
              " ('lmao', 'U69'),\n",
              " ('lmao', 'U7'),\n",
              " ('lmao', 'U83'),\n",
              " ('lmao', 'ahah'),\n",
              " ('lmao', 'ahhhh'),\n",
              " ('lmao', 'bbl'),\n",
              " ('lmao', 'busy'),\n",
              " ('lmao', 'do'),\n",
              " ('lmao', 'from'),\n",
              " ('lmao', 'hahahaha'),\n",
              " ('lmao', 'he'),\n",
              " ('lmao', 'hey'),\n",
              " ('lmao', 'hi'),\n",
              " ('lmao', 'hiya'),\n",
              " ('lmao', 'how'),\n",
              " ('lmao', 'i'),\n",
              " ('lmao', 'im'),\n",
              " ('lmao', 'lol'),\n",
              " ('lmao', 'may'),\n",
              " ('lmao', 'my'),\n",
              " ('lmao', 'no'),\n",
              " ('lmao', 'ouch'),\n",
              " ('lmao', 'sea'),\n",
              " ('lmao', 'the'),\n",
              " ('lmao', 'um'),\n",
              " ('lmao', 'ummm'),\n",
              " ('lmao', 'well'),\n",
              " ('lmao', 'with'),\n",
              " ('lmao', 'wtf'),\n",
              " ('lmao', 'yes'),\n",
              " ('lmao', 'your'),\n",
              " ('lol', 'LMAO'),\n",
              " ('lol', 'lmao'),\n",
              " (\"martini's\", 'lmao'),\n",
              " ('maybe', 'lmao'),\n",
              " ('me', 'lmao'),\n",
              " ('noooooooooooooo', 'lmao'),\n",
              " ('now', 'lmao'),\n",
              " ('nuttin', 'lmao'),\n",
              " ('omg', 'lmao'),\n",
              " ('on', 'lmao'),\n",
              " ('out', 'lmao'),\n",
              " ('real', 'LMAO'),\n",
              " ('room', 'lmao'),\n",
              " ('shot', 'lmao'),\n",
              " ('stop', 'lmao'),\n",
              " ('to', 'lmao'),\n",
              " ('tomorrow', 'LMAO'),\n",
              " ('tyvm', 'lmao'),\n",
              " ('work', 'LMAO'),\n",
              " ('workout', 'lmao'),\n",
              " ('wrong', 'lmao'),\n",
              " ('yep', 'lmao'),\n",
              " ('~smirkZ~', 'lmao')]"
            ]
          },
          "execution_count": 75,
          "metadata": {},
          "output_type": "execute_result"
        }
      ],
      "source": [
        "# you can examine the bigrams here\n",
        "# what do you notice?\n",
        "sorted(set(lol_grams))"
      ]
    },
    {
      "cell_type": "markdown",
      "metadata": {
        "id": "zdTpLGa_wnxG"
      },
      "source": [
        "There's a lot of stuff in that output, mainly because of the way usernames are represented. This is somewhat interesting/useful because it suggests 'lol/LOL' might be the first/only thing many people type (which makes sense). But we are more interested in seeing how 'lol/LOL' pairs with other words. There was also a lot of punctuation joined with 'lol/LOL'.\n",
        "\n",
        "Let's try cleaning it up a bit. We can add a condition that requires both words in the bigram must be `.isalpha()`. Why might this work? Because `.isalpha()` only returns `True` if every character in a string is an alphabetic character (a-z/A-Z). Any punctuation *or* numbers will cause `.isalpha()` to evaulate `False`.\n"
      ]
    },
    {
      "cell_type": "code",
      "execution_count": 76,
      "metadata": {
        "id": "835I4JTtxH9n"
      },
      "outputs": [
        {
          "name": "stdout",
          "output_type": "stream",
          "text": [
            "Help on method_descriptor:\n",
            "\n",
            "isalpha(self, /)\n",
            "    Return True if the string is an alphabetic string, False otherwise.\n",
            "    \n",
            "    A string is alphabetic if all characters in the string are alphabetic and there\n",
            "    is at least one character in the string.\n",
            "\n"
          ]
        }
      ],
      "source": [
        "# Description of str.isalpha\n",
        "help(str.isalpha)"
      ]
    },
    {
      "cell_type": "code",
      "execution_count": 77,
      "metadata": {
        "id": "6FQrk2Gj83E7"
      },
      "outputs": [
        {
          "data": {
            "text/plain": [
              "123"
            ]
          },
          "execution_count": 77,
          "metadata": {},
          "output_type": "execute_result"
        }
      ],
      "source": [
        "# now use .isalpha() to only capture lol or LOL with other words\n",
        "lol_grams2 = [gram for gram in lol_grams if gram[0].isalpha() and gram[1].isalpha()]\n",
        "len(lol_grams2)"
      ]
    },
    {
      "cell_type": "markdown",
      "metadata": {
        "id": "iOrxblbwx7gA"
      },
      "source": [
        "Doing this really cleans up the output, although we still have *some* words in there that probably aren't what we want (like the JOIN messages)."
      ]
    },
    {
      "cell_type": "code",
      "execution_count": 78,
      "metadata": {
        "id": "5OUlqNxxxr_h"
      },
      "outputs": [
        {
          "data": {
            "text/plain": [
              "[('JOIN', 'LMAO'),\n",
              " ('JOIN', 'lmao'),\n",
              " ('Jerketts', 'lmao'),\n",
              " ('Kentucky', 'lmao'),\n",
              " ('LMAO', 'And'),\n",
              " ('LMAO', 'JOIN'),\n",
              " ('LMAO', 'Randy'),\n",
              " ('LMAO', 'awww'),\n",
              " ('LMAO', 'damn'),\n",
              " ('LMAO', 'i'),\n",
              " ('LoL', 'lmao'),\n",
              " ('Lol', 'lmao'),\n",
              " ('PART', 'LMAO'),\n",
              " ('PART', 'lmao'),\n",
              " ('WHISPER', 'lmao'),\n",
              " ('a', 'lmao'),\n",
              " ('all', 'lmao'),\n",
              " ('arrested', 'lmao'),\n",
              " ('away', 'lmao'),\n",
              " ('banned', 'lmao'),\n",
              " ('crap', 'lmao'),\n",
              " ('elo', 'lmao'),\n",
              " ('everyone', 'lmao'),\n",
              " ('fly', 'lmao'),\n",
              " ('gay', 'lmao'),\n",
              " ('good', 'lmao'),\n",
              " ('goodness', 'lmao'),\n",
              " ('guess', 'lmao'),\n",
              " ('hehe', 'lmao'),\n",
              " ('hehehehe', 'lmao'),\n",
              " ('here', 'lmao'),\n",
              " ('hour', 'lmao'),\n",
              " ('it', 'LMAO'),\n",
              " ('it', 'lmao'),\n",
              " ('kitchen', 'lmao'),\n",
              " ('laffs', 'lmao'),\n",
              " ('late', 'lmao'),\n",
              " ('lmao', 'Break'),\n",
              " ('lmao', 'CO'),\n",
              " ('lmao', 'I'),\n",
              " ('lmao', 'JOIN'),\n",
              " ('lmao', 'PART'),\n",
              " ('lmao', 'Something'),\n",
              " ('lmao', 'ahah'),\n",
              " ('lmao', 'ahhhh'),\n",
              " ('lmao', 'bbl'),\n",
              " ('lmao', 'busy'),\n",
              " ('lmao', 'do'),\n",
              " ('lmao', 'from'),\n",
              " ('lmao', 'hahahaha'),\n",
              " ('lmao', 'he'),\n",
              " ('lmao', 'hey'),\n",
              " ('lmao', 'hi'),\n",
              " ('lmao', 'hiya'),\n",
              " ('lmao', 'how'),\n",
              " ('lmao', 'i'),\n",
              " ('lmao', 'im'),\n",
              " ('lmao', 'lol'),\n",
              " ('lmao', 'may'),\n",
              " ('lmao', 'my'),\n",
              " ('lmao', 'no'),\n",
              " ('lmao', 'ouch'),\n",
              " ('lmao', 'sea'),\n",
              " ('lmao', 'the'),\n",
              " ('lmao', 'um'),\n",
              " ('lmao', 'ummm'),\n",
              " ('lmao', 'well'),\n",
              " ('lmao', 'with'),\n",
              " ('lmao', 'wtf'),\n",
              " ('lmao', 'yes'),\n",
              " ('lmao', 'your'),\n",
              " ('lol', 'LMAO'),\n",
              " ('lol', 'lmao'),\n",
              " ('maybe', 'lmao'),\n",
              " ('me', 'lmao'),\n",
              " ('noooooooooooooo', 'lmao'),\n",
              " ('now', 'lmao'),\n",
              " ('nuttin', 'lmao'),\n",
              " ('omg', 'lmao'),\n",
              " ('on', 'lmao'),\n",
              " ('out', 'lmao'),\n",
              " ('real', 'LMAO'),\n",
              " ('room', 'lmao'),\n",
              " ('shot', 'lmao'),\n",
              " ('stop', 'lmao'),\n",
              " ('to', 'lmao'),\n",
              " ('tomorrow', 'LMAO'),\n",
              " ('tyvm', 'lmao'),\n",
              " ('work', 'LMAO'),\n",
              " ('workout', 'lmao'),\n",
              " ('wrong', 'lmao'),\n",
              " ('yep', 'lmao')]"
            ]
          },
          "execution_count": 78,
          "metadata": {},
          "output_type": "execute_result"
        }
      ],
      "source": [
        "# it's a lot easier to see these now\n",
        "sorted(set(lol_grams2))"
      ]
    },
    {
      "cell_type": "markdown",
      "metadata": {
        "id": "7aQTbAGWah3y"
      },
      "source": [
        "### forwards and backwards lol_grams\n",
        "\n",
        "Let's now see if we can discern any interesting patterns with how lol/LOL is used. We'll create three sublists from `lol_grams2`. These sublists will be:\n",
        "\n",
        "- all bigrams which start with lol/LOL and the second word is not lol/LOL\n",
        "- all bigrams which end with lol/LOL and the first word is not lol/LOL\n",
        "- all bigrams where the first and second words are either lol/LOL\n",
        "\n",
        "I'll define all three below in one cell."
      ]
    },
    {
      "cell_type": "code",
      "execution_count": 71,
      "metadata": {
        "id": "OTOfu7VfyPiK"
      },
      "outputs": [],
      "source": [
        "targets = ['lmao', 'LMAO']\n",
        "\n",
        "forward_lolgrams = [gram for gram in lol_grams2 if gram[0] in targets and gram[1] not in targets]\n",
        "backwards_lolgrams = [gram for gram in lol_grams2 if gram[1] in targets and gram[0] not in targets]\n",
        "double_lolgrams = [gram for gram in lol_grams2 if gram[0] in targets and gram[1] in targets]"
      ]
    },
    {
      "cell_type": "code",
      "execution_count": 72,
      "metadata": {
        "id": "JUWz1-huzMMd"
      },
      "outputs": [
        {
          "name": "stdout",
          "output_type": "stream",
          "text": [
            "forward lols: 5 \n",
            " backwards lols: 7 \n",
            " double lols: 0\n"
          ]
        }
      ],
      "source": [
        "# what does this distribution tell us?\n",
        "print('forward lols:', len(forward_lolgrams),\n",
        "      '\\n', 'backwards lols:', len(backwards_lolgrams),\n",
        "      '\\n', 'double lols:', len(double_lolgrams))"
      ]
    },
    {
      "cell_type": "code",
      "execution_count": 73,
      "metadata": {
        "id": "bSz4tluky_FY"
      },
      "outputs": [
        {
          "data": {
            "text/plain": [
              "[('lmao', 'lol')]"
            ]
          },
          "execution_count": 73,
          "metadata": {},
          "output_type": "execute_result"
        }
      ],
      "source": [
        "# explore the forward lolgrams\n",
        "sorted(set(forward_lolgrams))"
      ]
    },
    {
      "cell_type": "code",
      "execution_count": 69,
      "metadata": {
        "id": "IY6a4Pe5zkIU"
      },
      "outputs": [
        {
          "data": {
            "text/plain": [
              "[('Dixie', 'lol'),\n",
              " ('Drew', 'lol'),\n",
              " ('Foxwoods', 'lol'),\n",
              " ('JOIN', 'LOL'),\n",
              " ('JOIN', 'lol'),\n",
              " ('LoL', 'lol'),\n",
              " ('No', 'lol'),\n",
              " ('PART', 'LOL'),\n",
              " ('PART', 'lol'),\n",
              " ('PMs', 'lol'),\n",
              " ('Saturday', 'lol'),\n",
              " ('Werd', 'lol'),\n",
              " ('Yes', 'LOL'),\n",
              " ('about', 'lol'),\n",
              " ('again', 'LOL'),\n",
              " ('again', 'lol'),\n",
              " ('ahem', 'lol'),\n",
              " ('aim', 'lol'),\n",
              " ('all', 'LOL'),\n",
              " ('alot', 'lol'),\n",
              " ('already', 'lol'),\n",
              " ('amazing', 'lol'),\n",
              " ('anytime', 'lol'),\n",
              " ('are', 'lol'),\n",
              " ('around', 'lol'),\n",
              " ('away', 'lol'),\n",
              " ('baby', 'lol'),\n",
              " ('back', 'lol'),\n",
              " ('bad', 'lol'),\n",
              " ('banjoes', 'lol'),\n",
              " ('bar', 'lol'),\n",
              " ('barfights', 'lol'),\n",
              " ('be', 'lol'),\n",
              " ('biebsa', 'LOL'),\n",
              " ('bones', 'LOL'),\n",
              " ('booty', 'lol'),\n",
              " ('bot', 'lol'),\n",
              " ('boy', 'lol'),\n",
              " ('brb', 'LOL'),\n",
              " ('brrrrrrr', 'LOL'),\n",
              " ('bye', 'lol'),\n",
              " ('byeeeeeeeeeeeee', 'lol'),\n",
              " ('cardinals', 'lol'),\n",
              " ('care', 'lol'),\n",
              " ('change', 'LOL'),\n",
              " ('chat', 'lol'),\n",
              " ('churches', 'LOL'),\n",
              " ('comment', 'lol'),\n",
              " ('cool', 'lol'),\n",
              " ('damn', 'lol'),\n",
              " ('dang', 'LOL'),\n",
              " ('development', 'lol'),\n",
              " ('did', 'lol'),\n",
              " ('dinner', 'lol'),\n",
              " ('dizzy', 'lol'),\n",
              " ('does', 'lol'),\n",
              " ('doll', 'LOL'),\n",
              " ('drink', 'lol'),\n",
              " ('ears', 'lol'),\n",
              " ('effort', 'lol'),\n",
              " ('either', 'lol'),\n",
              " ('em', 'LOL'),\n",
              " ('entitled', 'lol'),\n",
              " ('eww', 'LOL'),\n",
              " ('ewww', 'lol'),\n",
              " ('ewwww', 'lol'),\n",
              " ('ewwwww', 'lol'),\n",
              " ('experience', 'LOL'),\n",
              " ('eyes', 'lol'),\n",
              " ('fantastical', 'lol'),\n",
              " ('fighter', 'lol'),\n",
              " ('figured', 'lol'),\n",
              " ('food', 'lol'),\n",
              " ('fool', 'lol'),\n",
              " ('forgot', 'lol'),\n",
              " ('fuck', 'lol'),\n",
              " ('gaspppp', 'LOL'),\n",
              " ('gay', 'lol'),\n",
              " ('geeshhh', 'lol'),\n",
              " ('giggles', 'lol'),\n",
              " ('girl', 'lol'),\n",
              " ('go', 'lol'),\n",
              " ('good', 'lol'),\n",
              " ('grilfriend', 'lol'),\n",
              " ('guess', 'lol'),\n",
              " ('guys', 'LOL'),\n",
              " ('guys', 'lol'),\n",
              " ('haha', 'lol'),\n",
              " ('hahah', 'lol'),\n",
              " ('hahaha', 'lol'),\n",
              " ('hahahaHA', 'lol'),\n",
              " ('hahahahaaa', 'lol'),\n",
              " ('hater', 'LOL'),\n",
              " ('hedge', 'lol'),\n",
              " ('hehe', 'lol'),\n",
              " ('hell', 'lol'),\n",
              " ('hello', 'LOL'),\n",
              " ('her', 'lol'),\n",
              " ('here', 'lol'),\n",
              " ('hey', 'lol'),\n",
              " ('hi', 'lol'),\n",
              " ('him', 'LOL'),\n",
              " ('hmmm', 'lol'),\n",
              " ('hmmmmmmmmmm', 'lol'),\n",
              " ('horny', 'LOL'),\n",
              " ('horrible', 'lol'),\n",
              " ('hour', 'lol'),\n",
              " ('hr', 'lol'),\n",
              " ('huh', 'lol'),\n",
              " ('hunters', 'lol'),\n",
              " ('idea', 'lol'),\n",
              " ('idiot', 'lol'),\n",
              " ('impossible', 'lol'),\n",
              " ('in', 'lol'),\n",
              " ('innocent', 'lol'),\n",
              " ('interesting', 'lol'),\n",
              " ('is', 'lol'),\n",
              " ('it', 'lol'),\n",
              " ('jail', 'lol'),\n",
              " ('johnson', 'lol'),\n",
              " ('know', 'lol'),\n",
              " ('later', 'lol'),\n",
              " ('left', 'lol'),\n",
              " ('life', 'lol'),\n",
              " ('lived', 'lol'),\n",
              " ('livin', 'lol'),\n",
              " ('lmao', 'lol'),\n",
              " ('lmaooooo', 'LOL'),\n",
              " ('long', 'LOL'),\n",
              " ('lovely', 'lol'),\n",
              " ('lucky', 'lol'),\n",
              " ('m', 'lol'),\n",
              " ('man', 'lol'),\n",
              " ('maybe', 'lol'),\n",
              " ('me', 'LOL'),\n",
              " ('me', 'lol'),\n",
              " ('minute', 'lol'),\n",
              " ('minutes', 'lol'),\n",
              " ('misbehaving', 'lol'),\n",
              " ('monsters', 'lol'),\n",
              " ('my', 'lol'),\n",
              " ('night', 'LOL'),\n",
              " ('night', 'lol'),\n",
              " ('nights', 'lol'),\n",
              " ('nite', 'lol'),\n",
              " ('nm', 'lol'),\n",
              " ('no', 'lol'),\n",
              " ('nothing', 'lol'),\n",
              " ('now', 'LOL'),\n",
              " ('now', 'lol'),\n",
              " ('odd', 'lol'),\n",
              " ('offensive', 'lol'),\n",
              " ('oh', 'LOL'),\n",
              " ('ohhhhhh', 'lol'),\n",
              " ('ok', 'lol'),\n",
              " ('older', 'lol'),\n",
              " ('omg', 'lol'),\n",
              " ('one', 'lol'),\n",
              " ('oppsss', 'lol'),\n",
              " ('out', 'lol'),\n",
              " ('outhouse', 'lol'),\n",
              " ('outside', 'lol'),\n",
              " ('pants', 'lol'),\n",
              " ('parent', 'LOL'),\n",
              " ('park', 'lol'),\n",
              " ('pay', 'lol'),\n",
              " ('people', 'lol'),\n",
              " ('perv', 'lol'),\n",
              " ('please', 'lol'),\n",
              " ('pm', 'lol'),\n",
              " ('profiles', 'lol'),\n",
              " ('prolly', 'lol'),\n",
              " ('pussy', 'LOL'),\n",
              " ('puter', 'lol'),\n",
              " ('raarrrrrr', 'lol'),\n",
              " ('radio', 'lol'),\n",
              " ('religion', 'lol'),\n",
              " ('right', 'lol'),\n",
              " ('room', 'LOL'),\n",
              " ('room', 'lol'),\n",
              " ('sammich', 'lol'),\n",
              " ('scopes', 'lol'),\n",
              " ('sex', 'lol'),\n",
              " ('sexy', 'lol'),\n",
              " ('should', 'lol'),\n",
              " ('sick', 'lol'),\n",
              " ('sigh', 'lol'),\n",
              " ('sleep', 'lol'),\n",
              " ('sleepover', 'lol'),\n",
              " ('small', 'lol'),\n",
              " ('smart', 'lol'),\n",
              " ('smell', 'lol'),\n",
              " ('smiles', 'lol'),\n",
              " ('sock', 'lol'),\n",
              " ('something', 'lol'),\n",
              " ('soon', 'lol'),\n",
              " ('sorry', 'lol'),\n",
              " ('sowwy', 'lol'),\n",
              " ('soybeans', 'lol'),\n",
              " ('speech', 'lol'),\n",
              " ('stand', 'lol'),\n",
              " ('stated', 'lol'),\n",
              " ('steak', 'lol'),\n",
              " ('sticking', 'lol'),\n",
              " ('store', 'LOL'),\n",
              " ('sucks', 'LOL'),\n",
              " ('sucks', 'lol'),\n",
              " ('sup', 'lol'),\n",
              " ('surprised', 'lol'),\n",
              " ('sweet', 'LOL'),\n",
              " ('tart', 'lol'),\n",
              " ('tdr', 'lol'),\n",
              " ('teens', 'lol'),\n",
              " ('tell', 'LOL'),\n",
              " ('tell', 'lol'),\n",
              " ('that', 'LOL'),\n",
              " ('that', 'lol'),\n",
              " ('there', 'LOL'),\n",
              " ('thing', 'lol'),\n",
              " ('thingy', 'lol'),\n",
              " ('think', 'lol'),\n",
              " ('thinks', 'lol'),\n",
              " ('this', 'lol'),\n",
              " ('tho', 'lol'),\n",
              " ('though', 'LOL'),\n",
              " ('though', 'lol'),\n",
              " ('to', 'lol'),\n",
              " ('today', 'lol'),\n",
              " ('tonight', 'lol'),\n",
              " ('too', 'lol'),\n",
              " ('tooo', 'lol'),\n",
              " ('tooooooooooo', 'lol'),\n",
              " ('towels', 'lol'),\n",
              " ('town', 'lol'),\n",
              " ('tradition', 'lol'),\n",
              " ('ty', 'lol'),\n",
              " ('u', 'lol'),\n",
              " ('um', 'lol'),\n",
              " ('ummm', 'lol'),\n",
              " ('up', 'lol'),\n",
              " ('vm', 'lol'),\n",
              " ('watching', 'LOL'),\n",
              " ('way', 'lol'),\n",
              " ('welcome', 'lol'),\n",
              " ('why', 'lol'),\n",
              " ('wife', 'LOL'),\n",
              " ('wife', 'lol'),\n",
              " ('will', 'lol'),\n",
              " ('winter', 'lol'),\n",
              " ('with', 'lol'),\n",
              " ('worked', 'lol'),\n",
              " ('would', 'lol'),\n",
              " ('xbox', 'lol'),\n",
              " ('ya', 'lol'),\n",
              " ('yes', 'lol'),\n",
              " ('yess', 'lol'),\n",
              " ('yoko', 'lol'),\n",
              " ('you', 'lol'),\n",
              " ('yu', 'lol'),\n",
              " ('yummy', 'lol'),\n",
              " ('yup', 'lol'),\n",
              " ('yw', 'lol')]"
            ]
          },
          "execution_count": 69,
          "metadata": {},
          "output_type": "execute_result"
        }
      ],
      "source": [
        "# explore the backwards lolgrams\n",
        "sorted(set(backwards_lolgrams))"
      ]
    },
    {
      "cell_type": "code",
      "execution_count": 70,
      "metadata": {
        "id": "iAbDHDkkzxb4"
      },
      "outputs": [
        {
          "data": {
            "text/plain": [
              "[('LOL', 'lol'), ('lol', 'LOL'), ('lol', 'lol')]"
            ]
          },
          "execution_count": 70,
          "metadata": {},
          "output_type": "execute_result"
        }
      ],
      "source": [
        "# explore the double lolgrams\n",
        "# does it make sense to you why this sorted is so short?\n",
        "sorted(set(double_lolgrams))"
      ]
    },
    {
      "cell_type": "markdown",
      "metadata": {
        "id": "R6aUgAVxz7Ox"
      },
      "source": [
        "### **Your Turn**\n",
        "\n",
        "Spend some time looking through the distribution of `lol/LOL` that I've created.\n",
        "\n",
        "- Can you draw any conclusions about how these words might be used in terms of how they pattern with other words?\n",
        "- What tweaks or changes might you make to my code?\n",
        "- what other bigrams might be interesting to search for?"
      ]
    },
    {
      "cell_type": "markdown",
      "metadata": {
        "id": "NBvtoxa73IaW"
      },
      "source": [
        "## Bigrams and FreqDist\n",
        "\n",
        "Remember that collocations are bigrams which occur more frequently than other pairs of words. The calculations for a collocation will take into account the frequency of a word collocation when compared to the overall frequency of a word.\n",
        "\n",
        "Can we create a makeshift collocation counter using a combination of FreqDist and bigrams?\n",
        "\n",
        "First, we would want to generate a list of bigrams for a text. Let's use some data from The Current."
      ]
    },
    {
      "cell_type": "code",
      "execution_count": 80,
      "metadata": {
        "id": "nTcojxcQ3vXN"
      },
      "outputs": [],
      "source": [
        "# statement - NZ tourism should be limited to protect the environment\n",
        "# load the TP011 data to the notebook environment\n",
        "# !wget 'https://raw.githubusercontent.com/scskalicky/LING-226-vuw/main/the-current/tp011.txt'\n",
        "\n",
        "# read in the entire file\n",
        "tp011 = open('./the-current/tp011.txt', encoding=\"utf8\").read().rstrip()\n",
        "\n",
        "# remove any punctuation\n",
        "import re\n",
        "punctuation = '[#.,!\\'\"-]'\n",
        "tp011 = re.sub(pattern = punctuation, repl = '', string = tp011)"
      ]
    },
    {
      "cell_type": "code",
      "execution_count": 81,
      "metadata": {
        "id": "nERt3H0NCQ85"
      },
      "outputs": [
        {
          "data": {
            "text/plain": [
              "['individuals should pay compenstion to account for the negative externalities of their consumption',\n",
              " 'we needto protect our   environment ?\\x81nd l?©m?©t n\\x8f©mb??rs',\n",
              " 'that they should feel hopeful that they areold',\n",
              " 'that  this is an outrage becase this going to spread the delta varient',\n",
              " 'that the guy next to me is writing this and he israge']"
            ]
          },
          "execution_count": 81,
          "metadata": {},
          "output_type": "execute_result"
        }
      ],
      "source": [
        "# extract the comments\n",
        "tp011_comments = [comment.split('\\t')[1] for comment in tp011.split('\\n')]\n",
        "\n",
        "# look at the results. Notice the second comment is full of crap.\n",
        "tp011_comments[:5]"
      ]
    },
    {
      "cell_type": "markdown",
      "metadata": {
        "id": "WXQth49nEFHo"
      },
      "source": [
        "Let's clean up those words that have symbols etc using `.isalpha()`.\n",
        "\n",
        "I will do so with a nested list comprehension.\n",
        "\n",
        "Note that the expression of the list comprehension includes an internal list comprehension.\n",
        "\n",
        "This list comprehension loops over comments, then for each comment loops over the results of running .split() on the comment. The `.isalpha()` removes any word that does not fully contain characters. So any words with numbers, symbols, or other non-letter characters get removed. This is a crude way to remove data, but is effective for our purposes here.\n"
      ]
    },
    {
      "cell_type": "code",
      "execution_count": 82,
      "metadata": {
        "id": "mjfyoLiOEIcj"
      },
      "outputs": [],
      "source": [
        "# split each comment, then only keep each word which .isalpha(), then glue the comment back together\n",
        "tp011_comments = [' '.join([word for word in comment.split() if word.isalpha()]) for comment in tp011_comments]"
      ]
    },
    {
      "cell_type": "code",
      "execution_count": 83,
      "metadata": {
        "id": "PCdxWr4bESBY"
      },
      "outputs": [
        {
          "data": {
            "text/plain": [
              "['individuals should pay compenstion to account for the negative externalities of their consumption',\n",
              " 'we needto protect our environment',\n",
              " 'that they should feel hopeful that they areold',\n",
              " 'that this is an outrage becase this going to spread the delta varient',\n",
              " 'that the guy next to me is writing this and he israge']"
            ]
          },
          "execution_count": 83,
          "metadata": {},
          "output_type": "execute_result"
        }
      ],
      "source": [
        "# look at the results - the second comment no longer has those words full of symbols.\n",
        "tp011_comments[:5]"
      ]
    },
    {
      "cell_type": "markdown",
      "metadata": {
        "id": "t-_9fudU5YZC"
      },
      "source": [
        "Now, this data is in a list of individual comments. It would not make much sense to combine the comments into a single string if we want to create bigrams, because we don't want to combine the end of one comment with the start of another comment.\n",
        "\n",
        "So, let's create individual list of bigrams from the data, one for each comment."
      ]
    },
    {
      "cell_type": "code",
      "execution_count": 84,
      "metadata": {
        "id": "jvAYKOtD41UA"
      },
      "outputs": [],
      "source": [
        "# tokenize each comment\n",
        "tp011_comment_tokens = [nltk.word_tokenize(comment) for comment in tp011_comments]\n",
        "\n",
        "# turn tokens into bigrams\n",
        "tp011_comments_bigrams = [list(nltk.bigrams(comment)) for comment in tp011_comment_tokens]"
      ]
    },
    {
      "cell_type": "code",
      "execution_count": 85,
      "metadata": {
        "id": "njYZH5Jh756d"
      },
      "outputs": [
        {
          "data": {
            "text/plain": [
              "[[('individuals', 'should'),\n",
              "  ('should', 'pay'),\n",
              "  ('pay', 'compenstion'),\n",
              "  ('compenstion', 'to'),\n",
              "  ('to', 'account'),\n",
              "  ('account', 'for'),\n",
              "  ('for', 'the'),\n",
              "  ('the', 'negative'),\n",
              "  ('negative', 'externalities'),\n",
              "  ('externalities', 'of'),\n",
              "  ('of', 'their'),\n",
              "  ('their', 'consumption')],\n",
              " [('we', 'needto'),\n",
              "  ('needto', 'protect'),\n",
              "  ('protect', 'our'),\n",
              "  ('our', 'environment')],\n",
              " [('that', 'they'),\n",
              "  ('they', 'should'),\n",
              "  ('should', 'feel'),\n",
              "  ('feel', 'hopeful'),\n",
              "  ('hopeful', 'that'),\n",
              "  ('that', 'they'),\n",
              "  ('they', 'areold')]]"
            ]
          },
          "execution_count": 85,
          "metadata": {},
          "output_type": "execute_result"
        }
      ],
      "source": [
        "# we now have a list of comments split into bigrams!\n",
        "tp011_comments_bigrams[:3]"
      ]
    },
    {
      "cell_type": "markdown",
      "metadata": {
        "id": "1_SAKlbH8TdG"
      },
      "source": [
        "Now that we have lists of bigrams, we can join them into one giant list, since we know the comments have not cross contaminated one another. We can't use `''.join()` for this, because we have a list of lists.\n",
        "\n",
        "One solution is to use a loop to glue the list into another list using list concatenation. There is likely a more elegant way to do this, but this way gets the job done pretty quick."
      ]
    },
    {
      "cell_type": "code",
      "execution_count": 86,
      "metadata": {
        "id": "h4r95xQR9NXz"
      },
      "outputs": [],
      "source": [
        "# create an empty output list\n",
        "tp011_bigrams_joined = []\n",
        "\n",
        "# loop through and add each comment to the list\n",
        "for bigram in tp011_comments_bigrams:\n",
        "  tp011_bigrams_joined = tp011_bigrams_joined + bigram"
      ]
    },
    {
      "cell_type": "code",
      "execution_count": 87,
      "metadata": {
        "id": "D9sfByP_-HuM"
      },
      "outputs": [
        {
          "data": {
            "text/plain": [
              "[('individuals', 'should'),\n",
              " ('should', 'pay'),\n",
              " ('pay', 'compenstion'),\n",
              " ('compenstion', 'to'),\n",
              " ('to', 'account'),\n",
              " ('account', 'for'),\n",
              " ('for', 'the'),\n",
              " ('the', 'negative'),\n",
              " ('negative', 'externalities'),\n",
              " ('externalities', 'of'),\n",
              " ('of', 'their'),\n",
              " ('their', 'consumption'),\n",
              " ('we', 'needto'),\n",
              " ('needto', 'protect'),\n",
              " ('protect', 'our'),\n",
              " ('our', 'environment'),\n",
              " ('that', 'they'),\n",
              " ('they', 'should'),\n",
              " ('should', 'feel'),\n",
              " ('feel', 'hopeful')]"
            ]
          },
          "execution_count": 87,
          "metadata": {},
          "output_type": "execute_result"
        }
      ],
      "source": [
        "# inspect the output\n",
        "tp011_bigrams_joined[:20]"
      ]
    },
    {
      "cell_type": "markdown",
      "metadata": {
        "id": "1vlu4uWF-jIl"
      },
      "source": [
        "Now that we have a single list of bigrams, we can use `FreqDist()` to create a frequency distribution of the bigrams.\n",
        "\n"
      ]
    },
    {
      "cell_type": "code",
      "execution_count": 88,
      "metadata": {
        "id": "ou4iA9et-oRb"
      },
      "outputs": [],
      "source": [
        "# create the frequency distribution\n",
        "tp011_bigram_fdist = nltk.FreqDist(tp011_bigrams_joined)"
      ]
    },
    {
      "cell_type": "code",
      "execution_count": 89,
      "metadata": {
        "id": "llnGoSRr-upf"
      },
      "outputs": [
        {
          "data": {
            "text/plain": [
              "FreqDist({('we', 'need'): 100, ('need', 'to'): 94, ('i', 'think'): 82, ('we', 'should'): 59, ('the', 'environment'): 55, ('to', 'protect'): 51, ('our', 'environment'): 45, ('will', 'be'): 45, ('is', 'a'): 40, ('we', 'can'): 40, ...})"
            ]
          },
          "execution_count": 89,
          "metadata": {},
          "output_type": "execute_result"
        }
      ],
      "source": [
        "# we see a frequency distribution of bigrams\n",
        "tp011_bigram_fdist"
      ]
    },
    {
      "cell_type": "markdown",
      "metadata": {
        "id": "6fn-zLzF_YTB"
      },
      "source": [
        "What are the most frequent bigrams in this data?\n"
      ]
    },
    {
      "cell_type": "code",
      "execution_count": 90,
      "metadata": {
        "id": "N5sNbWHcA2b2"
      },
      "outputs": [
        {
          "data": {
            "text/plain": [
              "[(('we', 'need'), 100),\n",
              " (('need', 'to'), 94),\n",
              " (('i', 'think'), 82),\n",
              " (('we', 'should'), 59),\n",
              " (('the', 'environment'), 55),\n",
              " (('to', 'protect'), 51),\n",
              " (('our', 'environment'), 45),\n",
              " (('will', 'be'), 45),\n",
              " (('is', 'a'), 40),\n",
              " (('we', 'can'), 40)]"
            ]
          },
          "execution_count": 90,
          "metadata": {},
          "output_type": "execute_result"
        }
      ],
      "source": [
        "tp011_bigram_fdist.most_common(10)"
      ]
    },
    {
      "cell_type": "markdown",
      "metadata": {
        "id": "1LH1A19THDuf"
      },
      "source": [
        "The most frequent bigram in this output is \"we need\". Does this mean it is also a collocation? Potentially. In order to fully investigate this, we need to compare the individual word frequency against the bigram frequency. So, we could create a frequency distribution of the entire comment section to obtain single word frequency, and compare that to bigram frequency."
      ]
    },
    {
      "cell_type": "code",
      "execution_count": 91,
      "metadata": {
        "id": "fM6IRXo3He9j"
      },
      "outputs": [],
      "source": [
        "# create FreqDist from tp011\n",
        "# run the same line extracting just the comments, but joint the results into a single string.\n",
        "tp011_raw = ' '.join([comment.split('\\t')[1] for comment in tp011.split('\\n')])\n"
      ]
    },
    {
      "cell_type": "code",
      "execution_count": 92,
      "metadata": {
        "id": "37huNTN4H4IN"
      },
      "outputs": [
        {
          "data": {
            "text/plain": [
              "'individuals should pay compenstion to account for the negative externalities of their consumption we needto protect our   environment ?\\x81nd l?©m?©t n\\x8f©'"
            ]
          },
          "execution_count": 92,
          "metadata": {},
          "output_type": "execute_result"
        }
      ],
      "source": [
        "tp011_raw[:150]"
      ]
    },
    {
      "cell_type": "code",
      "execution_count": 93,
      "metadata": {
        "id": "xw37f_LDIEDl"
      },
      "outputs": [],
      "source": [
        "# create a FreqDist of the entire set of words\n",
        "tp011_fdist = nltk.FreqDist(nltk.word_tokenize(tp011_raw))"
      ]
    },
    {
      "cell_type": "markdown",
      "metadata": {
        "id": "9IzWqjn4KaGW"
      },
      "source": [
        "Now that we have a frequency distribution of both single words and bigrams, we can compare individual word against bigram frequencies. One simple way to determine the strength of attraction between two words is the relative proportion of that word occuring with one word compared to all other words. This is related to word probabilities which is covered later, but for now we can view this is a percentage of occurance."
      ]
    },
    {
      "cell_type": "code",
      "execution_count": 94,
      "metadata": {
        "id": "B0hvVTdyKi3g"
      },
      "outputs": [
        {
          "data": {
            "text/plain": [
              "365"
            ]
          },
          "execution_count": 94,
          "metadata": {},
          "output_type": "execute_result"
        }
      ],
      "source": [
        "# the word \"we\" occurs 365 times\n",
        "tp011_fdist['we']"
      ]
    },
    {
      "cell_type": "code",
      "execution_count": 95,
      "metadata": {
        "id": "B4O7hS1rKnLE"
      },
      "outputs": [
        {
          "data": {
            "text/plain": [
              "100"
            ]
          },
          "execution_count": 95,
          "metadata": {},
          "output_type": "execute_result"
        }
      ],
      "source": [
        "# the bigram 'we  need' occurs 100 times\n",
        "tp011_bigram_fdist[('we', 'need')]"
      ]
    },
    {
      "cell_type": "markdown",
      "metadata": {
        "id": "omqBEBsZLBOZ"
      },
      "source": [
        "So out of the 365 times the word \"we\" occurs, 100 of those times are with the word \"need\". This means about 27% of the occurances of we are in this combination, which could be taken as evidence that this is a strong collocation for we.\n",
        "\n",
        "In order to fully verify this, we would want to find all of the other bigrams that we occurs with. How could we do this?  Firstly, we could obtain a set of all the bigrams that start with 'we', using a similar strategy to the backwards and forwards lolgrams shown above."
      ]
    },
    {
      "cell_type": "code",
      "execution_count": 96,
      "metadata": {
        "id": "ECXQrZnTLWn3"
      },
      "outputs": [
        {
          "data": {
            "text/plain": [
              "{('we', 'LIVE'),\n",
              " ('we', 'all'),\n",
              " ('we', 'alreadey'),\n",
              " ('we', 'also'),\n",
              " ('we', 'alsocneed'),\n",
              " ('we', 'and'),\n",
              " ('we', 'are'),\n",
              " ('we', 'arent'),\n",
              " ('we', 'aresocial'),\n",
              " ('we', 'as'),\n",
              " ('we', 'bring'),\n",
              " ('we', 'cab'),\n",
              " ('we', 'can'),\n",
              " ('we', 'cant'),\n",
              " ('we', 'care'),\n",
              " ('we', 'could'),\n",
              " ('we', 'create'),\n",
              " ('we', 'currently'),\n",
              " ('we', 'do'),\n",
              " ('we', 'dont'),\n",
              " ('we', 'educate'),\n",
              " ('we', 'expect'),\n",
              " ('we', 'fix'),\n",
              " ('we', 'get'),\n",
              " ('we', 'geta'),\n",
              " ('we', 'gethome'),\n",
              " ('we', 'grow'),\n",
              " ('we', 'have'),\n",
              " ('we', 'havent'),\n",
              " ('we', 'havewhilst'),\n",
              " ('we', 'just'),\n",
              " ('we', 'know'),\n",
              " ('we', 'left'),\n",
              " ('we', 'let'),\n",
              " ('we', 'like'),\n",
              " ('we', 'limit'),\n",
              " ('we', 'live'),\n",
              " ('we', 'lived'),\n",
              " ('we', 'loss'),\n",
              " ('we', 'made'),\n",
              " ('we', 'manage'),\n",
              " ('we', 'may'),\n",
              " ('we', 'maymiss'),\n",
              " ('we', 'might'),\n",
              " ('we', 'must'),\n",
              " ('we', 'nead'),\n",
              " ('we', 'ned'),\n",
              " ('we', 'need'),\n",
              " ('we', 'needto'),\n",
              " ('we', 'only'),\n",
              " ('we', 'owe'),\n",
              " ('we', 'put'),\n",
              " ('we', 're'),\n",
              " ('we', 'really'),\n",
              " ('we', 'rely'),\n",
              " ('we', 'restrict'),\n",
              " ('we', 'sheeeeeeeeeeeeeeeeeeeeeeesh'),\n",
              " ('we', 'shold'),\n",
              " ('we', 'shoud'),\n",
              " ('we', 'should'),\n",
              " ('we', 'shouldnt'),\n",
              " ('we', 'shoull'),\n",
              " ('we', 'shudent'),\n",
              " ('we', 'shuld'),\n",
              " ('we', 'still'),\n",
              " ('we', 'survive'),\n",
              " ('we', 'take'),\n",
              " ('we', 'think'),\n",
              " ('we', 'treateriurenvironment'),\n",
              " ('we', 'used'),\n",
              " ('we', 'want'),\n",
              " ('we', 'were'),\n",
              " ('we', 'will')}"
            ]
          },
          "execution_count": 96,
          "metadata": {},
          "output_type": "execute_result"
        }
      ],
      "source": [
        "# obtain a set of all bigrams starting with we\n",
        "we_bigrams = set([bigram for bigram in tp011_bigrams_joined if bigram[0] == 'we'])\n",
        "we_bigrams"
      ]
    },
    {
      "cell_type": "markdown",
      "metadata": {
        "id": "oBPrbqbNLvov"
      },
      "source": [
        "Having obtained this set, we could find the relative proportion of each bigram compared to the overall occurance of we.\n",
        "\n",
        "Look at the output. You'll see that 'we need' is the most common pair and takes up the bulk of we. From this data, we can conclude that \"we\" prefers to come before \"need\" at a rate much higher than many other words. What is the second strongest collocation in this data?\n",
        "\n",
        "And, what could be done to improve this code so that it automatically finds the strongest collocations? Right now it just prints the data which means you have to use your human eyes and brain to locate the most / least strongest collocations."
      ]
    },
    {
      "cell_type": "code",
      "execution_count": 97,
      "metadata": {
        "id": "ksVj23FfL1V-"
      },
      "outputs": [
        {
          "name": "stdout",
          "output_type": "stream",
          "text": [
            "bigram ('we', 'need') occurs 100 times, for a total % of 27.397260273972602\n",
            "bigram ('we', 'dont') occurs 9 times, for a total % of 2.4657534246575343\n",
            "bigram ('we', 'restrict') occurs 1 times, for a total % of 0.273972602739726\n",
            "bigram ('we', 'nead') occurs 1 times, for a total % of 0.273972602739726\n",
            "bigram ('we', 'as') occurs 1 times, for a total % of 0.273972602739726\n",
            "bigram ('we', 'arent') occurs 2 times, for a total % of 0.547945205479452\n",
            "bigram ('we', 'treateriurenvironment') occurs 1 times, for a total % of 0.273972602739726\n",
            "bigram ('we', 'currently') occurs 1 times, for a total % of 0.273972602739726\n",
            "bigram ('we', 'left') occurs 1 times, for a total % of 0.273972602739726\n",
            "bigram ('we', 'shoud') occurs 1 times, for a total % of 0.273972602739726\n",
            "bigram ('we', 'have') occurs 28 times, for a total % of 7.671232876712329\n",
            "bigram ('we', 'still') occurs 4 times, for a total % of 1.095890410958904\n",
            "bigram ('we', 'manage') occurs 1 times, for a total % of 0.273972602739726\n",
            "bigram ('we', 'shoull') occurs 1 times, for a total % of 0.273972602739726\n",
            "bigram ('we', 'create') occurs 1 times, for a total % of 0.273972602739726\n",
            "bigram ('we', 'also') occurs 1 times, for a total % of 0.273972602739726\n",
            "bigram ('we', 'loss') occurs 1 times, for a total % of 0.273972602739726\n",
            "bigram ('we', 'put') occurs 1 times, for a total % of 0.273972602739726\n",
            "bigram ('we', 'lived') occurs 1 times, for a total % of 0.273972602739726\n",
            "bigram ('we', 'owe') occurs 1 times, for a total % of 0.273972602739726\n",
            "bigram ('we', 'could') occurs 3 times, for a total % of 0.821917808219178\n",
            "bigram ('we', 'survive') occurs 1 times, for a total % of 0.273972602739726\n",
            "bigram ('we', 'know') occurs 1 times, for a total % of 0.273972602739726\n",
            "bigram ('we', 'take') occurs 1 times, for a total % of 0.273972602739726\n",
            "bigram ('we', 'must') occurs 2 times, for a total % of 0.547945205479452\n",
            "bigram ('we', 're') occurs 1 times, for a total % of 0.273972602739726\n",
            "bigram ('we', 'geta') occurs 1 times, for a total % of 0.273972602739726\n",
            "bigram ('we', 'expect') occurs 1 times, for a total % of 0.273972602739726\n",
            "bigram ('we', 'shudent') occurs 1 times, for a total % of 0.273972602739726\n",
            "bigram ('we', 'sheeeeeeeeeeeeeeeeeeeeeeesh') occurs 1 times, for a total % of 0.273972602739726\n",
            "bigram ('we', 'care') occurs 1 times, for a total % of 0.273972602739726\n",
            "bigram ('we', 'LIVE') occurs 1 times, for a total % of 0.273972602739726\n",
            "bigram ('we', 'gethome') occurs 1 times, for a total % of 0.273972602739726\n",
            "bigram ('we', 'think') occurs 1 times, for a total % of 0.273972602739726\n",
            "bigram ('we', 'havent') occurs 1 times, for a total % of 0.273972602739726\n",
            "bigram ('we', 'ned') occurs 1 times, for a total % of 0.273972602739726\n",
            "bigram ('we', 'and') occurs 1 times, for a total % of 0.273972602739726\n",
            "bigram ('we', 'maymiss') occurs 1 times, for a total % of 0.273972602739726\n",
            "bigram ('we', 'rely') occurs 2 times, for a total % of 0.547945205479452\n",
            "bigram ('we', 'bring') occurs 1 times, for a total % of 0.273972602739726\n",
            "bigram ('we', 'just') occurs 1 times, for a total % of 0.273972602739726\n",
            "bigram ('we', 'limit') occurs 3 times, for a total % of 0.821917808219178\n",
            "bigram ('we', 'alreadey') occurs 1 times, for a total % of 0.273972602739726\n",
            "bigram ('we', 'needto') occurs 3 times, for a total % of 0.821917808219178\n",
            "bigram ('we', 'are') occurs 18 times, for a total % of 4.931506849315069\n",
            "bigram ('we', 'live') occurs 1 times, for a total % of 0.273972602739726\n",
            "bigram ('we', 'made') occurs 1 times, for a total % of 0.273972602739726\n",
            "bigram ('we', 'aresocial') occurs 1 times, for a total % of 0.273972602739726\n",
            "bigram ('we', 'want') occurs 2 times, for a total % of 0.547945205479452\n",
            "bigram ('we', 'do') occurs 6 times, for a total % of 1.643835616438356\n",
            "bigram ('we', 'all') occurs 5 times, for a total % of 1.36986301369863\n",
            "bigram ('we', 'grow') occurs 1 times, for a total % of 0.273972602739726\n",
            "bigram ('we', 'cab') occurs 1 times, for a total % of 0.273972602739726\n",
            "bigram ('we', 'alsocneed') occurs 1 times, for a total % of 0.273972602739726\n",
            "bigram ('we', 'might') occurs 3 times, for a total % of 0.821917808219178\n",
            "bigram ('we', 'will') occurs 15 times, for a total % of 4.10958904109589\n",
            "bigram ('we', 'used') occurs 1 times, for a total % of 0.273972602739726\n",
            "bigram ('we', 'can') occurs 40 times, for a total % of 10.95890410958904\n",
            "bigram ('we', 'really') occurs 1 times, for a total % of 0.273972602739726\n",
            "bigram ('we', 'should') occurs 59 times, for a total % of 16.164383561643834\n",
            "bigram ('we', 'only') occurs 2 times, for a total % of 0.547945205479452\n",
            "bigram ('we', 'shouldnt') occurs 1 times, for a total % of 0.273972602739726\n",
            "bigram ('we', 'fix') occurs 1 times, for a total % of 0.273972602739726\n",
            "bigram ('we', 'let') occurs 1 times, for a total % of 0.273972602739726\n",
            "bigram ('we', 'shuld') occurs 1 times, for a total % of 0.273972602739726\n",
            "bigram ('we', 'get') occurs 2 times, for a total % of 0.547945205479452\n",
            "bigram ('we', 'educate') occurs 1 times, for a total % of 0.273972602739726\n",
            "bigram ('we', 'were') occurs 1 times, for a total % of 0.273972602739726\n",
            "bigram ('we', 'may') occurs 1 times, for a total % of 0.273972602739726\n",
            "bigram ('we', 'cant') occurs 5 times, for a total % of 1.36986301369863\n",
            "bigram ('we', 'havewhilst') occurs 1 times, for a total % of 0.273972602739726\n",
            "bigram ('we', 'shold') occurs 1 times, for a total % of 0.273972602739726\n",
            "bigram ('we', 'like') occurs 1 times, for a total % of 0.273972602739726\n"
          ]
        }
      ],
      "source": [
        "for wb in we_bigrams:\n",
        "  # print frequency of bigram then percentage of bigram based on word occurance\n",
        "  print(f'bigram {wb} occurs {tp011_bigram_fdist[wb]} times, for a total % of {(tp011_bigram_fdist[wb]/tp011_fdist[\"we\"])*100}')"
      ]
    },
    {
      "cell_type": "markdown",
      "metadata": {
        "id": "qbFMWcYtPy-T"
      },
      "source": [
        "### Using NLTK collocation function on our data\n",
        "\n",
        "We can also convert our text into an NLTK Text object to locate collocations.\n"
      ]
    },
    {
      "cell_type": "code",
      "execution_count": 98,
      "metadata": {
        "id": "8CPyjHCMP44g"
      },
      "outputs": [],
      "source": [
        "# supply a list of tokens to nltk.Text()\n",
        "tp011_nltk_corpus = nltk.Text(nltk.word_tokenize(tp011_raw))"
      ]
    },
    {
      "cell_type": "markdown",
      "metadata": {
        "id": "Jtg436LXQ5uF"
      },
      "source": [
        "Look at the top 25 strongest collocations from the text - what do you notice? Crucially, we see that \"we need\" is not among the collocations! Instead, we have a range of other collocations. What is the difference?\n",
        "\n",
        "Well, simply put, [NLTK uses more advanced calculations to find collocations](https://tedboy.github.io/nlps/_modules/nltk/collocations.html). What we see below are word pairs which are strong based on the frequency of *both* sides of the bigram. So not only is \"new\" very likely to occur before \"zealand\", \"zealand\" is also very likely to occur after \"new.\" These word contexts are larger than the simple percentages calculated above.\n",
        "\n",
        "The example of `'blah blah'` might also help this point - how likely is it to see the word 'blah' in different word contexts? Not very - therefore we have very high expectations that when we see the word \"blah\", we are very likely to see another \"blah\" coming afterwords.\n",
        "\n",
        "Compare that with \"we\" - the data above showed that even though \"need\" occured at a high rate after \"we\", the word \"we\" was still found in many other words contexts.\n",
        "\n",
        "The NLTK `.collocations()` function is thus a powerful and fast way to locate collocations in a text. But going through the manual process above also provides some good practice and understanding of what is going into these calculations."
      ]
    },
    {
      "cell_type": "code",
      "execution_count": 100,
      "metadata": {
        "id": "kquSMn9BQAUT"
      },
      "outputs": [
        {
          "name": "stdout",
          "output_type": "stream",
          "text": [
            "good idea; new zealand; dont care; great idea; many people; come back;\n",
            "tourist numbers; New Zealand; mother earth; less people; stay safe;\n",
            "short term; limit numbers; many tourists; New Zealands; boarders\n",
            "closed; natural resources; beautiful country; non residents; freedom\n",
            "campers; long term; blah blah; financial gain; dont want; carbon\n",
            "emmisions\n"
          ]
        }
      ],
      "source": [
        "tp011_nltk_corpus.collocations(num = 25)"
      ]
    },
    {
      "cell_type": "markdown",
      "metadata": {
        "id": "h65capNrPW_C"
      },
      "source": [
        "## **Your Turn**\n",
        "\n",
        "Consider looking at some other bigrams in some data, or converting texts and exploring collocations with the NLTK `Text()` module.\n",
        "\n"
      ]
    }
  ],
  "metadata": {
    "colab": {
      "include_colab_link": true,
      "private_outputs": true,
      "provenance": [],
      "toc_visible": true
    },
    "kernelspec": {
      "display_name": "Python 3.10.5 64-bit",
      "language": "python",
      "name": "python3"
    },
    "language_info": {
      "codemirror_mode": {
        "name": "ipython",
        "version": 3
      },
      "file_extension": ".py",
      "mimetype": "text/x-python",
      "name": "python",
      "nbconvert_exporter": "python",
      "pygments_lexer": "ipython3",
      "version": "3.11.4"
    },
    "vscode": {
      "interpreter": {
        "hash": "44a9cdcbdccbf05a880e90d2e6fe72470baab4d1b82472d890be0596ed887a6b"
      }
    }
  },
  "nbformat": 4,
  "nbformat_minor": 0
}
