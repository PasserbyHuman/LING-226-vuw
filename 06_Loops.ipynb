{
  "cells": [
    {
      "cell_type": "markdown",
      "metadata": {
        "colab_type": "text",
        "id": "view-in-github"
      },
      "source": [
        "<a href=\"https://colab.research.google.com/github/scskalicky/LING-226-vuw/blob/main/06_Loops.ipynb\" target=\"_parent\"><img src=\"https://colab.research.google.com/assets/colab-badge.svg\" alt=\"Open In Colab\"/></a>"
      ]
    },
    {
      "cell_type": "markdown",
      "metadata": {
        "id": "3e8UKdqXKPGR"
      },
      "source": [
        "# Traversal using `for` loops\n",
        "\n",
        "Being able to repeat the same action over a large set of data is one of the many benefits of learning how to use a programming language. One of the most fundamental ways to repeat an action is through the use of `for loops`. These are called `for loops` because they *loop* or repeat through a sequence of data, objects, values, or whatever you want to call them.\n",
        "\n",
        "What does the `for` mean? The use of \"for\" provides a hint about the way we control `for loops` — *for* specifies the units that will be looped over.\n",
        "\n",
        "For example, let's pretend we had a pile of documents that we wanted to shred. Our unit of measurement in this case is an individual document. So, if we wanted to shred each document one at a time, we could formalise this process using the following statement:\n",
        "\n",
        ">`for each document in all of my documents:`  \n",
        "\n",
        ">> `shred the document`  \n",
        "\n",
        "`... repeat until I run out of documents...`\n",
        "\n",
        "\n",
        "Applying this idea to Python, a `for loop` allows us to traverse an entire sequence and operate on elements of that sequence. For example, for each value in a sequence, we could:\n",
        "\n",
        "- print the value\n",
        "- use a built in method\n",
        "- create a new variable based on the value\n",
        "- update a counter\n",
        "- perform a conditional test\n",
        "- etc...\n",
        "\n",
        "Much like the `if` statements, the `for` loop will contain a header with a colon followed by an indented body:\n",
        "\n",
        ">`for thing in sequence_of_things:`  \n",
        ">>  `do something`\n",
        "\n",
        "\n",
        "Run the following cell to see how a `for` loop works.\n",
        "\n",
        "Because a string is a *sequence* of characters, the for loop will go through that sequence one-at-a-time."
      ]
    },
    {
      "cell_type": "code",
      "execution_count": 1,
      "metadata": {
        "id": "ugaOsnfjNyqC"
      },
      "outputs": [
        {
          "name": "stdout",
          "output_type": "stream",
          "text": [
            "w\n",
            "o\n",
            "r\n",
            "d\n"
          ]
        }
      ],
      "source": [
        "# Print out each character of a string.\n",
        "for letter in 'word':\n",
        "  print(letter)"
      ]
    },
    {
      "cell_type": "markdown",
      "metadata": {
        "id": "VlTVH5HJN-Tp"
      },
      "source": [
        "You may have noticed that there seemed to be a variable in the `for` loop named `letter`. Every `for` loop needs a temporary variable (or an `iterator`) to stand for the value that is being passed to the loop. In the example above, the value of `letter` changed each time the loop was run, starting with \"w\", then \"o\", then \"r\", then \"d\". Because this is a variable, you can set the name of the iterating variable to anything you want. The most common variable used in a `for` loop is the lower case `i`. But, you might find it worthwhile to name your variable something which makes it clear what is being looped over.\n",
        "\n",
        "For example, if I am going to loop over every word in a string, I might want to name my iterating variable `word`."
      ]
    },
    {
      "cell_type": "code",
      "execution_count": null,
      "metadata": {
        "id": "TihSp905P8M5"
      },
      "outputs": [],
      "source": [
        "# loop over every value resulting from .split() on a string.\n",
        "for word in 'every day is exactly the same'.split():\n",
        "  print(word)"
      ]
    },
    {
      "cell_type": "markdown",
      "metadata": {
        "id": "E8Wck1uBRtz_"
      },
      "source": [
        "Consider the next example, I'll define a list and ask for each value of the list to be printed to the console:"
      ]
    },
    {
      "cell_type": "code",
      "execution_count": 2,
      "metadata": {
        "id": "89ntETm-R0ZM"
      },
      "outputs": [],
      "source": [
        "# define a list containing different countries\n",
        "countries = ['New Zealand', 'Australia', 'United States of America', 'Canada', 'Mexico', 'Norway']"
      ]
    },
    {
      "cell_type": "code",
      "execution_count": 3,
      "metadata": {
        "id": "7DKu43aYSB2_"
      },
      "outputs": [
        {
          "name": "stdout",
          "output_type": "stream",
          "text": [
            "New Zealand\n",
            "Australia\n",
            "United States of America\n",
            "Canada\n",
            "Mexico\n",
            "Norway\n"
          ]
        }
      ],
      "source": [
        "# note I use \"country\" as the iterator\n",
        "# doing so helps me understand the nature of the values/data\n",
        "for country in countries:\n",
        "  print(country)"
      ]
    },
    {
      "cell_type": "markdown",
      "metadata": {
        "id": "9nnQr9p_Rg4K"
      },
      "source": [
        "## Conditional looping\n",
        "\n",
        "Now that we understand looping, let's add some conditional logic to make our loop perform different things, depending on the value it's seeing. Extend the prior example and print out a country only if the name of the country is six characters or more. I'll also use an `if/else` statement and string formatting to make [fancier print statements](https://realpython.com/python-f-strings/#f-strings-a-new-and-improved-way-to-format-strings-in-python)."
      ]
    },
    {
      "cell_type": "code",
      "execution_count": 4,
      "metadata": {
        "id": "9-FXDKf2SagG"
      },
      "outputs": [
        {
          "name": "stdout",
          "output_type": "stream",
          "text": [
            "New Zealand has a long name!\n",
            "Australia has a long name!\n",
            "United States of America has a long name!\n",
            "Canada has a short name!\n",
            "Mexico has a short name!\n",
            "Norway has a short name!\n"
          ]
        }
      ],
      "source": [
        "# start a loop through `countries`\n",
        "for country in countries:\n",
        "  # check the length, if its over six characters, do this\n",
        "  if len(country) > 6:\n",
        "    print(f'{country} has a long name!')\n",
        "  # if the if statement returns False, do this instead\n",
        "  else:\n",
        "    # the f'' string lets you combine {variables} and strings in one string.\n",
        "    print(f'{country} has a short name!')"
      ]
    },
    {
      "cell_type": "markdown",
      "metadata": {
        "id": "1Fdr_18CURdN"
      },
      "source": [
        "Let's now check if our countries are in certain regions/continents. I will define two separate lists of our regions, containing some countries. Then I'll write a new `for` loop which uses `in` to find which region a country belongs to."
      ]
    },
    {
      "cell_type": "code",
      "execution_count": 5,
      "metadata": {
        "id": "VqWJaLycUQWX"
      },
      "outputs": [],
      "source": [
        "# Define our two regions\n",
        "australasia = ['New Zealand', 'Australia']\n",
        "north_america = ['Canada', 'United States of America', 'Mexico']"
      ]
    },
    {
      "cell_type": "code",
      "execution_count": 6,
      "metadata": {
        "id": "eqWecgEEUi-u"
      },
      "outputs": [
        {
          "name": "stdout",
          "output_type": "stream",
          "text": [
            "New Zealand is in Australasia!\n",
            "Australia is in Australasia!\n",
            "United States of America is in North America!\n",
            "Canada is in North America!\n",
            "Mexico is in North America!\n",
            "dunno where Norway is.\n"
          ]
        }
      ],
      "source": [
        "# check where our countries are\n",
        "for country in countries:\n",
        "  if country in australasia:\n",
        "    print(f'{country} is in Australasia!')\n",
        "  elif country in north_america:\n",
        "    print(f'{country} is in North America!')\n",
        "  else:\n",
        "    print(f'dunno where {country} is.')"
      ]
    },
    {
      "cell_type": "markdown",
      "metadata": {
        "id": "yz52cSYNqZUA"
      },
      "source": [
        "## Looping to check properties of words\n",
        "\n",
        "In a previous notebook I asked two questions about words/language you might want to answer:\n",
        "\n",
        "- what if you wanted to find all of the uppercase letters in the string `\"Victoria University of Wellington\"`?\n",
        "\n",
        "- what if you wanted to find all the words in a book which were over five letters long?\n",
        "\n",
        "Now that you have an understanding of conditional expressions and for loops, we can easily answer these questions. Can you figure them out? The first question would require looping over the characters in the string and checking whether `.isupper()` returns `True`. The second question would require looping over the words in a book and checking if `len(word)` is greater than five characters."
      ]
    },
    {
      "cell_type": "code",
      "execution_count": null,
      "metadata": {
        "id": "RrOgd2D1Vb5r"
      },
      "outputs": [],
      "source": [
        "vuw = \"Victoria University of Wellington\"\n",
        "\n",
        "for character in vuw:\n",
        "  # note that this essentially asks `if character.isupper() == True`\n",
        "  if character.isupper():\n",
        "    print(f'{character} is an uppercased character!')\n",
        "  else:\n",
        "    # the \"\\\" in the ain\\'t escapes the apostrophe so the string doesn't end on that apostrophe\n",
        "    print(f'{character} ain\\'t uppercased')"
      ]
    },
    {
      "cell_type": "markdown",
      "metadata": {
        "id": "ldF0Va8jbX5f"
      },
      "source": [
        "I'm going to read in a text from the internet in the next cell to demonstrate a longer text.  It's okay if you don't get what's going on, and we'll dig into this later.\n",
        "\n",
        "- I'm loading in a new library which allows us to read data from URLs\n",
        "- I'm then saving a URL of my choice as a string to the variable `url` (I already know this text is stored at this URL).  \n",
        "- I'm then asking the `request()` function to grab and decode the data associated with the URL.\n",
        "- decoding the text involves reading it (`.read()`) and decoding it (`.decode()`) using a specific encoding format (`'utf8'`).\n",
        "\n",
        "The result is the text data read in as a string. You can manually enter the URL into your browser to see what the data looks like."
      ]
    },
    {
      "cell_type": "code",
      "execution_count": 7,
      "metadata": {
        "id": "Tld_og2sZXMJ"
      },
      "outputs": [
        {
          "name": "stdout",
          "output_type": "stream",
          "text": [
            "One bright day in late autumn a family of Ants were bustling about in the warm sunshine, drying out the grain they had stored up during the summer, when a starving Grasshopper, his fiddle under his arm, came up and humbly begged for a bite to eat.\n",
            "\"What!\" cried the Ants in surprise, \"haven't you stored anything away for the winter? What in the world were you doing all last summer?\"\n",
            "\"I didn't have time to store up any food,\" whined the Grasshopper; \"I was so busy making music that before I knew it the summer was gone.\"\n",
            "The Ants shrugged their shoulders in disgust.\n",
            "\"Making music, were you?\" they cried. \"Very well; now dance!\" And they turned their backs on the Grasshopper and went on with their work.\n",
            "There's a time for work and a time for play.\n",
            "\n"
          ]
        }
      ],
      "source": [
        "# import the request() function\n",
        "from urllib import request\n",
        "\n",
        "# save url to a variable\n",
        "url = 'https://raw.githubusercontent.com/scskalicky/LING-226-vuw/main/sample-texts/grasshopper.txt'\n",
        "\n",
        "# save the results of that url to a new variables\n",
        "response = request.urlopen(url)\n",
        "\n",
        "# decode the text\n",
        "grasshopper = response.read().decode('utf8')\n",
        "\n",
        "# examine the results\n",
        "print(grasshopper)"
      ]
    },
    {
      "cell_type": "markdown",
      "metadata": {
        "id": "cNuQxMsebunj"
      },
      "source": [
        "Now that we have a longer test loaded in, let's operate on each word of the text."
      ]
    },
    {
      "cell_type": "code",
      "execution_count": 9,
      "metadata": {
        "id": "XZpZc-B9buLU"
      },
      "outputs": [
        {
          "name": "stdout",
          "output_type": "stream",
          "text": [
            "One \t\t must be five chars or less\n",
            "bright \t\t is over five characters long!\n",
            "day \t\t must be five chars or less\n",
            "in \t\t must be five chars or less\n",
            "late \t\t must be five chars or less\n",
            "autumn \t\t is over five characters long!\n",
            "a \t\t must be five chars or less\n",
            "family \t\t is over five characters long!\n",
            "of \t\t must be five chars or less\n",
            "Ants \t\t must be five chars or less\n",
            "were \t\t must be five chars or less\n",
            "bustling \t\t is over five characters long!\n",
            "about \t\t must be five chars or less\n",
            "in \t\t must be five chars or less\n",
            "the \t\t must be five chars or less\n",
            "warm \t\t must be five chars or less\n",
            "sunshine, \t\t is over five characters long!\n",
            "drying \t\t is over five characters long!\n",
            "out \t\t must be five chars or less\n",
            "the \t\t must be five chars or less\n",
            "grain \t\t must be five chars or less\n",
            "they \t\t must be five chars or less\n",
            "had \t\t must be five chars or less\n",
            "stored \t\t is over five characters long!\n",
            "up \t\t must be five chars or less\n",
            "during \t\t is over five characters long!\n",
            "the \t\t must be five chars or less\n",
            "summer, \t\t is over five characters long!\n",
            "when \t\t must be five chars or less\n",
            "a \t\t must be five chars or less\n",
            "starving \t\t is over five characters long!\n",
            "Grasshopper, \t\t is over five characters long!\n",
            "his \t\t must be five chars or less\n",
            "fiddle \t\t is over five characters long!\n",
            "under \t\t must be five chars or less\n",
            "his \t\t must be five chars or less\n",
            "arm, \t\t must be five chars or less\n",
            "came \t\t must be five chars or less\n",
            "up \t\t must be five chars or less\n",
            "and \t\t must be five chars or less\n",
            "humbly \t\t is over five characters long!\n",
            "begged \t\t is over five characters long!\n",
            "for \t\t must be five chars or less\n",
            "a \t\t must be five chars or less\n",
            "bite \t\t must be five chars or less\n",
            "to \t\t must be five chars or less\n",
            "eat. \t\t must be five chars or less\n",
            "\"What!\" \t\t is over five characters long!\n",
            "cried \t\t must be five chars or less\n",
            "the \t\t must be five chars or less\n",
            "Ants \t\t must be five chars or less\n",
            "in \t\t must be five chars or less\n",
            "surprise, \t\t is over five characters long!\n",
            "\"haven't \t\t is over five characters long!\n",
            "you \t\t must be five chars or less\n",
            "stored \t\t is over five characters long!\n",
            "anything \t\t is over five characters long!\n",
            "away \t\t must be five chars or less\n",
            "for \t\t must be five chars or less\n",
            "the \t\t must be five chars or less\n",
            "winter? \t\t is over five characters long!\n",
            "What \t\t must be five chars or less\n",
            "in \t\t must be five chars or less\n",
            "the \t\t must be five chars or less\n",
            "world \t\t must be five chars or less\n",
            "were \t\t must be five chars or less\n",
            "you \t\t must be five chars or less\n",
            "doing \t\t must be five chars or less\n",
            "all \t\t must be five chars or less\n",
            "last \t\t must be five chars or less\n",
            "summer?\" \t\t is over five characters long!\n",
            "\"I \t\t must be five chars or less\n",
            "didn't \t\t is over five characters long!\n",
            "have \t\t must be five chars or less\n",
            "time \t\t must be five chars or less\n",
            "to \t\t must be five chars or less\n",
            "store \t\t must be five chars or less\n",
            "up \t\t must be five chars or less\n",
            "any \t\t must be five chars or less\n",
            "food,\" \t\t is over five characters long!\n",
            "whined \t\t is over five characters long!\n",
            "the \t\t must be five chars or less\n",
            "Grasshopper; \t\t is over five characters long!\n",
            "\"I \t\t must be five chars or less\n",
            "was \t\t must be five chars or less\n",
            "so \t\t must be five chars or less\n",
            "busy \t\t must be five chars or less\n",
            "making \t\t is over five characters long!\n",
            "music \t\t must be five chars or less\n",
            "that \t\t must be five chars or less\n",
            "before \t\t is over five characters long!\n",
            "I \t\t must be five chars or less\n",
            "knew \t\t must be five chars or less\n",
            "it \t\t must be five chars or less\n",
            "the \t\t must be five chars or less\n",
            "summer \t\t is over five characters long!\n",
            "was \t\t must be five chars or less\n",
            "gone.\" \t\t is over five characters long!\n",
            "The \t\t must be five chars or less\n",
            "Ants \t\t must be five chars or less\n",
            "shrugged \t\t is over five characters long!\n",
            "their \t\t must be five chars or less\n",
            "shoulders \t\t is over five characters long!\n",
            "in \t\t must be five chars or less\n",
            "disgust. \t\t is over five characters long!\n",
            "\"Making \t\t is over five characters long!\n",
            "music, \t\t is over five characters long!\n",
            "were \t\t must be five chars or less\n",
            "you?\" \t\t must be five chars or less\n",
            "they \t\t must be five chars or less\n",
            "cried. \t\t is over five characters long!\n",
            "\"Very \t\t must be five chars or less\n",
            "well; \t\t must be five chars or less\n",
            "now \t\t must be five chars or less\n",
            "dance!\" \t\t is over five characters long!\n",
            "And \t\t must be five chars or less\n",
            "they \t\t must be five chars or less\n",
            "turned \t\t is over five characters long!\n",
            "their \t\t must be five chars or less\n",
            "backs \t\t must be five chars or less\n",
            "on \t\t must be five chars or less\n",
            "the \t\t must be five chars or less\n",
            "Grasshopper \t\t is over five characters long!\n",
            "and \t\t must be five chars or less\n",
            "went \t\t must be five chars or less\n",
            "on \t\t must be five chars or less\n",
            "with \t\t must be five chars or less\n",
            "their \t\t must be five chars or less\n",
            "work. \t\t must be five chars or less\n",
            "There's \t\t is over five characters long!\n",
            "a \t\t must be five chars or less\n",
            "time \t\t must be five chars or less\n",
            "for \t\t must be five chars or less\n",
            "work \t\t must be five chars or less\n",
            "and \t\t must be five chars or less\n",
            "a \t\t must be five chars or less\n",
            "time \t\t must be five chars or less\n",
            "for \t\t must be five chars or less\n",
            "play. \t\t must be five chars or less\n"
          ]
        }
      ],
      "source": [
        "# do you remember what will result from .split()?\n",
        "for word in grasshopper.split():\n",
        "  if len(word) > 5:\n",
        "    # \\t means tab, it's what creates the space in the output\n",
        "    print(f'{word} \\t is over five characters long!')\n",
        "  else:\n",
        "    print(f'{word} \\t must be five chars or less')\n",
        "\n",
        "\n",
        "# Examine the output. How accurate is this program? Are there any words that are incorrectly counted? Why is that happening?"
      ]
    },
    {
      "cell_type": "markdown",
      "metadata": {
        "id": "psuodCPE78Pz"
      },
      "source": [
        "# Building something with a loop\n",
        "\n",
        "The two loops above show you how they work, but they only end up printing something to the console, which is not very useful. What is more useful is to create new values or objects from a loop, as well as put the loop inside of a function.\n",
        "\n",
        "For example, pretend that in addition to finding the words that are over five letters long, we then want to do something to those words and store the results for later use.\n",
        "\n",
        "One way to do so is to create an empty data container, such as a list, and then add words to the container if they pass a condition test. The cell below does the following:\n",
        "\n",
        "1. creates an empty list named `output`\n",
        "2. loops through the results of using `.split()` on grasshooper (which is a list of each word)\n",
        "3. checks whether a word is over five characters long\n",
        "4. If the word is over five characters long, it is added to `output` using the `.append()` list method."
      ]
    },
    {
      "cell_type": "code",
      "execution_count": 12,
      "metadata": {
        "id": "VcbQcetu-KiV"
      },
      "outputs": [
        {
          "name": "stdout",
          "output_type": "stream",
          "text": [
            "bright\n",
            "autumn\n",
            "family\n",
            "bustling\n",
            "sunshine,\n",
            "drying\n",
            "stored\n",
            "during\n",
            "summer,\n",
            "starving\n",
            "Grasshopper,\n",
            "fiddle\n",
            "humbly\n",
            "begged\n",
            "\"What!\"\n",
            "surprise,\n",
            "\"haven't\n",
            "stored\n",
            "anything\n",
            "winter?\n",
            "summer?\"\n",
            "didn't\n",
            "food,\"\n",
            "whined\n",
            "Grasshopper;\n",
            "making\n",
            "before\n",
            "summer\n",
            "gone.\"\n",
            "shrugged\n",
            "shoulders\n",
            "disgust.\n",
            "\"Making\n",
            "music,\n",
            "cried.\n",
            "dance!\"\n",
            "turned\n",
            "Grasshopper\n",
            "There's\n"
          ]
        }
      ],
      "source": [
        "# output starts out empty\n",
        "output = []\n",
        "\n",
        "# loop over every string in the list\n",
        "for word in grasshopper.split():\n",
        "  if len(word) > 5:\n",
        "    # each time a word in grasshopper meets this condition, it is added to output\n",
        "    output.append(word)\n",
        "\n",
        "# show the output - a list of words over 5 characters long.\n",
        "for word in output:\n",
        "  print(word)"
      ]
    },
    {
      "cell_type": "markdown",
      "metadata": {
        "id": "Az6wtILd_JY0"
      },
      "source": [
        "One issue with the cell above is that `output` is now part of the global environment, meaning that the variable exists independent of that for loop. Because everything is included in one cell, the value of `output` will be reset each time you run that cell. However, if `output` was in its own code cell, it would not be reset if the for loop was run multiple times. This would create a duplicated list over and over - so be careful!\n",
        "\n",
        "To prevent these sorts of troubles, we can write our own functions. This means the `output` variable and the for loop will live inside the function, making for less chances that variables get confused as your programs grow in complexity.\n",
        "\n",
        "Note the function below:\n",
        "\n",
        "1. first I define the function using `def` and name it `five_letters`\n",
        "2. the function takes one argument, `text` - this is an arbitrary name like any variable name\n",
        "3. On line 3 I create an empty list named `output`\n",
        "4. Line four defines a `for loop` over the words from `.split()`. Note that the variable `text` will stand for whatever input we give the function\n",
        "5. Line 5 has the conditional test\n",
        "6. Line 6 adds the word to the list if it passes the test (i.e., the condition returns `True`)\n",
        "7. Line 7 is a `return` statement which only executes once the `for` loop is complete.\n",
        "\n",
        "The `return` statement means we can save the *results* of this function to a new variable, or watch the results be sent to the console.\n",
        "\n",
        "Running the cell below loads the function into memory."
      ]
    },
    {
      "cell_type": "code",
      "execution_count": 13,
      "metadata": {
        "id": "1LE0hlgm_zdF"
      },
      "outputs": [],
      "source": [
        "# make a function to store five-letter words\n",
        "def five_letters(text):\n",
        "  output = []\n",
        "  for word in text.split():\n",
        "    if len(word) > 5:\n",
        "      output.append(word)\n",
        "  return output"
      ]
    },
    {
      "cell_type": "code",
      "execution_count": 14,
      "metadata": {
        "id": "AYQbjaRUEoyY"
      },
      "outputs": [
        {
          "data": {
            "text/plain": [
              "['bright',\n",
              " 'autumn',\n",
              " 'family',\n",
              " 'bustling',\n",
              " 'sunshine,',\n",
              " 'drying',\n",
              " 'stored',\n",
              " 'during',\n",
              " 'summer,',\n",
              " 'starving',\n",
              " 'Grasshopper,',\n",
              " 'fiddle',\n",
              " 'humbly',\n",
              " 'begged',\n",
              " '\"What!\"',\n",
              " 'surprise,',\n",
              " '\"haven\\'t',\n",
              " 'stored',\n",
              " 'anything',\n",
              " 'winter?',\n",
              " 'summer?\"',\n",
              " \"didn't\",\n",
              " 'food,\"',\n",
              " 'whined',\n",
              " 'Grasshopper;',\n",
              " 'making',\n",
              " 'before',\n",
              " 'summer',\n",
              " 'gone.\"',\n",
              " 'shrugged',\n",
              " 'shoulders',\n",
              " 'disgust.',\n",
              " '\"Making',\n",
              " 'music,',\n",
              " 'cried.',\n",
              " 'dance!\"',\n",
              " 'turned',\n",
              " 'Grasshopper',\n",
              " \"There's\"]"
            ]
          },
          "execution_count": 14,
          "metadata": {},
          "output_type": "execute_result"
        }
      ],
      "source": [
        "# now use the function on grasshopper\n",
        "# just running the function gives us the output.\n",
        "five_letters(grasshopper)"
      ]
    },
    {
      "cell_type": "code",
      "execution_count": 15,
      "metadata": {
        "id": "nO0bjO1jEsxz"
      },
      "outputs": [],
      "source": [
        "# we can also save the results of the function to a new variable\n",
        "grasshopper_five_letter_words = five_letters(grasshopper)"
      ]
    },
    {
      "cell_type": "code",
      "execution_count": 16,
      "metadata": {
        "id": "PwuZXmfOKNej"
      },
      "outputs": [
        {
          "data": {
            "text/plain": [
              "['bright',\n",
              " 'autumn',\n",
              " 'family',\n",
              " 'bustling',\n",
              " 'sunshine,',\n",
              " 'drying',\n",
              " 'stored',\n",
              " 'during',\n",
              " 'summer,',\n",
              " 'starving',\n",
              " 'Grasshopper,',\n",
              " 'fiddle',\n",
              " 'humbly',\n",
              " 'begged',\n",
              " '\"What!\"',\n",
              " 'surprise,',\n",
              " '\"haven\\'t',\n",
              " 'stored',\n",
              " 'anything',\n",
              " 'winter?',\n",
              " 'summer?\"',\n",
              " \"didn't\",\n",
              " 'food,\"',\n",
              " 'whined',\n",
              " 'Grasshopper;',\n",
              " 'making',\n",
              " 'before',\n",
              " 'summer',\n",
              " 'gone.\"',\n",
              " 'shrugged',\n",
              " 'shoulders',\n",
              " 'disgust.',\n",
              " '\"Making',\n",
              " 'music,',\n",
              " 'cried.',\n",
              " 'dance!\"',\n",
              " 'turned',\n",
              " 'Grasshopper',\n",
              " \"There's\"]"
            ]
          },
          "execution_count": 16,
          "metadata": {},
          "output_type": "execute_result"
        }
      ],
      "source": [
        "# look at the variable\n",
        "grasshopper_five_letter_words"
      ]
    },
    {
      "cell_type": "code",
      "execution_count": 17,
      "metadata": {
        "id": "VMUfx_eSEyFp"
      },
      "outputs": [
        {
          "name": "stdout",
          "output_type": "stream",
          "text": [
            "bustling \t is even longer than five!\n",
            "sunshine, \t is even longer than five!\n",
            "starving \t is even longer than five!\n",
            "Grasshopper, \t is even longer than five!\n",
            "surprise, \t is even longer than five!\n",
            "\"haven't \t is even longer than five!\n",
            "anything \t is even longer than five!\n",
            "summer?\" \t is even longer than five!\n",
            "Grasshopper; \t is even longer than five!\n",
            "shrugged \t is even longer than five!\n",
            "shoulders \t is even longer than five!\n",
            "disgust. \t is even longer than five!\n",
            "Grasshopper \t is even longer than five!\n"
          ]
        }
      ],
      "source": [
        "# Then we can perform new operations on our new variable!\n",
        "for word in grasshopper_five_letter_words:\n",
        "  if len(word) > 7:\n",
        "    print(f'{word} \\t is even longer than five!')"
      ]
    },
    {
      "cell_type": "markdown",
      "metadata": {
        "id": "yXxRj63ocuAf"
      },
      "source": [
        "# List Comprehensions\n",
        "\n",
        "So now that you've learned `for loops`, it's time to learn an alternative method which is commonly used in Python. This alternative method is effectively an efficient shorthand for looping and unpacking, which you will see used excessivly in the NLTK book as well as almost anywhere else someone is using Python.\n",
        "\n",
        "This alternative format is known as a `list comprehension`. List comprehensions are good because they provide efficiency, but they can be a bit tricky to interpret when you first see them.\n",
        "\n",
        "The general syntax of a list comprehension is as follows:\n",
        "\n",
        "> `[statement/expression for value in sequence/generator]`\n",
        "\n",
        "The list comprehension above uses `[]`, just like a list, and will indeed return a list of values which meet the statement or expression indicated in the *first* part of the list comprehension.\n",
        "\n",
        "In the next cell you will see a simple list comprehension. You'll note in the example below  says `letter for letter`, which can be interpreted as \"for each value, give me the value\". In other words, it is asking for each thing in something else - that is the basic type of statement or expression. This is the basic way to unpack a sequence into a `list`, rather than spitting each value out one-at-a-time like a `for loop`.\n",
        "\n"
      ]
    },
    {
      "cell_type": "code",
      "execution_count": 18,
      "metadata": {
        "id": "hqpZeHA-HOP-"
      },
      "outputs": [
        {
          "data": {
            "text/plain": [
              "['w', 'o', 'r', 'd']"
            ]
          },
          "execution_count": 18,
          "metadata": {},
          "output_type": "execute_result"
        }
      ],
      "source": [
        "# ask for each letter in \"word\"\n",
        "# note that the results are a list\n",
        "[letter for letter in 'word']"
      ]
    },
    {
      "cell_type": "markdown",
      "metadata": {
        "id": "J-FIhjJDUk34"
      },
      "source": [
        "To achieve the same effect using a `for` loop, we would have to define a temporary output container and `.append()` or otherwise join or value to that container. A list comprehension avoids the need to do this.\n"
      ]
    },
    {
      "cell_type": "code",
      "execution_count": null,
      "metadata": {
        "id": "lRcjavvSUoUY"
      },
      "outputs": [],
      "source": [
        "# list comprehension helps us avoid the need to make empty containers and fill them\n",
        "output = []\n",
        "\n",
        "for letter in 'word':\n",
        "  output.append(letter)\n",
        "\n",
        "output"
      ]
    },
    {
      "cell_type": "markdown",
      "metadata": {
        "id": "II6zOxCwUydn"
      },
      "source": [
        "Hopefully you can see how a list comprehension is useful — for instance we can save the results of a list comprehension directly to a variable, bypassing the need to create empty storage containers:"
      ]
    },
    {
      "cell_type": "code",
      "execution_count": null,
      "metadata": {
        "id": "soor1ZN-U6Ri"
      },
      "outputs": [],
      "source": [
        "letters = [letter for letter in 'word']\n",
        "letters"
      ]
    },
    {
      "cell_type": "markdown",
      "metadata": {
        "id": "9kpuVMZhVxtL"
      },
      "source": [
        "## Performing operations in a list comprehension\n",
        "\n",
        "The expressionon the left side of the list comprehension (before the `for`) is the place where we can perform operations on the values we are looping across. So, instead of just returning the value, we could do things like measure their length, convert to uppercase, or any other number of functions.\n",
        "\n",
        "The example below returns an upper cased version of each letter:"
      ]
    },
    {
      "cell_type": "code",
      "execution_count": 24,
      "metadata": {
        "id": "DhU6eFwFWBCg"
      },
      "outputs": [
        {
          "data": {
            "text/plain": [
              "['W', 'O', 'R', 'D']"
            ]
          },
          "execution_count": 24,
          "metadata": {},
          "output_type": "execute_result"
        }
      ],
      "source": [
        "# this is equivalent to: for each letter in word, return letter.upper()\n",
        "upper_cased = [letter.upper() for letter in 'word']\n",
        "upper_cased"
      ]
    },
    {
      "cell_type": "markdown",
      "metadata": {
        "id": "pbvoRWHYWGg5"
      },
      "source": [
        "The next example measures the length of words:\n",
        "\n",
        "- note how I just use `w` as my iterator, not as transparent, but quicker to type\n",
        "- note how I use `.split()` on a raw string - this means the loop will be over values in a list"
      ]
    },
    {
      "cell_type": "code",
      "execution_count": 25,
      "metadata": {
        "id": "YaU_rMw3WJkV"
      },
      "outputs": [
        {
          "data": {
            "text/plain": [
              "[5, 8, 3, 6, 2, 8]"
            ]
          },
          "execution_count": 25,
          "metadata": {},
          "output_type": "execute_result"
        }
      ],
      "source": [
        "# this is equivalent to: for each word in pretzels.split(), tell me the length of the word\n",
        "word_lengths = [len(w) for w in 'these pretzels are making me thirsty!'.split()]\n",
        "word_lengths"
      ]
    },
    {
      "cell_type": "markdown",
      "metadata": {
        "id": "_sJpH88oWUEz"
      },
      "source": [
        "We can wrap the left-side expression in its own container to generate smaller sequences of values:\n",
        "\n",
        "- note how I include two versions of `w` inside square brackets `[]`, the first `w` returns the value itself, while `len(w)` returns the length of w. Because they are in square brackets, they form their own list inside the larger list."
      ]
    },
    {
      "cell_type": "code",
      "execution_count": 27,
      "metadata": {
        "id": "cdpFATgFWcI4"
      },
      "outputs": [
        {
          "data": {
            "text/plain": [
              "[{5, 'these'},\n",
              " {8, 'pretzels'},\n",
              " {3, 'are'},\n",
              " {6, 'making'},\n",
              " {2, 'me'},\n",
              " {8, 'thirsty!'}]"
            ]
          },
          "execution_count": 27,
          "metadata": {},
          "output_type": "execute_result"
        }
      ],
      "source": [
        "# this is equivalent to: for each word in pretzels.split(), give me the word and the length of a word inside a new list\n",
        "word_and_word_lengths = [[w, len(w)] for w in 'these pretzels are making me thirsty!'.split()]\n",
        "word_and_word_lengths"
      ]
    },
    {
      "cell_type": "markdown",
      "metadata": {
        "id": "n3GpLHAaU-1Z"
      },
      "source": [
        "## Adding conditions to a list comprehension\n",
        "\n",
        "Just as we did with `for loops`, we can add conditional logic to a list comprehension so that only certain values or operations are applied.\n",
        "\n",
        "We use the right side of the list comprehension for this (the stuff after the `in`).\n",
        "\n",
        "The syntax looks like this:\n",
        "\n",
        "> `[expression for value in sequence if CONDITION]`\n",
        "\n",
        "For example, the following list comprehension includes an `if` statement that checks for whether the character is uppercased:"
      ]
    },
    {
      "cell_type": "code",
      "execution_count": null,
      "metadata": {
        "id": "EYMt6TwXIvBH"
      },
      "outputs": [],
      "source": [
        "# Let's make the acronym VUW\n",
        "# this is equivalent to: for each character in the string, give me that character if the character is upper cased.\n",
        "[w for w in 'Victoria University of Wellington' if w.isupper()]"
      ]
    },
    {
      "cell_type": "markdown",
      "metadata": {
        "id": "KrWRT0E6JIP9"
      },
      "source": [
        "The next example builds upon an earlier example of a `for` loop to find words over five characters long in our grasshopper example. As a reminder, here is what the `for` loop looked like:\n",
        "\n",
        "```\n",
        "output = []\n",
        "for word in grasshopper.split():\n",
        "  if len(word) > 5:\n",
        "    output.append(word)\n",
        "```\n",
        "\n",
        "Now see how the list comprehension does the same thing in a more compact manner:"
      ]
    },
    {
      "cell_type": "code",
      "execution_count": null,
      "metadata": {
        "id": "VvCd8DazJBcz"
      },
      "outputs": [],
      "source": [
        "# give me those 5 letter or more words!\n",
        "[word for word in grasshopper.split() if len(word) > 5]"
      ]
    },
    {
      "cell_type": "markdown",
      "metadata": {
        "id": "KjC8WVxeKOIW"
      },
      "source": [
        "The sky is the limit. You can include as many complex conditional and expressions as you need. Sometimes list comprehensions can become *too* complex and unreadable, but some people enjoy the challenge of making such \"one liners\"."
      ]
    },
    {
      "cell_type": "code",
      "execution_count": 28,
      "metadata": {
        "id": "ivBrMVy4KUR4"
      },
      "outputs": [
        {
          "data": {
            "text/plain": [
              "[['bustling', 'BUSTLING', 8],\n",
              " ['sunshine,', 'SUNSHINE,', 9],\n",
              " ['starving', 'STARVING', 8],\n",
              " ['surprise,', 'SURPRISE,', 9],\n",
              " ['\"haven\\'t', '\"HAVEN\\'T', 8],\n",
              " ['anything', 'ANYTHING', 8],\n",
              " ['summer?\"', 'SUMMER?\"', 8],\n",
              " ['shrugged', 'SHRUGGED', 8],\n",
              " ['shoulders', 'SHOULDERS', 9],\n",
              " ['disgust.', 'DISGUST.', 8]]"
            ]
          },
          "execution_count": 28,
          "metadata": {},
          "output_type": "execute_result"
        }
      ],
      "source": [
        "# can you understand what's going on in this one?\n",
        "[[w, w.upper(), len(w)] for w in grasshopper.split() if w.islower() and len(w) > 7]"
      ]
    },
    {
      "cell_type": "markdown",
      "metadata": {
        "id": "-xK5tHHKJscV"
      },
      "source": [
        "# Should you always use list comprehensions?\n",
        "\n",
        "There are a [number of benefits](https://realpython.com/list-comprehension-python/) in using list comprehensions. But there is also something beneficial about writing a `for loop`, especially when you are just starting out. A `for loop` *can* be a bit more readable at first, but you may also find the transition between the two becomes easier over time. If you want to stick with `for loops` in this course, that is okay!\n",
        "\n"
      ]
    }
  ],
  "metadata": {
    "colab": {
      "authorship_tag": "ABX9TyMNCA9kMoCpuE3nknnqnU5D",
      "include_colab_link": true,
      "private_outputs": true,
      "provenance": []
    },
    "kernelspec": {
      "display_name": "Python 3",
      "name": "python3"
    },
    "language_info": {
      "codemirror_mode": {
        "name": "ipython",
        "version": 3
      },
      "file_extension": ".py",
      "mimetype": "text/x-python",
      "name": "python",
      "nbconvert_exporter": "python",
      "pygments_lexer": "ipython3",
      "version": "3.11.6"
    }
  },
  "nbformat": 4,
  "nbformat_minor": 0
}
