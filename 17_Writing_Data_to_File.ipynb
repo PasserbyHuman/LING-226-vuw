{
  "nbformat": 4,
  "nbformat_minor": 0,
  "metadata": {
    "colab": {
      "private_outputs": true,
      "provenance": [],
      "authorship_tag": "ABX9TyNaSOyqYwdwHZgClmzAJ3ko",
      "include_colab_link": true
    },
    "kernelspec": {
      "name": "python3",
      "display_name": "Python 3"
    },
    "language_info": {
      "name": "python"
    }
  },
  "cells": [
    {
      "cell_type": "markdown",
      "metadata": {
        "id": "view-in-github",
        "colab_type": "text"
      },
      "source": [
        "<a href=\"https://colab.research.google.com/github/scskalicky/LING-226-vuw/blob/main/17_Writing_Data_to_File.ipynb\" target=\"_parent\"><img src=\"https://colab.research.google.com/assets/colab-badge.svg\" alt=\"Open In Colab\"/></a>"
      ]
    },
    {
      "cell_type": "markdown",
      "source": [
        "# Getting your results out of Colab\n",
        "\n",
        "Most of the output in these notebooks is printed directly in the notebook, usually underneath the code cells. This is usually fine for our purposes. However, it is also worthwhile to know how you could turn your results into actual files. You might want to create new text files, or save results of linguistic analysis\n",
        "for many texts to to a new text file or spreadsheet. This notebook will show you a few options for how to accomplish this."
      ],
      "metadata": {
        "id": "vECnIAGd6cpw"
      }
    },
    {
      "cell_type": "markdown",
      "source": [
        "# Writing to a text file\n",
        "\n",
        "Writing directly to a file in Python involves first opening the file and then adding information to the file.\n",
        "\n",
        "To open a file, you use the `open()` function. This function needs to point at the file in question, so the full file path needs to be supplied. In this case, we could either write to our Google Drive (assuming our Drive is mounted), or directly to the notebok environment.\n",
        "\n",
        "The filepath to the environment is `/content/...`, so for simplicity let's stick with that for now (plus we do not need to dally with mounting the Google Drive!).\n",
        "\n",
        "So, if we wanted to write to a file named `'test.txt` in our enrivonment, we would write something like this:\n",
        "\n",
        "```\n",
        "open('/content/text.txt')\n",
        "```\n",
        "However, we need to open the file and keep it open, so we can save the results to a variable.\n",
        "\n",
        "\n",
        "```\n",
        "myfile = open('/content/text.txt')\n",
        "```\n",
        "\n"
      ],
      "metadata": {
        "id": "Mb1dz5ZIhpR8"
      }
    },
    {
      "cell_type": "markdown",
      "source": [
        "Run the cell below to try this out. You should receive an error telling you that no such file or directory exists. This makes sense, because we have not made this file!"
      ],
      "metadata": {
        "id": "F4JCpjsQkS6Y"
      }
    },
    {
      "cell_type": "code",
      "execution_count": null,
      "metadata": {
        "id": "bCoUfasN6aW4"
      },
      "outputs": [],
      "source": [
        "myfile = open('/content/text.txt')"
      ]
    },
    {
      "cell_type": "markdown",
      "source": [
        "So, how do we create a file if it does not already exist? They answer is by supplying options to the `mode` argument within the `open()` function. This argument tells Python what to do with files that do not exist, as well as files that do exist. The default `mode` is `r`, which means read only. There are other flags which control whether a file is created, whether it is available for reading and/or writing, and whether data should be added to the start or end of the file. [You can find a good answer about this here.](https://stackoverflow.com/questions/1466000/difference-between-modes-a-a-w-w-and-r-in-built-in-open-function)\n",
        "\n",
        "So, if we wanted to first create a file and then continue to add data to the file, the `a+` mode is a good choice. This mode opens a file for writing (and creates the file it it doesn't exist), and then adds data to the end of the file.\n",
        "\n",
        "Let's try it out:\n",
        "\n"
      ],
      "metadata": {
        "id": "Al3rtX9tkeNT"
      }
    },
    {
      "cell_type": "code",
      "source": [
        "myfile = open('/content/text.txt', mode = 'a+')"
      ],
      "metadata": {
        "id": "7S2Opp_moJRp"
      },
      "execution_count": null,
      "outputs": []
    },
    {
      "cell_type": "markdown",
      "source": [
        "You can verify that this file has been created by looking within the notebook environment. Next, we want to add some information to this file. We can do so with the `.write()` method, where we place the information we want to be added to the file in the argument.\n",
        "\n",
        "Let's write a single sentence to the file. After writing, let's close the file as well."
      ],
      "metadata": {
        "id": "HuqrYBMxoT4P"
      }
    },
    {
      "cell_type": "code",
      "source": [
        "myfile.write('take rests as long as you need, but for shorter than you want. ')\n",
        "myfile.close()"
      ],
      "metadata": {
        "id": "xskSFbUeoht_"
      },
      "execution_count": null,
      "outputs": []
    },
    {
      "cell_type": "markdown",
      "source": [
        "Now we can load the file again using `mode = 'r'` to see what is in the file. We will add `.read()` to the end to access the content of the file.\n",
        "\n",
        "You should see the sentence has been added to the text file."
      ],
      "metadata": {
        "id": "VXmzaqUno8OC"
      }
    },
    {
      "cell_type": "code",
      "source": [
        "open('/content/text.txt', mode = 'r').read()"
      ],
      "metadata": {
        "id": "A3BwfvOeo0h1"
      },
      "execution_count": null,
      "outputs": []
    },
    {
      "cell_type": "markdown",
      "source": [
        "Let's try adding another sentence to the file:"
      ],
      "metadata": {
        "id": "RAT8jIcspO4D"
      }
    },
    {
      "cell_type": "code",
      "source": [
        "# open the file\n",
        "myfile = open('/content/text.txt', mode = 'a+')\n",
        "\n",
        "# write to the file\n",
        "myfile.write('a nod\\'s as good as a wink to a blind bat!')\n",
        "\n",
        "# close the file\n",
        "myfile.close()"
      ],
      "metadata": {
        "id": "QbLdwLwbpyHX"
      },
      "execution_count": null,
      "outputs": []
    },
    {
      "cell_type": "markdown",
      "source": [
        "Take another look, we see that the new information was added to the file, after the data which had already been added. The result is a single long string of text."
      ],
      "metadata": {
        "id": "gN-BOvJEp4Yl"
      }
    },
    {
      "cell_type": "code",
      "source": [
        "open('/content/text.txt').read()"
      ],
      "metadata": {
        "id": "BsZhNnRaqENq"
      },
      "execution_count": null,
      "outputs": []
    },
    {
      "cell_type": "markdown",
      "source": [
        "What happens if we were to open the file with `mode = 'w+'` and add some more data?\n",
        "\n"
      ],
      "metadata": {
        "id": "pHR6CO3eunSJ"
      }
    },
    {
      "cell_type": "code",
      "source": [
        "# open the file\n",
        "myfile = open('/content/text.txt', mode = 'w+')\n",
        "\n",
        "# write to the file\n",
        "myfile.write('with your powers combined, I am Captain Planet!')\n",
        "\n",
        "# close the file\n",
        "myfile.close()"
      ],
      "metadata": {
        "id": "ccqxAoyCus8v"
      },
      "execution_count": null,
      "outputs": []
    },
    {
      "cell_type": "markdown",
      "source": [
        "What does the file look like now? Well, opening the file with `w` has overwritten the existing content. Therefore, is is crucially important to make sure you open files with the right mode! Sometimes you may want to continuously add to an existing file, whereas othertimes you may want to start over with a fresh file each time."
      ],
      "metadata": {
        "id": "Tmwn8GtBu6ju"
      }
    },
    {
      "cell_type": "code",
      "source": [
        "open('/content/text.txt').read()"
      ],
      "metadata": {
        "id": "vjf07U72u6Gi"
      },
      "execution_count": null,
      "outputs": []
    },
    {
      "cell_type": "markdown",
      "source": [
        "One nice thing about Colab is that you can manually download the files from the notebook environment onto your computer. Or you could have them saved directly to your Google Drive."
      ],
      "metadata": {
        "id": "SmyQllLOy44T"
      }
    },
    {
      "cell_type": "markdown",
      "source": [
        "# Creating a bunch of text files\n",
        "\n",
        "What if we had a list of texts or some other container of files we wanted to create individual text files for? Perhaps you wanted to create a corpus based on some sort of analysis you are already done, and your data is stored as dictionary?\n",
        "\n",
        "Let's make a sample dictionary:\n"
      ],
      "metadata": {
        "id": "UB6YVFUXvLRp"
      }
    },
    {
      "cell_type": "code",
      "source": [
        "sf_dict = {'JERRY': \"What's the deal with these pretzels?\",\n",
        "           'KRAMER': \"These pretzels are making me thirsty!\",\n",
        "           'GEORGE': 'We live in a society!'}"
      ],
      "metadata": {
        "id": "bQ08AXb4vftM"
      },
      "execution_count": null,
      "outputs": []
    },
    {
      "cell_type": "markdown",
      "source": [
        "We want to create a separate text file for each line in the dictionary. We therefore need to make a new filename for each text file. Using a loop, we could exploit the keys of the dictionary and use them as they names of the text files.\n",
        "\n",
        "Using string concatenation, we can glue the key to the file extension we want, in this case of `.txt`. Because we want a fresh file each time, we will use the `w+` mode."
      ],
      "metadata": {
        "id": "qVnZHTCRvtdU"
      }
    },
    {
      "cell_type": "code",
      "source": [
        "# initiate loop through the dictionary keys\n",
        "for key in sf_dict.keys():\n",
        "  # open the file with dictionary key + .txt as file name, using w+ mode\n",
        "  f = open(key + '.txt', 'w+')\n",
        "  # write the dictionary data to the text\n",
        "  f.write(sf_dict[key])\n",
        "  # close the file\n",
        "  f.close()"
      ],
      "metadata": {
        "id": "zD6fx3tcv6Po"
      },
      "execution_count": null,
      "outputs": []
    },
    {
      "cell_type": "code",
      "source": [
        "# we can loop through the files and open them to read them\n",
        "for key in sf_dict.keys():\n",
        "  print(open('/content/' + key + '.txt').read())"
      ],
      "metadata": {
        "id": "ojUwq2ejwd3M"
      },
      "execution_count": null,
      "outputs": []
    },
    {
      "cell_type": "markdown",
      "source": [
        "Pretty easy, right? That's how you can quickly make a bunch of text files separated from larger texts or analyses, which can come in handy for making your own corpora."
      ],
      "metadata": {
        "id": "23J8o43OwPdp"
      }
    },
    {
      "cell_type": "markdown",
      "source": [
        "# writing results of analyses as text files\n",
        "\n",
        "In addition to writing text to file, we might want to make a text file which holds the results of an analysis. For instance, we might want to collect the name of a text, the number of words in a text, etc.\n",
        "\n",
        "Or, we may want to output the results of a frequency distribution to a text file, so that we do not have to run the notebook over and over.\n",
        "\n",
        "The procedure for doing so is the exact same, but we may want to start including different whitespace characters to insert tabs and newlines as a means to organise the data.\n",
        "\n",
        "Let's see this with a frequency analysis of a small text."
      ],
      "metadata": {
        "id": "kuhc_8VBw27S"
      }
    },
    {
      "cell_type": "code",
      "source": [
        "# import nltk to use FreqDist\n",
        "import nltk\n",
        "\n",
        "# create text, with .split() at the end to tokenize\n",
        "woodchuck = \"\"\"\n",
        "How much wood could a woodchuck chuck\n",
        "If a woodchuck could chuck wood?\n",
        "As much wood as a woodchuck could chuck,\n",
        "If a woodchuck could chuck wood.\n",
        "\"\"\".split()\n",
        "\n",
        "# create FreqDist of text\n",
        "fdist = nltk.FreqDist(woodchuck)"
      ],
      "metadata": {
        "id": "PuBxDgI0xP0a"
      },
      "execution_count": null,
      "outputs": []
    },
    {
      "cell_type": "markdown",
      "source": [
        "We will loop through the FreqDist and add the word plus its frequency to a text file. Crucially, we will separate the words and their frequency values with a tab character `'\\t'`, and add a newline `'\\n'` so that each word/frequency value is on its own line. We will write this to a file called `'woodchuckFreq.txt'`\n",
        "\n",
        "In order to use string concatenation, we will have to convert the number into a string using `str()`"
      ],
      "metadata": {
        "id": "3mYMiUrpxwFa"
      }
    },
    {
      "cell_type": "code",
      "source": [
        "for key in fdist.keys():\n",
        "  f = open('/content/woodchuckFreq.txt', 'a+')\n",
        "  f.write(key + '\\t' + str(fdist[key]) + '\\n')\n",
        "  f.close()\n"
      ],
      "metadata": {
        "id": "3EBkhhokxgRX"
      },
      "execution_count": null,
      "outputs": []
    },
    {
      "cell_type": "markdown",
      "source": [
        "Inspect the file - if we split on newlines, we can see how the file  shows the data. And, if you manually download the file and open it in a text editor, you will see that each word/frequency pair is on its own line."
      ],
      "metadata": {
        "id": "G-eSQqYsyYf0"
      }
    },
    {
      "cell_type": "code",
      "source": [
        "open('/content/woodchuckFreq.txt').read().split('\\n')"
      ],
      "metadata": {
        "id": "IIpjae9syZVr"
      },
      "execution_count": null,
      "outputs": []
    },
    {
      "cell_type": "markdown",
      "source": [
        "Annoyingly, our code inserts a newline at the final part of the loop, which means that the text file will have an empty newline at the end. How could this be resolved?\n",
        "\n",
        "1. You could use `if`/`else` logic to add newlines for all lines except the last line of the loop\n",
        "2. You could use `rstrip()` to string the leading/trailing newline characters\n",
        "3. calculate the text to be written in a loop, and then write only one time, after using `rstrip()`\n",
        "4. You could manually open the text file and delete it (sometimes the manual ways are the faster ways...but only somtimes).\n",
        "5. Likely many other ways..."
      ],
      "metadata": {
        "id": "dUrmbJs1zDbv"
      }
    },
    {
      "cell_type": "markdown",
      "source": [
        "# with open\n",
        "\n",
        "Now that you understand file reading and writing, time to introduce one more common thing you will encounter with Python file writing, the `with` statement.\n",
        "\n",
        "[You can read some good answers about `with` on Stack Overflow](https://stackoverflow.com/questions/3012488/what-is-the-python-with-statement-designed-for), but the details are not super important for our purposes. This information is included primarily because many examples of reading/writing files in Python will be accompanied with these statements.\n",
        "\n",
        "Basically, instead of opening and closing a file each time in a loop, we can hold the file open using `with`, perform all of the looping and writing while it is open, and then safely close it.\n",
        "\n",
        "To use `with`, simply use it before the `open()` statement and include an `as variable` followed by a colon. This creates a header within which you can perform looping to read/write to the file."
      ],
      "metadata": {
        "id": "Bj8VfZ0p-yB4"
      }
    },
    {
      "cell_type": "code",
      "source": [
        "# hold this file open as the variable `textfile`\n",
        "with open('/content/withtext.txt', 'w+') as textfile:\n",
        "  # initate a loop (what is enumerate doing? How is it used in the .write() line?)\n",
        "  for index, word in enumerate('every day is exactly the same'.split()):\n",
        "    # write to the same file\n",
        "    textfile.write(word + str(index) + '\\n')"
      ],
      "metadata": {
        "id": "AVdA6LK8_t13"
      },
      "execution_count": null,
      "outputs": []
    },
    {
      "cell_type": "markdown",
      "source": [
        "Test that it worked:"
      ],
      "metadata": {
        "id": "fo6cRaDqAQNt"
      }
    },
    {
      "cell_type": "code",
      "source": [
        "# do you understand what is going on in this list comprehension? what is the .rstrip() doing?\n",
        "[word for word in open('/content/withtext.txt').read().rstrip().split('\\n')]"
      ],
      "metadata": {
        "id": "liyn6vY2APAW"
      },
      "execution_count": null,
      "outputs": []
    },
    {
      "cell_type": "markdown",
      "source": [
        "# creating .csv files (spreadsheets)\n",
        "\n",
        "Writing text to file is useful, and can also be used to write out data results from analyses. But text files are only structured when they have tabs and newlines separating them. What if we wanted to write to a spreadsheet instead of a text file? We can! Specifically, we can use create a comma separate values file (`.csv`) which works like a spreadsheet and can be opened in programs like Google Sheets, Excel, or Libre Office.\n",
        "\n",
        "This is particularly useful for tabular data, such as if you had a series of metrics for a text: total number of words, sentences, TTR, etc. So that data that looks like this can be created easily as a csv file:\n",
        "\n",
        "|text|words|sentences|TTR|\n",
        "|:-:|:-:|:-:|:-:|\n",
        "|text1|200|10|.7|\n",
        "|text2|100|10|.9|\n",
        "\n",
        "\n",
        "\n",
        "Let's first create some data that could be written to a csv file like this. We will import two of the datasets from The Current, and save their filenames in a list."
      ],
      "metadata": {
        "id": "LC6kyxCawxOS"
      }
    },
    {
      "cell_type": "code",
      "source": [
        "# plastic ban question data\n",
        "# load the TP007 data to the notebook environment\n",
        "!wget 'https://raw.githubusercontent.com/scskalicky/LING-226-vuw/main/the-current/tp007.txt'\n",
        "\n",
        "# indoor only cats question data\n",
        "# load the TP003 data to the notebook environment\n",
        "!wget 'https://raw.githubusercontent.com/scskalicky/LING-226-vuw/main/the-current/tp003.txt'\n",
        "\n",
        "mytexts = ['tp003.txt','tp007.txt']"
      ],
      "metadata": {
        "id": "tQ-HWsDxPaXr"
      },
      "execution_count": null,
      "outputs": []
    },
    {
      "cell_type": "markdown",
      "source": [
        "Having loaded these two texts in, let's calculate the number of words, sentences, and TTR for each text, and then write that information to a csv file. We will do this row by row, so to speak.\n",
        "\n",
        "First, import the csv library"
      ],
      "metadata": {
        "id": "hFcQ5E1cP0Ot"
      }
    },
    {
      "cell_type": "code",
      "source": [
        "# import the csv library\n",
        "import csv"
      ],
      "metadata": {
        "id": "YfRrp_AgOkUN"
      },
      "execution_count": null,
      "outputs": []
    },
    {
      "cell_type": "markdown",
      "source": [
        "Using the `csv` library is similar to `open` for writing text. We will use `with` and `open` to hold a csvfile open, and then use the `csvreader` or `csvwriter` classes to create csv files. The same modes also apply, so be sure whether you want to create a new file, or append to an existing file.\n",
        "\n",
        "\n",
        "\n"
      ],
      "metadata": {
        "id": "ZmcPeK5wOWH4"
      }
    },
    {
      "cell_type": "markdown",
      "source": [
        "There is a lot going on in the cell below, so here is an explanation:\n",
        "\n",
        "\n",
        "Line 1: opening the file using `with` and `mode = 'w+'` \\\n",
        "Line 2: convert the opened file into a csv writer object. The same variable name is used (`f`) \\\n",
        "Line 4: write a header row to give the columns names. Notice that this is done *before* the loop, otherwise the header would be written for each iteration through the loop! \\\n",
        "Line 5: loop through our filenames, which are saved as strings in a list \\\n",
        "Line 6: open the filename and save it to the variable t `t`, using `.rstrip()` to remove trailing newlines \\\n",
        "Line 7: write the name of the text, the number of words, number of sentences, and TTR of the file to the csv. This information is entered as a list, where each item in the list will be a new column in the spreadsheet."
      ],
      "metadata": {
        "id": "ARH-4W65UKx8"
      }
    },
    {
      "cell_type": "code",
      "source": [
        "with open('/content/textAnalytics.csv', 'w+') as f: # open the file with a temporary variable\n",
        "  f = csv.writer(f) # convert that variable to a csvwriter object\n",
        "  # create header row\n",
        "  f.writerow(['text', 'number of words', 'number of sentences', 'TTR'])\n",
        "  for text in mytexts:\n",
        "    # open the text\n",
        "    t = open(text).read().rstrip()\n",
        "    # write different text calculations in a single line\n",
        "    f.writerow([text, len((t).split()), len(t.split('\\n')), len(set(t.split()))/len(t.split())])"
      ],
      "metadata": {
        "id": "CXDI2AAfQVtL"
      },
      "execution_count": null,
      "outputs": []
    },
    {
      "cell_type": "markdown",
      "source": [
        "After creating the file, we can use `csv.reader` to read the lines of the file:\n"
      ],
      "metadata": {
        "id": "_vjemzLXTYlM"
      }
    },
    {
      "cell_type": "code",
      "source": [
        "with open('/content/textAnalytics.csv', 'r') as f:\n",
        "  f = csv.reader(f)\n",
        "  for row in f:\n",
        "    print(row)"
      ],
      "metadata": {
        "id": "RKkPc7c7TcmT"
      },
      "execution_count": null,
      "outputs": []
    },
    {
      "cell_type": "markdown",
      "source": [
        "You can also download the file manually or using the Google Colab `files` library\n"
      ],
      "metadata": {
        "id": "o6fbZYwDTkrk"
      }
    },
    {
      "cell_type": "code",
      "source": [
        "from google.colab import files\n",
        "files.download('/content/textAnalytics.csv')"
      ],
      "metadata": {
        "id": "nCgA_ubtTrym"
      },
      "execution_count": null,
      "outputs": []
    },
    {
      "cell_type": "markdown",
      "source": [
        "Hopefully you now have a few new strategies to read and write data. While there are other ways to read/write csv files such as using `pandas` or `polars`, the `csv` module can serve the same purposes in many instances, and does not require loading in additional libraries.\n",
        "\n",
        "Once you get the data into spreadsheet format, you could include it in a written report or conduct visualisations on the data. You could also do that with Python, depending on how far you want to go within a single notebook."
      ],
      "metadata": {
        "id": "yQxoZLUnVDed"
      }
    }
  ]
}