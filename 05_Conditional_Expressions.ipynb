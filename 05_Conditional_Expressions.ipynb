{
  "cells": [
    {
      "cell_type": "markdown",
      "metadata": {
        "colab_type": "text",
        "id": "view-in-github"
      },
      "source": [
        "<a href=\"https://colab.research.google.com/github/scskalicky/LING-226-vuw/blob/main/05_Conditional_Expressions.ipynb\" target=\"_parent\"><img src=\"https://colab.research.google.com/assets/colab-badge.svg\" alt=\"Open In Colab\"/></a>"
      ]
    },
    {
      "cell_type": "markdown",
      "metadata": {
        "id": "OaEhoUmjwce9"
      },
      "source": [
        "# Conditional Execution\n",
        "\n",
        "Programs need to be able to make decision at certain points. Conditional expressions allow you to define tests or decision points at which your program will execute a specific action.\n",
        "\n",
        "For example, what if you wanted to find all of the uppercase letters in the string `\"Victoria University of Wellington\"`? You would need to provide Python with a test that it can use to determine upper from lower.\n",
        "\n",
        "What if you wanted to find all the words in a book which were over five letters long? Again you would define a test which will be used to determine whether a word should be included or not.\n",
        "\n",
        "We use these \"tests\" all the time. Consider the picture below - if you walked past this store and wanted to go inside, you would immediately form a test in your mind in order to determine if the store is open.\n",
        "\n",
        ">>> ![](https://i.imgur.com/lBHtBpS.jpg)\n",
        "\n",
        "- *If today is Monday, then I can't go in the store*\n",
        "- *If today is Tuesday and the current time is 1:00, then I can go in the store*\n",
        "- *If the lights are on, I can go in the store*\n",
        "\n",
        "Using conditional logic in Python is very similar. You use words like `if`, `and`, `or` to develop a set of tests (or *conditions*) which you ask Python to consider. And, depending on the results of the test, you ask Python to do one thing or the other.\n",
        "\n",
        "\n",
        "\n"
      ]
    },
    {
      "cell_type": "markdown",
      "metadata": {
        "id": "GgULS_Z60Yzt"
      },
      "source": [
        "\n",
        "# Boolean Values and `==`\n",
        "\n",
        "- The values `True` and `False` are special values in Python (so don't use these as variable names!). The are called booleans, which means it is only possible to be one thing or the other: if something is True, it cannot be False, and vice versa.\n",
        "\n",
        "- the double equals sign `==` is an important relational operator. This operator tests whether two values are equal. Why the double equal sign? Because the single equal sign is used for variable assignment. Compare below:"
      ]
    },
    {
      "cell_type": "code",
      "execution_count": 1,
      "metadata": {
        "id": "Fu9c3WvX1Oca"
      },
      "outputs": [
        {
          "ename": "SyntaxError",
          "evalue": "cannot assign to literal here. Maybe you meant '==' instead of '='? (2329736974.py, line 2)",
          "output_type": "error",
          "traceback": [
            "\u001b[1;36m  Cell \u001b[1;32mIn[1], line 2\u001b[1;36m\u001b[0m\n\u001b[1;33m    'Soda' = 'Soda'\u001b[0m\n\u001b[1;37m    ^\u001b[0m\n\u001b[1;31mSyntaxError\u001b[0m\u001b[1;31m:\u001b[0m cannot assign to literal here. Maybe you meant '==' instead of '='?\n"
          ]
        }
      ],
      "source": [
        "# an error because single equal sign is for assigning variables\n",
        "'Soda' = 'Soda'"
      ]
    },
    {
      "cell_type": "code",
      "execution_count": 3,
      "metadata": {
        "id": "0i6RMl2n1osQ"
      },
      "outputs": [
        {
          "data": {
            "text/plain": [
              "True"
            ]
          },
          "execution_count": 3,
          "metadata": {},
          "output_type": "execute_result"
        }
      ],
      "source": [
        "# the output is \"True\" because the two values are equal\n",
        "'Soda' == 'Soda'"
      ]
    },
    {
      "cell_type": "code",
      "execution_count": null,
      "metadata": {
        "id": "rdXLf40v1_pw"
      },
      "outputs": [],
      "source": [
        "# the output is \"False\" because the two values are NOT equal (do you see why?)\n",
        "'soda' == 'Soda'"
      ]
    },
    {
      "cell_type": "markdown",
      "metadata": {
        "id": "_8VP0vcQ19zA"
      },
      "source": [
        "The opposite of testing for equality is testing for *inequality*. You can do that with the `!=` operator."
      ]
    },
    {
      "cell_type": "code",
      "execution_count": 4,
      "metadata": {
        "id": "oKiFKbm73FqL"
      },
      "outputs": [
        {
          "data": {
            "text/plain": [
              "True"
            ]
          },
          "execution_count": 4,
          "metadata": {},
          "output_type": "execute_result"
        }
      ],
      "source": [
        "# these strings are not equal, so the test returns \"True\"\n",
        "'Wellington' != 'Auckland'"
      ]
    },
    {
      "cell_type": "code",
      "execution_count": 5,
      "metadata": {
        "id": "FtZLgBzT3QfZ"
      },
      "outputs": [
        {
          "data": {
            "text/plain": [
              "False"
            ]
          },
          "execution_count": 5,
          "metadata": {},
          "output_type": "execute_result"
        }
      ],
      "source": [
        "# these strings are equal, so the test returns \"False\"\n",
        "'kiwi' != 'kiwi'"
      ]
    },
    {
      "cell_type": "markdown",
      "metadata": {
        "id": "TmxIOSyf6xLh"
      },
      "source": [
        "# `if` statements\n",
        "\n",
        "Now that you see how to test for equality, the next step is learning how to execute specific actions depending on the results of an equality test.\n",
        "\n",
        "We want to consider tests such as:\n",
        "\n",
        " - if two things are equal, perform Action 1\n",
        " - if two things are not equal, perform Action 2\n",
        "\n",
        " We can use `if` statements to do this in Python. This will introduce you to one of the interesting quirks of Python - the use of indentation in the code to establish a hierarchy among the order of execution. An `if` statement looks like this:\n",
        "\n",
        ">`if` condition is True:\n",
        ">> do something\n",
        "\n",
        "Here is how an `if statement` would look in a Colab code cell:\n",
        "\n",
        "![](https://i.imgur.com/wJBQaiy.png)\n",
        "\n",
        "Note that the `print()` statement in line 2 is indented once so that it is nested underneath the if statement. In the next screenshot, I have annotated the different parts of the `if` statement:\n",
        "\n",
        "<img src = https://i.imgur.com/7e1aj0w.png width = \"500\">\n",
        "\n",
        "\n",
        "Colab and many other Python environments will attempt to add the whitespacing for you automatically and also warn you if something is wrong. Below, Colab is using a squiggle to show us that the indentation is missing:\n",
        "\n",
        "![](https://i.imgur.com/pgj4u1N.png)\n",
        "\n",
        "\n",
        "And if you run the cell, you get an indentation error:\n",
        "\n",
        "![](https://i.imgur.com/6npAhXZ.png)\n",
        "\n",
        "\n",
        "Enough with the screenshots, it's time to write some if statements below! Look at the next example, I first save a number to the variable `time` and then write a test to determine if a store is open.\n",
        "\n",
        "Play around with the values of `time` as well as the value after the `==` in the `if` statement. While this is a successful test, it is also restricted to a single value, so we will explore how to make this test more interesting.\n"
      ]
    },
    {
      "cell_type": "code",
      "execution_count": null,
      "metadata": {
        "id": "vd0e_Oxp-e-L"
      },
      "outputs": [],
      "source": [
        "# Let's say it is 1pm\n",
        "time = 1300\n",
        "\n",
        "# is the store open at 1pm?\n",
        "if time == 1300:\n",
        "  print('the store is open')"
      ]
    },
    {
      "cell_type": "markdown",
      "metadata": {
        "id": "ea1-8SHT_iLP"
      },
      "source": [
        "## `else` statements\n",
        "\n",
        "But before moving on to more complex conditions, let's focus on adding to our current `if` statement. Right now, the program in the cell above only does one thing, and only if the conditional test results in `True`. We can add an alternative to this test using the `else` statement. You can think of `if` and `else` exactly the same as real life:\n",
        "\n",
        "- `if` you are hungry, get some food. `else`, watch some tv.\n",
        "- `if` you are tired, go to sleep. `else`, do some work.\n",
        "- `if` you can fly, that's crazy. `else`, that's normal.\n",
        "\n",
        "To add an `else` statement to an `if` statement, you add `else` after the body of the `if` statement, with the indentation matching between the `if` and the `else`. And, the body of `else` needs to be indented just the same way the body for `if` was indented. You can see how indentation is used to determine how different parts of the program will be run. Here is an annotated screenshot.\n",
        "\n",
        "<img src = https://i.imgur.com/fChggy2.png width = \"500\">\n",
        "\n",
        "You can run the code cell below to see what will happen.\n",
        "\n",
        "Try changing the value of `time` to get the program to print different statements.\n",
        "\n"
      ]
    },
    {
      "cell_type": "code",
      "execution_count": 6,
      "metadata": {
        "id": "upYtKAiKARcA"
      },
      "outputs": [],
      "source": [
        "# now our program will do something when the conditional is False or True\n",
        "time = 1300"
      ]
    },
    {
      "cell_type": "code",
      "execution_count": 7,
      "metadata": {
        "id": "87hjCtKgGKl3"
      },
      "outputs": [
        {
          "name": "stdout",
          "output_type": "stream",
          "text": [
            "the store is open\n"
          ]
        }
      ],
      "source": [
        "if time == 1300:\n",
        "  print('the store is open')\n",
        "else:\n",
        "  print('the store is closed')"
      ]
    },
    {
      "cell_type": "markdown",
      "metadata": {
        "id": "4ScMZ5-mD8vd"
      },
      "source": [
        "Repeat this with a different time:"
      ]
    },
    {
      "cell_type": "code",
      "execution_count": 8,
      "metadata": {
        "id": "xCV0Lea9D-Xe"
      },
      "outputs": [],
      "source": [
        "time = 1301"
      ]
    },
    {
      "cell_type": "markdown",
      "metadata": {
        "id": "6j1X3BRFECkR"
      },
      "source": [
        "Hmm, we can see that these strict restrictions on values might need some nuance - we will work on that later."
      ]
    },
    {
      "cell_type": "code",
      "execution_count": 9,
      "metadata": {
        "id": "KxqwGh1zEA4V"
      },
      "outputs": [
        {
          "name": "stdout",
          "output_type": "stream",
          "text": [
            "the store is closed\n"
          ]
        }
      ],
      "source": [
        "if time == 1300:\n",
        "  print('the store is open')\n",
        "else:\n",
        "  print('the store is closed')"
      ]
    },
    {
      "cell_type": "markdown",
      "metadata": {
        "id": "0-Qa-mH5B9Ja"
      },
      "source": [
        "The way these `if` and `else` statements work is that the program will perform the tests in order.\n",
        "\n",
        "1. First, the `if` statement will be tested, and if the condition in that statement returns `False`, then the program will move down to the next test.\n",
        "\n",
        "2. If the first `if` statement returns `True`, then the program will *not* go on to the `else` statement.\n",
        "\n",
        "This order of operations becomes more complex as one adds more `if` and `else` statements, and you can also put `if` statements inside other `if` statements! But for now, this should give you the basics behind the if statement, and reading the Chapter 1, Section 4 in the NLTK Book will also help.\n"
      ]
    },
    {
      "cell_type": "markdown",
      "metadata": {
        "id": "kYJdnruyM_vp"
      },
      "source": [
        "## `elif` statements\n",
        "\n",
        "Another control statement is the `elif` statement, which is a combination of `if` and `else`. Both `elif` and `else` must come after an initial `if` statement. Using `elif` allows you to include more than one possible outcome if the result of the initial `if` statement returns False.\n",
        "\n",
        "1. An `if` and one `else` allows you to consider two possibilities\n",
        "2. An `if`, one `elif`, and one `else` allows you to account for three possiblities.\n",
        "3. And so on...\n",
        "\n",
        "The syntax of `elif` is the same as an `else` statement — consider the code cells below - try changing the value of `number` so that you can get each of the different print statements to work.\n",
        "\n",
        "Below, you will see the `<` sign, which means \"less than\"\n"
      ]
    },
    {
      "cell_type": "code",
      "execution_count": 13,
      "metadata": {
        "id": "XQFta_Y5Nv3K"
      },
      "outputs": [
        {
          "name": "stdout",
          "output_type": "stream",
          "text": [
            "number must be higher than 9\n"
          ]
        }
      ],
      "source": [
        "number = 9\n",
        "\n",
        "if number < 5:\n",
        "  print('number less than 5')\n",
        "elif number < 8:\n",
        "  print('number is less than 8')\n",
        "elif number < 9:\n",
        "  print('number is less than 9')\n",
        "else:\n",
        "  print('number must be higher than 9')"
      ]
    },
    {
      "cell_type": "markdown",
      "metadata": {
        "id": "zV505IZo6mJc"
      },
      "source": [
        "# More relational operators\n",
        "\n",
        "There are a number of different operators in addition to the `==` and `!=` operators which can compare general relations between two values:\n",
        "\n",
        "- x `>` y — is x greater than y?\n",
        "- x `>=` y — is x greater than or equal to y?\n",
        "- x `<` y — is x less than y?\n",
        "- x `<=` y — is x less than or equal to y\n",
        "\n",
        "These operators look like they might only work for numerical data, but you can actually compare strings using these methods."
      ]
    },
    {
      "cell_type": "code",
      "execution_count": 20,
      "metadata": {
        "id": "_iZhMsJFjVRB"
      },
      "outputs": [
        {
          "data": {
            "text/plain": [
              "True"
            ]
          },
          "execution_count": 20,
          "metadata": {},
          "output_type": "execute_result"
        }
      ],
      "source": [
        "# Is Wellington greater than Auckland?\n",
        "'Wellington' > 'Auckland'"
      ]
    },
    {
      "cell_type": "markdown",
      "metadata": {
        "id": "r71DF1YAlWyM"
      },
      "source": [
        "The reason this works is because you are comparing underlying numerical representations of the characters — akin to comparing alphabetization."
      ]
    },
    {
      "cell_type": "code",
      "execution_count": 15,
      "metadata": {
        "id": "TfQvEK7uldUy"
      },
      "outputs": [
        {
          "data": {
            "text/plain": [
              "False"
            ]
          },
          "execution_count": 15,
          "metadata": {},
          "output_type": "execute_result"
        }
      ],
      "source": [
        "'a' > 'b'"
      ]
    },
    {
      "cell_type": "code",
      "execution_count": 16,
      "metadata": {
        "id": "zUUFCzJulehQ"
      },
      "outputs": [
        {
          "data": {
            "text/plain": [
              "True"
            ]
          },
          "execution_count": 16,
          "metadata": {},
          "output_type": "execute_result"
        }
      ],
      "source": [
        "'ab' > 'a'"
      ]
    },
    {
      "cell_type": "markdown",
      "metadata": {
        "id": "wDaRDudmlvOd"
      },
      "source": [
        "You can actually see the numerical representation using the `ord()` function:\n",
        "\n",
        "97 is less than 98, so a is less than b. Interesting, but perhaps not very useful for most of our purposes."
      ]
    },
    {
      "cell_type": "code",
      "execution_count": 17,
      "metadata": {
        "id": "-PAekHlblx93"
      },
      "outputs": [
        {
          "data": {
            "text/plain": [
              "97"
            ]
          },
          "execution_count": 17,
          "metadata": {},
          "output_type": "execute_result"
        }
      ],
      "source": [
        "ord('a')"
      ]
    },
    {
      "cell_type": "code",
      "execution_count": 18,
      "metadata": {
        "id": "-y7pFZddlzLC"
      },
      "outputs": [
        {
          "data": {
            "text/plain": [
              "98"
            ]
          },
          "execution_count": 18,
          "metadata": {},
          "output_type": "execute_result"
        }
      ],
      "source": [
        "ord('b')"
      ]
    },
    {
      "cell_type": "markdown",
      "metadata": {
        "id": "l8jwTbQNmGdW"
      },
      "source": [
        "## Adding logic: `and` & `or`\n",
        "\n",
        "In addition to the comparative operators, there are logical operators which allow us to place more specific constraints on our conditional statements:\n",
        "\n",
        "- x `and` y — both x and y must be True\n",
        "- x `or` y — either x or y must be True\n",
        "\n",
        "\n",
        "What are the philosophies of `and` & `or`?\n",
        "\n",
        "`and` (the enforcer)\n",
        " - everything must be `True` or else nothing is true!\n",
        "\n",
        "`or` (the optimist)\n",
        "- just needs one thing to be `True`\n",
        "\n",
        "\n",
        "\n",
        "\n"
      ]
    },
    {
      "cell_type": "code",
      "execution_count": 21,
      "metadata": {
        "id": "XWufe17LnBQs"
      },
      "outputs": [
        {
          "data": {
            "text/plain": [
              "True"
            ]
          },
          "execution_count": 21,
          "metadata": {},
          "output_type": "execute_result"
        }
      ],
      "source": [
        "# and needs everything to be true\n",
        "5 == 5 and 1 == 1"
      ]
    },
    {
      "cell_type": "code",
      "execution_count": 22,
      "metadata": {
        "id": "6XkrDuO1ov_O"
      },
      "outputs": [
        {
          "data": {
            "text/plain": [
              "True"
            ]
          },
          "execution_count": 22,
          "metadata": {},
          "output_type": "execute_result"
        }
      ],
      "source": [
        "# or just needs one thing to be true\n",
        "5 == 5 or 5 == 2"
      ]
    },
    {
      "cell_type": "markdown",
      "metadata": {
        "id": "_QXLB3expMhE"
      },
      "source": [
        "We can now create more specific conditions to determine if we can go into a store at certain times. Let's write a conditional statement that askes whether a value is later than 10am and earlier than 5pm.\n",
        "\n",
        "Try changing the value of `time` to different times (using different values between 0 and 2400) to get the program to return different results.\n",
        "\n",
        "> *(note if you try to enter a time like 0500 you will get an error, instead use 500)*"
      ]
    },
    {
      "cell_type": "code",
      "execution_count": 23,
      "metadata": {
        "id": "fcaZHApGpTuS"
      },
      "outputs": [
        {
          "name": "stdout",
          "output_type": "stream",
          "text": [
            "store is open!\n"
          ]
        }
      ],
      "source": [
        "time = 1445\n",
        "\n",
        "if time >= 1000 and time <= 1700:\n",
        "  print('store is open!')\n",
        "else:\n",
        "  print('store is closed!')"
      ]
    },
    {
      "cell_type": "markdown",
      "metadata": {
        "id": "dbYBLB3ynyZd"
      },
      "source": [
        "## Adding logic: `in` and `not`\n",
        "\n",
        "Let's wrap this up by looking at two more operators:\n",
        "\n",
        "- x `in` y — is x in y?\n",
        "- `not` x — is x not something?\n",
        "\n",
        "\n",
        "The use of `in` is very helpful if you would like to quickly check whether a single value is within a data container, such as lists. You could also search within other sequences, such as strings."
      ]
    },
    {
      "cell_type": "code",
      "execution_count": 24,
      "metadata": {
        "id": "iKq7Pjj5sXhx"
      },
      "outputs": [
        {
          "data": {
            "text/plain": [
              "True"
            ]
          },
          "execution_count": 24,
          "metadata": {},
          "output_type": "execute_result"
        }
      ],
      "source": [
        "# is the character \"a\" in this word?\n",
        "'a' in 'Melodrama'"
      ]
    },
    {
      "cell_type": "code",
      "execution_count": 25,
      "metadata": {
        "id": "9lukfTeGscK_"
      },
      "outputs": [
        {
          "data": {
            "text/plain": [
              "False"
            ]
          },
          "execution_count": 25,
          "metadata": {},
          "output_type": "execute_result"
        }
      ],
      "source": [
        "# it should be noted that capitalization matters!\n",
        "'A' in 'Melodrama'"
      ]
    },
    {
      "cell_type": "code",
      "execution_count": 26,
      "metadata": {
        "id": "BAEtzxOqshqk"
      },
      "outputs": [
        {
          "data": {
            "text/plain": [
              "True"
            ]
          },
          "execution_count": 26,
          "metadata": {},
          "output_type": "execute_result"
        }
      ],
      "source": [
        "# now consider a list\n",
        "'Melodrama' in ['Pure Heroine', 'Melodrama', 'Solar Power']"
      ]
    },
    {
      "cell_type": "code",
      "execution_count": 27,
      "metadata": {
        "id": "jCcuYOgjsn0V"
      },
      "outputs": [
        {
          "data": {
            "text/plain": [
              "False"
            ]
          },
          "execution_count": 27,
          "metadata": {},
          "output_type": "execute_result"
        }
      ],
      "source": [
        "# This returns False? why?\n",
        "# Because even though the character \"a\" exists in some values in the list, there is no single value of 'a' in this list.\n",
        "'a' in ['Pure Heroine', 'Melodrama', 'Solar Power']"
      ]
    },
    {
      "cell_type": "code",
      "execution_count": 28,
      "metadata": {
        "id": "Vo94bregEyQ9"
      },
      "outputs": [
        {
          "data": {
            "text/plain": [
              "True"
            ]
          },
          "execution_count": 28,
          "metadata": {},
          "output_type": "execute_result"
        }
      ],
      "source": [
        "# adding 'a' as a member of the list now returns True\n",
        "'a' in ['Pure Heroine', 'Melodrama', 'Solar Power', 'a']"
      ]
    },
    {
      "cell_type": "markdown",
      "metadata": {
        "id": "D0Ksm9PKs4b8"
      },
      "source": [
        "The `not` operator is a bit trickier — you cannot use it in a comparison. You can only use `not` to test whether the value of something is `True`. This makes it seems like it can only be used for testing `True` versus `False`. However, it's a bit fuzzier than that and has to do with Truthyness. Basically, any value which exists is `True` when asking if that value exists (a bit circular, I know).\n",
        "\n",
        "Examples help:\n",
        "\n"
      ]
    },
    {
      "cell_type": "code",
      "execution_count": 29,
      "metadata": {
        "id": "nCrkIDXVuJFz"
      },
      "outputs": [
        {
          "data": {
            "text/plain": [
              "False"
            ]
          },
          "execution_count": 29,
          "metadata": {},
          "output_type": "execute_result"
        }
      ],
      "source": [
        "# True is True, so not True is False\n",
        "not True"
      ]
    },
    {
      "cell_type": "code",
      "execution_count": 30,
      "metadata": {
        "id": "bMNOPS35uJv_"
      },
      "outputs": [
        {
          "data": {
            "text/plain": [
              "True"
            ]
          },
          "execution_count": 30,
          "metadata": {},
          "output_type": "execute_result"
        }
      ],
      "source": [
        "# False is False, so not False is True\n",
        "not False"
      ]
    },
    {
      "cell_type": "code",
      "execution_count": 31,
      "metadata": {
        "id": "UkOdd8FwuP9I"
      },
      "outputs": [
        {
          "data": {
            "text/plain": [
              "True"
            ]
          },
          "execution_count": 31,
          "metadata": {},
          "output_type": "execute_result"
        }
      ],
      "source": [
        "# define an empty string, it has no value\n",
        "# so it is not True and thus returns True if you check if it is not True\n",
        "# confused yet?\n",
        "my_empty_variable = ''\n",
        "not my_empty_variable"
      ]
    },
    {
      "cell_type": "code",
      "execution_count": 32,
      "metadata": {
        "id": "qIQ0rFbsup9h"
      },
      "outputs": [
        {
          "data": {
            "text/plain": [
              "False"
            ]
          },
          "execution_count": 32,
          "metadata": {},
          "output_type": "execute_result"
        }
      ],
      "source": [
        "# but now it has something, it exists, it is True\n",
        "my_empty_variable = 'stuff'\n",
        "not my_empty_variable"
      ]
    },
    {
      "cell_type": "markdown",
      "metadata": {
        "id": "2976hCahuu54"
      },
      "source": [
        "The benefits of knowing about how values return `True` or `False` is that you can use this as a shorthand to check if something exists or not. This might not seem immediately useful for now, but it will come back later. A short demonstration:\n",
        "\n"
      ]
    },
    {
      "cell_type": "code",
      "execution_count": 34,
      "metadata": {
        "id": "3nl_21rXvGX0"
      },
      "outputs": [],
      "source": [
        "# write a function to print the first character of a string:\n",
        "def print_first_char(x):\n",
        "  print(x[0])"
      ]
    },
    {
      "cell_type": "code",
      "execution_count": 35,
      "metadata": {
        "id": "qto23CFVvS4A"
      },
      "outputs": [
        {
          "name": "stdout",
          "output_type": "stream",
          "text": [
            "V\n"
          ]
        }
      ],
      "source": [
        "# run the function on the string \"VUW\"\n",
        "print_first_char('VUW')"
      ]
    },
    {
      "cell_type": "code",
      "execution_count": 38,
      "metadata": {
        "id": "cYhrAsJBvY4R"
      },
      "outputs": [
        {
          "ename": "IndexError",
          "evalue": "string index out of range",
          "output_type": "error",
          "traceback": [
            "\u001b[1;31m---------------------------------------------------------------------------\u001b[0m",
            "\u001b[1;31mIndexError\u001b[0m                                Traceback (most recent call last)",
            "\u001b[1;32md:\\OneDrive\\OneDrive - Victoria University of Wellington - STUDENT\\200 level docs\\LING226\\Jupyter Notebook\\05_Conditional_Expressions.ipynb Cell 49\u001b[0m line \u001b[0;36m2\n\u001b[0;32m      <a href='vscode-notebook-cell:/d%3A/OneDrive/OneDrive%20-%20Victoria%20University%20of%20Wellington%20-%20STUDENT/200%20level%20docs/LING226/Jupyter%20Notebook/05_Conditional_Expressions.ipynb#X66sZmlsZQ%3D%3D?line=0'>1</a>\u001b[0m \u001b[39m# Run the function on an empty string - which gives an error\u001b[39;00m\n\u001b[1;32m----> <a href='vscode-notebook-cell:/d%3A/OneDrive/OneDrive%20-%20Victoria%20University%20of%20Wellington%20-%20STUDENT/200%20level%20docs/LING226/Jupyter%20Notebook/05_Conditional_Expressions.ipynb#X66sZmlsZQ%3D%3D?line=1'>2</a>\u001b[0m print_first_char(\u001b[39m'\u001b[39;49m\u001b[39m'\u001b[39;49m)\n",
            "\u001b[1;32md:\\OneDrive\\OneDrive - Victoria University of Wellington - STUDENT\\200 level docs\\LING226\\Jupyter Notebook\\05_Conditional_Expressions.ipynb Cell 49\u001b[0m line \u001b[0;36m3\n\u001b[0;32m      <a href='vscode-notebook-cell:/d%3A/OneDrive/OneDrive%20-%20Victoria%20University%20of%20Wellington%20-%20STUDENT/200%20level%20docs/LING226/Jupyter%20Notebook/05_Conditional_Expressions.ipynb#X66sZmlsZQ%3D%3D?line=1'>2</a>\u001b[0m \u001b[39mdef\u001b[39;00m \u001b[39mprint_first_char\u001b[39m(x):\n\u001b[1;32m----> <a href='vscode-notebook-cell:/d%3A/OneDrive/OneDrive%20-%20Victoria%20University%20of%20Wellington%20-%20STUDENT/200%20level%20docs/LING226/Jupyter%20Notebook/05_Conditional_Expressions.ipynb#X66sZmlsZQ%3D%3D?line=2'>3</a>\u001b[0m   \u001b[39mprint\u001b[39m(x[\u001b[39m0\u001b[39;49m])\n",
            "\u001b[1;31mIndexError\u001b[0m: string index out of range"
          ]
        }
      ],
      "source": [
        "# Run the function on an empty string - which gives an error\n",
        "print_first_char('')"
      ]
    },
    {
      "cell_type": "code",
      "execution_count": 37,
      "metadata": {
        "id": "jO5Q5fphvdIO"
      },
      "outputs": [],
      "source": [
        "# we can update our function with a safety check to make sure the string has a value\n",
        "def print_first_char_v2(x):\n",
        "\n",
        "  # this asks \"if x exists\" (the inverse of using `not`)\n",
        "  if x:\n",
        "    print(x[0])\n",
        "  # if x does not exist, do this instead\n",
        "  else:\n",
        "    print('nothing here!')"
      ]
    },
    {
      "cell_type": "code",
      "execution_count": 39,
      "metadata": {
        "id": "ZG9XN7WFvkXx"
      },
      "outputs": [
        {
          "name": "stdout",
          "output_type": "stream",
          "text": [
            "V\n"
          ]
        }
      ],
      "source": [
        "#function works as before with a string\n",
        "print_first_char_v2('VUW')"
      ]
    },
    {
      "cell_type": "code",
      "execution_count": 40,
      "metadata": {
        "id": "QFGx3iZQvmgM"
      },
      "outputs": [
        {
          "name": "stdout",
          "output_type": "stream",
          "text": [
            "nothing here!\n"
          ]
        }
      ],
      "source": [
        "# function now doesn't crash when given an empty string.\n",
        "print_first_char_v2('')"
      ]
    },
    {
      "cell_type": "markdown",
      "metadata": {
        "id": "hk1kS1w_xftP"
      },
      "source": [
        "# **Your Turn**\n",
        "\n",
        "This notebook has gone through quite a lot of conditionals and operators. You should take the time to ensure you can construct some `if` statements as well as some simple to complex conditional statements. But don't worry — these things will be used over and over again in the rest of the notebooks, so you should gain more and more familiarity with them over time.\n",
        "\n",
        "If you'd like to test yourself, see if you can write an `if` statement which checks whether a word is longer than a certain number of characters and is also lower case. You could use `len()` to check the length and the string function `.islower()` to check if all characters in a string are lower case.\n",
        "\n",
        "In the code cell below is an example doing the opposite: checking if a word is less than a certain number and is also all caps.\n"
      ]
    },
    {
      "cell_type": "code",
      "execution_count": 43,
      "metadata": {
        "id": "5IpSnYLIASTa"
      },
      "outputs": [
        {
          "data": {
            "text/plain": [
              "False"
            ]
          },
          "execution_count": 43,
          "metadata": {},
          "output_type": "execute_result"
        }
      ],
      "source": [
        "word = 'VUW'"
      ]
    },
    {
      "cell_type": "code",
      "execution_count": 44,
      "metadata": {
        "id": "WYofPOGmx_Ft"
      },
      "outputs": [
        {
          "name": "stdout",
          "output_type": "stream",
          "text": [
            "found a short word which is all caps\n"
          ]
        }
      ],
      "source": [
        "if len(word) <= 3 and word.isupper():\n",
        "  print('found a short word which is all caps')"
      ]
    }
  ],
  "metadata": {
    "colab": {
      "authorship_tag": "ABX9TyPBv7tT5bZbYO5lBW5AbnXM",
      "include_colab_link": true,
      "private_outputs": true,
      "provenance": []
    },
    "kernelspec": {
      "display_name": "Python 3",
      "name": "python3"
    },
    "language_info": {
      "codemirror_mode": {
        "name": "ipython",
        "version": 3
      },
      "file_extension": ".py",
      "mimetype": "text/x-python",
      "name": "python",
      "nbconvert_exporter": "python",
      "pygments_lexer": "ipython3",
      "version": "3.11.4"
    }
  },
  "nbformat": 4,
  "nbformat_minor": 0
}
