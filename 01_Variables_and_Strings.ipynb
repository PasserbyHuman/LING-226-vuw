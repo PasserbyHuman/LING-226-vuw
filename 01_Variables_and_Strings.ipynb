{
  "nbformat": 4,
  "nbformat_minor": 0,
  "metadata": {
    "colab": {
      "private_outputs": true,
      "provenance": [],
      "authorship_tag": "ABX9TyP0dt9fcn60Xvc/2tCyC6HI",
      "include_colab_link": true
    },
    "kernelspec": {
      "name": "python3",
      "display_name": "Python 3"
    },
    "language_info": {
      "name": "python"
    },
    "gpuClass": "standard"
  },
  "cells": [
    {
      "cell_type": "markdown",
      "metadata": {
        "id": "view-in-github",
        "colab_type": "text"
      },
      "source": [
        "<a href=\"https://colab.research.google.com/github/scskalicky/LING-226-vuw/blob/main/01_Variables_and_Strings.ipynb\" target=\"_parent\"><img src=\"https://colab.research.google.com/assets/colab-badge.svg\" alt=\"Open In Colab\"/></a>"
      ]
    },
    {
      "cell_type": "markdown",
      "metadata": {
        "id": "9QRP-0q0YXG6"
      },
      "source": [
        "# Get your feet wet and start using some Python.\n",
        "\n",
        "Python has a reputation among some people for being \"easy\" because the code almost looks like you can just type what you want. An older [XKCD](https://xkcd.com/) comic tried to make this point (although it was when Python 2.x was being used!). You might not immediately get parts of this comic, but come back later in the course and you might find it more meaningful!\n",
        "\n",
        "\n",
        "> <img src = \"https://imgs.xkcd.com/comics/python.png\" height = 500>\n",
        "\n",
        "\n",
        "\n",
        "Anyhow, let's put Python's reputation to the test and dive right into some basics and start using it.\n",
        "\n",
        "In this section, there are some code cells which you do not need to modify.\n",
        "\n",
        "1. Look at each cell and try to understand it without running the code cell. What do you think will happen when you run the code cell?\n",
        "2. Run the code cell (click the Play icon) to check your prediction. Were you right?\n",
        "\n"
      ]
    },
    {
      "cell_type": "code",
      "metadata": {
        "id": "0Gw_k8_1YXG6"
      },
      "source": [
        "print(\"Soda Onion\")"
      ],
      "execution_count": null,
      "outputs": []
    },
    {
      "cell_type": "code",
      "metadata": {
        "id": "cJvWmCmUYXG7"
      },
      "source": [
        "name = \"Soda Onion\"\n",
        "print(name)"
      ],
      "execution_count": null,
      "outputs": []
    },
    {
      "cell_type": "code",
      "metadata": {
        "id": "DqkdfJ4fYXG7"
      },
      "source": [
        "len(name)"
      ],
      "execution_count": null,
      "outputs": []
    },
    {
      "cell_type": "code",
      "source": [
        "for letter in name:\n",
        "  print(letter)"
      ],
      "metadata": {
        "id": "Te9OVCmMZBAr"
      },
      "execution_count": null,
      "outputs": []
    },
    {
      "cell_type": "code",
      "metadata": {
        "id": "U6KURTZnYXG7"
      },
      "source": [
        "[letter for letter in name]"
      ],
      "execution_count": null,
      "outputs": []
    },
    {
      "cell_type": "code",
      "source": [
        "[letter for letter in reversed(name)]"
      ],
      "metadata": {
        "id": "NyRg_O2janNM"
      },
      "execution_count": null,
      "outputs": []
    },
    {
      "cell_type": "code",
      "metadata": {
        "id": "VDaDoQi2YXG8"
      },
      "source": [
        "NZ_Pop = 4868882\n",
        "\n",
        "World_Pop = 7900000000\n",
        "\n",
        "NZ_perc = (NZ_Pop / World_Pop) * 100\n",
        "\n",
        "NZ_perc"
      ],
      "execution_count": null,
      "outputs": []
    },
    {
      "cell_type": "code",
      "metadata": {
        "id": "n6dO7PlSYXG8"
      },
      "source": [
        "anthem_te_reo = \"E Ihowa Atua,\\nO ngā iwi mātou rā,\\nāta whakarongo na;\\nMe aroha noa.\\nKia hua ko te pai;\\nKia tau tō atawhai;\\nManaakitia mai\\nAotearoa\"\n",
        "anthem_english = \"God of nations at thy feet,\\nIn the bonds of love we meet.\\nHear our voices, we entreat\\nGod defend our free land.\\nGuard Pacific's triple star\\nFrom the shafts of strife and war,\\nMake her praises heard afar,\\nGod defend New Zealand.\"\n",
        "print(anthem_te_reo + \"\\n\\n\" + anthem_english)"
      ],
      "execution_count": null,
      "outputs": []
    },
    {
      "cell_type": "markdown",
      "source": [
        "# Values and Variables\n",
        "\n",
        "The code cells above contained a range of Python *values* which were saved to different *variables*. Values are the basic pieces of information or data that Python (and other programming languages) work with.\n",
        "\n",
        "A value can be a number, a piece of text, or other things, such as containers. Here are some of the examples used in the code cells above\n",
        "\n",
        "Variable | Value | Type\n",
        "------|------|------\n",
        "`name`|\"Soda Onion\"|text\n",
        "`NZ_Pop`|4868882|number\n",
        "\n",
        "\n",
        "The *type* of a value is actually more specific than the table above suggests. For example, numbers are classified into integers (whole numbers) or floats (decimals). And text is classified as a `string` (more on this later).\n",
        "\n",
        "You can check the `type` of a value in Python by using the `type()` function. See below, the `type` for each value will be shown in the output. Knowing what the type of a value is can be useful when performing operations on text versus numbers."
      ],
      "metadata": {
        "id": "-qh32dQVaARK"
      }
    },
    {
      "cell_type": "code",
      "source": [
        "# int = integer\n",
        "type(42)"
      ],
      "metadata": {
        "id": "VxRZMPyQfwTB"
      },
      "execution_count": null,
      "outputs": []
    },
    {
      "cell_type": "code",
      "source": [
        "# float = decimal\n",
        "type(4.2)"
      ],
      "metadata": {
        "id": "nErm1lMnfwTK"
      },
      "execution_count": null,
      "outputs": []
    },
    {
      "cell_type": "code",
      "source": [
        "# str = text\n",
        "type('forty-two')"
      ],
      "metadata": {
        "id": "hxsyHuPrfwTK"
      },
      "execution_count": null,
      "outputs": []
    },
    {
      "cell_type": "markdown",
      "source": [
        "## What’s the big deal with variables?\n",
        "- values are gone once they are executed by the interpreter\n",
        "- variables will persist in memory (some longer than others)\n",
        "- variables can be updated based on different conditions\n",
        "\n",
        "### Assigning values to a variable\n",
        "To assign a value to a variable, we use the `=` sign and the following syntax:\n",
        "\n",
        "> `variable_name = value`\n",
        "\n",
        "### Rules for variable names\n",
        "- Do not start with numbers\n",
        "- Do not use special characters (e.g., #, @)\n",
        "- Do not use Python keywords (e.g., `is`, `True`, `False`)\n"
      ],
      "metadata": {
        "id": "rGU1T4uKVtXR"
      }
    },
    {
      "cell_type": "markdown",
      "source": [
        "## **Your Turn**\n",
        "\n",
        "1. Below, create a code cell and save some text to a variable. Give your variable a descriptive name.\n",
        "\n",
        "To save text to a variable, use this syntax:\n",
        "\n",
        "> `variable_name = \"text\"`\n",
        "\n",
        "\n",
        "2. Then, in a new code cell, use the `print()` function to print the value of your variable to the console. Use this syntax:\n",
        "\n",
        "> `print(variable)`"
      ],
      "metadata": {
        "id": "D6T-0rq3UsyC"
      }
    },
    {
      "cell_type": "markdown",
      "source": [
        "# Strings\n",
        "\n",
        "As you saw above, we are using the word `string` to represent text. You might wonder, why not just call it `text` or `words`? The reason provides us with our first glimpse into the difference between how humans and computers \"see\" language. For humans, we see groups of letters and white space form words. However, for computers, strings are defined as a **sequence of characters**. The word `string` thus represents the sequenced nature.\n",
        "\n",
        "Think of a string like a laundry line - there is a start and an end, and the washed clothing on the line (as well as the spots without clothing) represent the characters in the string. And, there are other types of sequences in Python, so a string is a specific type of sequence, one which contains characters representing written language.\n",
        "\n",
        "### Creating strings\n",
        "\n",
        "You've seen above that we used quotes to surround the strings, these quotes are called `delimiters` and are how you determine the start and end of a string. Crucially, the delimiter on each end must match:\n",
        "\n",
        "  - ' + ' (single quotes)\n",
        "  - “ + ”  (double quotes)\n",
        "  - “‘ + ”’ (triple quotes)\n",
        "\n",
        "What happens when you don't have matching delimiters? Run the code cells below and compare the output."
      ],
      "metadata": {
        "id": "tUcEouAVLVv_"
      }
    },
    {
      "cell_type": "code",
      "source": [
        "print('I'm so happy to be here!')"
      ],
      "metadata": {
        "id": "I_vsfXBYMehY"
      },
      "execution_count": null,
      "outputs": []
    },
    {
      "cell_type": "code",
      "source": [
        "print(\"I'm so happy to be here\")"
      ],
      "metadata": {
        "id": "AzvGHX7QMiyh"
      },
      "execution_count": null,
      "outputs": []
    },
    {
      "cell_type": "markdown",
      "source": [
        "## **String Functions**\n",
        "\n",
        "We can use built-in functions to perform basic operations on strings. For example:\n",
        "\n",
        "> * `string.upper()` = return a lowercase version of a string\n",
        "> * `string.lower()` = return an uppercase version of a string\n",
        "> * `string.title()` = return a title case version of a string\n",
        "> * `string.strip()` = strip all whitespace from a string\n",
        "> * `string.rstrip()` = strip all trailing whitespace from a string\n",
        "> * `string.lstrip()` = strip all leading whitespace from a string\n",
        "\n",
        "*You can find a more complete list of string methods/functions [here](https://www.geeksforgeeks.org/python-string-methods/)*\n",
        "\n",
        "\n"
      ],
      "metadata": {
        "id": "3QNH-A0SNDCy"
      }
    },
    {
      "cell_type": "code",
      "source": [
        "# Print a lower case version of the string using .lower()\n",
        "print('KIWI'.lower())"
      ],
      "metadata": {
        "id": "hjWw19TnOC1K"
      },
      "execution_count": null,
      "outputs": []
    },
    {
      "cell_type": "code",
      "source": [
        "# Remove the whitespace from the front of a sentence using .lstrip()\n",
        "'    look at how the whitespace in front of these words goes away!'.lstrip()"
      ],
      "metadata": {
        "id": "mh8pg8YpR0WZ"
      },
      "execution_count": null,
      "outputs": []
    },
    {
      "cell_type": "markdown",
      "source": [
        "We can also use the Python function `len()` to count the length of a string. Since a string is a series of characters, `len()` will tell us how many characters are in a string."
      ],
      "metadata": {
        "id": "K6flE7PvxFPd"
      }
    },
    {
      "cell_type": "code",
      "source": [
        "# Count the length of a string using len()\n",
        "len('kiwi')"
      ],
      "metadata": {
        "id": "A2OfSnUmOHfD"
      },
      "execution_count": null,
      "outputs": []
    },
    {
      "cell_type": "markdown",
      "source": [
        "Take note that `len()` and `print()` required putting the variable or value inside the brackets, whereas the other functions require putting the variable or string first and typing the `.function()` afterwards.\n",
        "\n",
        "The first kind of function, such as `print()` and `len()` are functions not specific to any one type or class. The second kind, such as `.upper()` are specific to a type (strings), and thus that function can only be used on values of that type. You can think of the `.function()` style as a tail which belongs to a specific animal. Foxes can only use fox tails, and dogs can only use dog tails. Strings can only use string functions, and other types can only use their functions.\n",
        "\n",
        "Later on, this distinction becomes fuzzy when we start importing functions from different libraries, because we can use the `.function()` method to call functions from libraries, or import them directly. But the general principle still remains - functions which are specific to *something* (either a type, library, or module) can be called using the `.` notation. You can see this below, where I can import a library (called `math`) and then use the `.fsum()` function to calculate the sum of two numbers.\n",
        "\n",
        "In the second cell, I import *just* the function, which makes it available without needing to use the `.` notation. This may be confusing right now, but you'll notice how different strategies for importing influence the way that functions are available in a notebook or a program.\n"
      ],
      "metadata": {
        "id": "aeNhhY5TqeXU"
      }
    },
    {
      "cell_type": "code",
      "source": [
        "# Import the library and then call a specific function from that library\n",
        "import math\n",
        "math.fsum([1,2])"
      ],
      "metadata": {
        "id": "y-EuogihrYcH"
      },
      "execution_count": null,
      "outputs": []
    },
    {
      "cell_type": "code",
      "source": [
        "# Import just the function from the math library\n",
        "from math import fsum\n",
        "fsum([1,2])"
      ],
      "metadata": {
        "id": "PJFi1qijroNP"
      },
      "execution_count": null,
      "outputs": []
    },
    {
      "cell_type": "markdown",
      "source": [
        "## **Your Turn**\n",
        "\n",
        "- Create some new code cells below\n",
        "- In the code cells, create some strings and try:\n",
        "  - using different delimiters\n",
        "  - using different functions on the strings\n",
        "  - saving the strings to a variable name and then using functions\n",
        "\n",
        "\n",
        "\n",
        "\n"
      ],
      "metadata": {
        "id": "qGnAZVeQOZl3"
      }
    },
    {
      "cell_type": "code",
      "source": [],
      "metadata": {
        "id": "4ufEFwbq4ebw"
      },
      "execution_count": null,
      "outputs": []
    },
    {
      "cell_type": "markdown",
      "source": [
        "## **Unpacking Strings**\n",
        "\n",
        "To continue the point I was making above, strings might look like sentences or phrases to us, and we can understand the differences between letters, punctuation, and whitespace. But computationally these are all variably equal **characters**, and as such a string in Python will be as long as the number of characters.\n",
        "\n",
        "For example, note how the length of the following two strings is different, even though the phrase is identical. Can you see why?"
      ],
      "metadata": {
        "id": "8Krj-uj5PnVC"
      }
    },
    {
      "cell_type": "code",
      "source": [
        "# Version 1\n",
        "len('underneath it all')"
      ],
      "metadata": {
        "id": "pBcB5-ItP2Ea"
      },
      "execution_count": null,
      "outputs": []
    },
    {
      "cell_type": "code",
      "source": [
        "# Version 2\n",
        "len('underneath it all ')"
      ],
      "metadata": {
        "id": "nBbJVqjKP4jK"
      },
      "execution_count": null,
      "outputs": []
    },
    {
      "cell_type": "markdown",
      "source": [
        "Punctuation also matters, compare these two examples, why is the first version longer than the second?"
      ],
      "metadata": {
        "id": "TewNwKv0Qz0u"
      }
    },
    {
      "cell_type": "code",
      "source": [
        "len(\"I can't even\")"
      ],
      "metadata": {
        "id": "VHvWorwGQ4kE"
      },
      "execution_count": null,
      "outputs": []
    },
    {
      "cell_type": "code",
      "source": [
        "len(\"I cant even\")"
      ],
      "metadata": {
        "id": "nMiqR8EfQ7OB"
      },
      "execution_count": null,
      "outputs": []
    },
    {
      "cell_type": "markdown",
      "source": [
        "# Discussion\n",
        "\n",
        "Consider the way strings are stored computationally.\n",
        "\n",
        "- What implications or challenges do you think this might pose for the computational representation of text?\n",
        "\n",
        "- Based on your understanding of strings thus far, are there any differences between the following computational representations of text?\n",
        "  - words versus letters\n",
        "  - sentences versus words\n",
        "  - paragraphs versus sentences\n",
        "  - texts versus paragraphs\n",
        "\n",
        "- What remaining questions do you have about variables, strings, and the functions used in this notebook?\n",
        "\n"
      ],
      "metadata": {
        "id": "vrXHNlOj1r_Z"
      }
    }
  ]
}