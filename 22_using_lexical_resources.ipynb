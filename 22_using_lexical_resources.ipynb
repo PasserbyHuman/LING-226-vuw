{
  "cells": [
    {
      "cell_type": "markdown",
      "metadata": {
        "colab_type": "text",
        "id": "view-in-github"
      },
      "source": [
        "<a href=\"https://colab.research.google.com/github/scskalicky/LING-226-vuw/blob/main/22_using_lexical_resources.ipynb\" target=\"_parent\"><img src=\"https://colab.research.google.com/assets/colab-badge.svg\" alt=\"Open In Colab\"/></a>"
      ]
    },
    {
      "cell_type": "markdown",
      "metadata": {
        "id": "HhCGRmuSJDbb"
      },
      "source": [
        "# Analysing texts with lexical resources\n",
        "\n",
        "In this notebook I have created access to the text files which I analysed in my [*Please, please, just tell me*](https://journals.uic.edu/ojs/index.php/dad/article/view/11387/10030) article. If you [watch my video](https://vstream.au.panopto.com/Panopto/Pages/Viewer.aspx?id=554acdba-a8cc-4c3b-8d00-adf500816e28), you'll have a good background/understanding of what I did in the paper and how the linguistic features were used.\n",
        "\n",
        "Of course, I did that entire analysis in R and on my own local computer. Doing it in Colab is a bit different but here is a chance to be able to play with the same data. I'll provide you with a method to load in all the texts (this asks you to download them all to your Google Drive)."
      ]
    },
    {
      "cell_type": "markdown",
      "metadata": {
        "id": "u4uwxIOwJ6PC"
      },
      "source": [
        "## Working with `.csv` files\n",
        "\n",
        "I'm going to use two things we haven't discussed, but are useful. First, I'll use the `pandas` library because it has a really easy method to read in a `.csv` file from a URL. (A .csv file is a file where text is separated by commas, which can be opened as a spreadsheet in excel as well as text editors). \n",
        "\n",
        "In the cell below, I import `pandas` and then read in the `.csv` file. \n",
        "\n",
        "I then rename the file and ask for four specific columns from the file, which is similar to slicing."
      ]
    },
    {
      "cell_type": "code",
      "execution_count": 1,
      "metadata": {
        "id": "bJyFf54NHOGk"
      },
      "outputs": [],
      "source": [
        "# You can download a .csv files which contains all texts\n",
        "import pandas as pd\n",
        "data = pd.read_csv('https://raw.githubusercontent.com/scskalicky/LING-226-vuw/main/wwdtm_cleaned3.csv')\n",
        "\n",
        "# subset the data so that we only have the columns that we want. \n",
        "wwdtm_data = data[['date', 'Order', 'Veracity', 'clean_text']]"
      ]
    },
    {
      "cell_type": "markdown",
      "metadata": {
        "id": "oyUoHnSgKZfN"
      },
      "source": [
        "You can view the entire file by calling the file name. This is a pandas dataframe, which is an object type we haven't explored, but you can think of it for now as a spreadsheet. You can see that by default we get a peek at the first few and last few rows of the spreadsheet. \n",
        "\n",
        "The structure of the data is:\n",
        "- `date` is the day of the show, and each date will have three stories\n",
        "- `order` is the order of the stories presented on any one date. So, each date has order values of 1, 2, 3\n",
        "- `veracity` marks if the story was truthful (1) or a lie (0)\n",
        "- `clean_text` is the text of the story, which I've already cleaned to be lower case and fixed spelling mistakes. "
      ]
    },
    {
      "cell_type": "code",
      "execution_count": 2,
      "metadata": {
        "id": "HTnqvmLBKc5J"
      },
      "outputs": [
        {
          "data": {
            "text/html": [
              "<div>\n",
              "<style scoped>\n",
              "    .dataframe tbody tr th:only-of-type {\n",
              "        vertical-align: middle;\n",
              "    }\n",
              "\n",
              "    .dataframe tbody tr th {\n",
              "        vertical-align: top;\n",
              "    }\n",
              "\n",
              "    .dataframe thead th {\n",
              "        text-align: right;\n",
              "    }\n",
              "</style>\n",
              "<table border=\"1\" class=\"dataframe\">\n",
              "  <thead>\n",
              "    <tr style=\"text-align: right;\">\n",
              "      <th></th>\n",
              "      <th>date</th>\n",
              "      <th>Order</th>\n",
              "      <th>Veracity</th>\n",
              "      <th>clean_text</th>\n",
              "    </tr>\n",
              "  </thead>\n",
              "  <tbody>\n",
              "    <tr>\n",
              "      <th>0</th>\n",
              "      <td>2010-05-29T00:00:00Z</td>\n",
              "      <td>2</td>\n",
              "      <td>1</td>\n",
              "      <td>how do you solve a problem like sciatica? the ...</td>\n",
              "    </tr>\n",
              "    <tr>\n",
              "      <th>1</th>\n",
              "      <td>2010-05-29T00:00:00Z</td>\n",
              "      <td>3</td>\n",
              "      <td>0</td>\n",
              "      <td>thomas shandal smith thought he was a harvard ...</td>\n",
              "    </tr>\n",
              "    <tr>\n",
              "      <th>2</th>\n",
              "      <td>2010-05-29T00:00:00Z</td>\n",
              "      <td>1</td>\n",
              "      <td>0</td>\n",
              "      <td>the economic downturn in nevada and the enviro...</td>\n",
              "    </tr>\n",
              "    <tr>\n",
              "      <th>3</th>\n",
              "      <td>2011-05-21T00:00:00Z</td>\n",
              "      <td>3</td>\n",
              "      <td>0</td>\n",
              "      <td>it is a dog eat dog world out there. deluxe do...</td>\n",
              "    </tr>\n",
              "    <tr>\n",
              "      <th>4</th>\n",
              "      <td>2011-05-21T00:00:00Z</td>\n",
              "      <td>2</td>\n",
              "      <td>0</td>\n",
              "      <td>there's an old pirate saying that dead men tel...</td>\n",
              "    </tr>\n",
              "    <tr>\n",
              "      <th>...</th>\n",
              "      <td>...</td>\n",
              "      <td>...</td>\n",
              "      <td>...</td>\n",
              "      <td>...</td>\n",
              "    </tr>\n",
              "    <tr>\n",
              "      <th>748</th>\n",
              "      <td>2010-11-06T00:00:00Z</td>\n",
              "      <td>2</td>\n",
              "      <td>0</td>\n",
              "      <td>as a travel writer, he's used to freebies and ...</td>\n",
              "    </tr>\n",
              "    <tr>\n",
              "      <th>749</th>\n",
              "      <td>2010-11-06T00:00:00Z</td>\n",
              "      <td>3</td>\n",
              "      <td>0</td>\n",
              "      <td>the indonesian province of irian jaya received...</td>\n",
              "    </tr>\n",
              "    <tr>\n",
              "      <th>750</th>\n",
              "      <td>2010-10-16T00:00:00Z</td>\n",
              "      <td>3</td>\n",
              "      <td>0</td>\n",
              "      <td>actor steve guttenberg and his brother dack we...</td>\n",
              "    </tr>\n",
              "    <tr>\n",
              "      <th>751</th>\n",
              "      <td>2010-10-16T00:00:00Z</td>\n",
              "      <td>1</td>\n",
              "      <td>1</td>\n",
              "      <td>back in the '40s, germany's dassler brothers h...</td>\n",
              "    </tr>\n",
              "    <tr>\n",
              "      <th>752</th>\n",
              "      <td>2010-10-16T00:00:00Z</td>\n",
              "      <td>2</td>\n",
              "      <td>0</td>\n",
              "      <td>britain's west family owned what they always t...</td>\n",
              "    </tr>\n",
              "  </tbody>\n",
              "</table>\n",
              "<p>753 rows × 4 columns</p>\n",
              "</div>"
            ],
            "text/plain": [
              "                     date  Order  Veracity  \\\n",
              "0    2010-05-29T00:00:00Z      2         1   \n",
              "1    2010-05-29T00:00:00Z      3         0   \n",
              "2    2010-05-29T00:00:00Z      1         0   \n",
              "3    2011-05-21T00:00:00Z      3         0   \n",
              "4    2011-05-21T00:00:00Z      2         0   \n",
              "..                    ...    ...       ...   \n",
              "748  2010-11-06T00:00:00Z      2         0   \n",
              "749  2010-11-06T00:00:00Z      3         0   \n",
              "750  2010-10-16T00:00:00Z      3         0   \n",
              "751  2010-10-16T00:00:00Z      1         1   \n",
              "752  2010-10-16T00:00:00Z      2         0   \n",
              "\n",
              "                                            clean_text  \n",
              "0    how do you solve a problem like sciatica? the ...  \n",
              "1    thomas shandal smith thought he was a harvard ...  \n",
              "2    the economic downturn in nevada and the enviro...  \n",
              "3    it is a dog eat dog world out there. deluxe do...  \n",
              "4    there's an old pirate saying that dead men tel...  \n",
              "..                                                 ...  \n",
              "748  as a travel writer, he's used to freebies and ...  \n",
              "749  the indonesian province of irian jaya received...  \n",
              "750  actor steve guttenberg and his brother dack we...  \n",
              "751  back in the '40s, germany's dassler brothers h...  \n",
              "752  britain's west family owned what they always t...  \n",
              "\n",
              "[753 rows x 4 columns]"
            ]
          },
          "execution_count": 2,
          "metadata": {},
          "output_type": "execute_result"
        }
      ],
      "source": [
        "wwdtm_data"
      ]
    },
    {
      "cell_type": "markdown",
      "metadata": {
        "id": "E9aAXw3JWq0G"
      },
      "source": [
        "We can slice by asking for a specific column name, which would return that entire column, but then slice just a specific text. "
      ]
    },
    {
      "cell_type": "code",
      "execution_count": 3,
      "metadata": {
        "id": "Ws3lQaRyb6d1"
      },
      "outputs": [
        {
          "data": {
            "text/plain": [
              "'how do you solve a problem like sciatica? the sisters of the marienkron abbey in austria have the answer, and a profitable one at that. initially, the cash-strapped nuns hatched a chicken breeding business, but that failed. the chickens were presumably too chaste. the nuns then decided to convert their convent into, naturally, a massage parlor. their five-star spa is alive with the sound of high pressure jets pummeling guests with chilled mineral water to stimulate the skin. at 100 euros a night, the nuns are doubtless singing...  so long, farewell, auf wiedersehen, shiatsu for you and you and you and you and you.'"
            ]
          },
          "execution_count": 3,
          "metadata": {},
          "output_type": "execute_result"
        }
      ],
      "source": [
        "# look at the first text, which is a true story!\n",
        "wwdtm_data['clean_text'][0]"
      ]
    },
    {
      "cell_type": "markdown",
      "metadata": {
        "id": "97LtHSDqLQGJ"
      },
      "source": [
        "### Creating individual text files from the `.csv`\n",
        "\n",
        "Ok, so we *could* operate on the texts in the `.csv` file. But let's take this opportunity to see how we could convert each individual row into a text file. I'll process each row so that I create a unique filename for each text file and store the contents of `clean_text` as the contents of the `.txt` file. \n",
        "\n",
        "In the cell below I show you how to write this data to your Google Drive. You'll need to manually create a folder named `wwdtm` in your Google drive (or revise the path I've used in the `open()` call below). \n",
        "\n",
        "I first initiate a `for loop` which is equal to the length of the data, going through each row of the data, one-at-a-time. (There are other ways to do this which are more computationally efficient, but we can keep it simple for now).\n",
        "\n",
        "I then check whether the value of `Veracity` is equal to 1 or 0 (1 means true, 0 means fake). I create a temporary variable, `category`, which has the value of `true` or `fake` depending upon the value of `Veracity`. \n",
        "\n",
        "I then create a filename which is the first 10 characters of the date, which will be YYYY-MM-DD, plus the order of the story (1, 2, or 3), plus whether the story was truth or fake. \n",
        "\n",
        "I then save a file to the `wwdtm` folder which include the contents of `clean_text` saved to the filename. I manually created this folder in my `texts` folder in my drive, and you'll need to do the same to emulate this behaviour (or, again, change the filepath that I'm using). You'll also need to have mounted your google drive. \n",
        "\n",
        "If you run the cell below, you will add ~750 text files to a folder in your Google Drive. Make sure to create the `wwdtm` folder first, and wait at least 10 seconds before running the function. It might take your Google Drive a bit to update the folder with all the files. \n",
        "\n",
        "**a word of caution**\n",
        "\n",
        "when you run this function with an empty folder, it will run quickly. If you run it with texts already created, it will be much slower - so try to set this up once and then not do it again :)\n",
        "\n",
        "If you do want to run it again, it will honestly be faster to delete the wwdtm folder from your drive, and then create it again, and rerun the function. \n",
        "\n",
        "\n"
      ]
    },
    {
      "cell_type": "code",
      "execution_count": 4,
      "metadata": {
        "id": "vrfrcDtDYEyB"
      },
      "outputs": [
        {
          "ename": "ModuleNotFoundError",
          "evalue": "No module named 'google'",
          "output_type": "error",
          "traceback": [
            "\u001b[0;31m---------------------------------------------------------------------------\u001b[0m",
            "\u001b[0;31mModuleNotFoundError\u001b[0m                       Traceback (most recent call last)",
            "\u001b[0;32m/var/folders/fg/2sbllhxx5hb53npbh1kxq9hr0000gn/T/ipykernel_22860/1408506528.py\u001b[0m in \u001b[0;36m<cell line: 1>\u001b[0;34m()\u001b[0m\n\u001b[0;32m----> 1\u001b[0;31m \u001b[0;32mfrom\u001b[0m \u001b[0mgoogle\u001b[0m\u001b[0;34m.\u001b[0m\u001b[0mcolab\u001b[0m \u001b[0;32mimport\u001b[0m \u001b[0mdrive\u001b[0m\u001b[0;34m\u001b[0m\u001b[0;34m\u001b[0m\u001b[0m\n\u001b[0m\u001b[1;32m      2\u001b[0m \u001b[0mdrive\u001b[0m\u001b[0;34m.\u001b[0m\u001b[0mmount\u001b[0m\u001b[0;34m(\u001b[0m\u001b[0;34m'/content/drive'\u001b[0m\u001b[0;34m)\u001b[0m\u001b[0;34m\u001b[0m\u001b[0;34m\u001b[0m\u001b[0m\n",
            "\u001b[0;31mModuleNotFoundError\u001b[0m: No module named 'google'"
          ]
        }
      ],
      "source": [
        "from google.colab import drive\n",
        "drive.mount('/content/drive')"
      ]
    },
    {
      "cell_type": "code",
      "execution_count": null,
      "metadata": {
        "id": "Ebet89EEb-sY"
      },
      "outputs": [],
      "source": [
        "# write the data to your google drive\n",
        "# make a folder in your google drive named 'wwdtm'  \n",
        "# loop through each line in the csv\n",
        "for row in range(len(wwdtm_data)):\n",
        "\n",
        "  # create a true/fake category based on the veracity label\n",
        "  if wwdtm_data['Veracity'][row] == 1:\n",
        "    category = 'true'\n",
        "  else:\n",
        "    category = 'fake'\n",
        "  \n",
        "  # create the filename, whiich is the year/day + the order+ the category\n",
        "  filename = wwdtm_data['date'][row][:10] + '_' + str(wwdtm_data['Order'][row]) + '_' + category\n",
        "\n",
        "  # write each file to the wwdtm folder. \n",
        "  open('/content/drive/MyDrive/texts/wwdtm/' + filename + '.txt', 'w').write(wwdtm_data[\"clean_text\"][row])"
      ]
    },
    {
      "cell_type": "markdown",
      "metadata": {
        "id": "o2MDj6P0NCWQ"
      },
      "source": [
        "### Creating a categorised NLTK corpus\n",
        "\n",
        "Sweet, you hopefully have access to the files now through using my method or a method of your choice. Let's now bring them into Colab in a format where we can analyse them. Specifically, I'll use the NLTK function to create a categorized corpus from the WWDTM texts. \n",
        "\n",
        "In the cell below, I first import the `CategorizedPlaintextCorpusReader` class, which will let me create a categorized corpus. \n",
        "\n",
        "I then create a variable which saves the path to my texts. \n",
        "\n",
        "I then create the corpus by pointing it at my corpus location. I ask the corpus to use any file with the second argument (using `'.*'`), and then tell the function to find my categories in the last four characters of the filename. That's what the regular expression is doing in `cat_pattern` - I've put the () around the last four `.` of my text filesnames, which is either `true` or `fake`.  This creates an NLTK corpus with the associated categories. "
      ]
    },
    {
      "cell_type": "code",
      "execution_count": null,
      "metadata": {
        "id": "5ct3AZQSNJvJ"
      },
      "outputs": [],
      "source": [
        "import nltk\n",
        "from nltk.corpus.reader.plaintext import CategorizedPlaintextCorpusReader\n",
        "\n",
        "corpus_location = '/content/drive/MyDrive/texts/wwdtm/'\n",
        "\n",
        "wwdtm_corpus = CategorizedPlaintextCorpusReader(corpus_location, '.*', cat_pattern = '.*(....).txt')"
      ]
    },
    {
      "cell_type": "code",
      "execution_count": null,
      "metadata": {
        "id": "lGNNRvuFQlt_"
      },
      "outputs": [],
      "source": [
        "# categories work!\n",
        "wwdtm_corpus.categories()"
      ]
    },
    {
      "cell_type": "code",
      "execution_count": null,
      "metadata": {
        "id": "MYJT4iMSNgAd"
      },
      "outputs": [],
      "source": [
        "# we can use the fileids()\n",
        "wwdtm_corpus.fileids()[:10]"
      ]
    },
    {
      "cell_type": "code",
      "execution_count": null,
      "metadata": {
        "id": "G51ezHQGSBlv"
      },
      "outputs": [],
      "source": [
        "# let's look at the words for a text in the corpus\n",
        "' '.join([w for w in wwdtm_corpus.words('2017-02-04_2_fake.txt')])"
      ]
    },
    {
      "cell_type": "markdown",
      "metadata": {
        "id": "3vfkPVpBSwPY"
      },
      "source": [
        "We now have access to all the same functions a built-in NLTK corpus has. We could use the handy conditional frequency distribution to then compare the two categories. See below. I am using basically the same code used in [NLTK chapter 02, Section 1.3.](https://www.nltk.org/book/ch02.html) "
      ]
    },
    {
      "cell_type": "code",
      "execution_count": null,
      "metadata": {
        "id": "L0l5Ue7kSvbN"
      },
      "outputs": [],
      "source": [
        "# Create CFD for fake/true\n",
        "wwdtm_cfd = nltk.ConditionalFreqDist(\n",
        "    (category, word)\n",
        "    for category in wwdtm_corpus.categories()\n",
        "    for word in wwdtm_corpus.words(categories = category))"
      ]
    },
    {
      "cell_type": "markdown",
      "metadata": {
        "id": "bKEiEP5UU_7o"
      },
      "source": [
        "You can now search for target words in the CFD to see if there are any lexical differences between our corpora. I decided to see if there was a difference in the use of certain pronouns between fake and truthful stories. The results below tenatively suggest that there is a preference for first-person pronouns in the fake stories when compared to the truthful stories. We should remember that 2/3 of the corpus is fake, but even with that imbalance, it seems that truthful stories avoid first-person. Interesting! Perhaps this has something to do with creating a fictional narrative? "
      ]
    },
    {
      "cell_type": "code",
      "execution_count": null,
      "metadata": {
        "id": "Z2YyvLNIUNaM"
      },
      "outputs": [],
      "source": [
        "# You can now search for target vocab\n",
        "categories = ['true', 'fake']\n",
        "target_words = ['you', 'we', 'my', 'i', 'our', 'us']"
      ]
    },
    {
      "cell_type": "code",
      "execution_count": null,
      "metadata": {
        "id": "q16KgRQeUe8E"
      },
      "outputs": [],
      "source": [
        "wwdtm_cfd.tabulate(condition = categories, samples = target_words)"
      ]
    },
    {
      "cell_type": "markdown",
      "metadata": {
        "id": "qLDD43KdVpTk"
      },
      "source": [
        "We can now emulate some of the same analyses done in the original paper. I looked for a variety of differences in the text types in my analysis, including things like words related to strength from the General Inquirer list. Let's load that resource in. \n"
      ]
    },
    {
      "cell_type": "code",
      "execution_count": null,
      "metadata": {
        "id": "eUKZ6twIp3Y3"
      },
      "outputs": [],
      "source": [
        "# GI list\n",
        "import requests\n",
        "\n",
        "gi_url = 'https://raw.githubusercontent.com/scskalicky/LING-226-vuw/main/lexical%20resources/inquirerbasic.txt'\n",
        "raw_gi = requests.get(gi_url).text.split('\\n')"
      ]
    },
    {
      "cell_type": "code",
      "execution_count": null,
      "metadata": {
        "id": "LuhUnfn2p-I5"
      },
      "outputs": [],
      "source": [
        "# turn the list into a dictionary we can use. \n",
        "gi_dict = dict()\n",
        "\n",
        "for category in raw_gi:\n",
        "  gi_dict[category.split('\\t')[0]] = category.split('\\t')[1:]"
      ]
    },
    {
      "cell_type": "code",
      "execution_count": null,
      "metadata": {
        "id": "lOXf1UmYWMEC"
      },
      "outputs": [],
      "source": [
        "# we can see the categories here, let's get the STRONG_GI words into a list. \n",
        "gi_dict.keys()"
      ]
    },
    {
      "cell_type": "code",
      "execution_count": null,
      "metadata": {
        "id": "14WyJMpGWWSK"
      },
      "outputs": [],
      "source": [
        "strong_words = gi_dict[\"Strong_GI\"]"
      ]
    },
    {
      "cell_type": "markdown",
      "metadata": {
        "id": "VLnzb47VXaI5"
      },
      "source": [
        "There are a lot of words in this list and some repeats (which might be my fault?!). Let's reduce the list just so it is more manageable for this analysis.  "
      ]
    },
    {
      "cell_type": "code",
      "execution_count": null,
      "metadata": {
        "id": "sRESHN5GWZPJ"
      },
      "outputs": [],
      "source": [
        "# full list is 1902 long\n",
        "len(strong_words)"
      ]
    },
    {
      "cell_type": "code",
      "execution_count": null,
      "metadata": {
        "id": "DN3oI6TVXPkC"
      },
      "outputs": [],
      "source": [
        "# with ~400 repeats\n",
        "len(set(strong_words))"
      ]
    },
    {
      "cell_type": "code",
      "execution_count": null,
      "metadata": {
        "id": "nqeO52yAW8ra"
      },
      "outputs": [],
      "source": [
        "small_strong = set([w for w in strong_words if len(w) < 6])"
      ]
    },
    {
      "cell_type": "code",
      "execution_count": null,
      "metadata": {
        "id": "pjOeP3YeXt1k"
      },
      "outputs": [],
      "source": [
        "# much more managable\n",
        "len(small_strong)"
      ]
    },
    {
      "cell_type": "markdown",
      "metadata": {
        "id": "gNlYrNfpYTD9"
      },
      "source": [
        "In my results for the published paper I said that fake texts have more strong words (limited to adjectives, actually, but let's ignore that for now). Check out these results, do they match with the results of the please, please paper?  (e.g., do the fake stories have more \"strength\" words than truth?). Compare the orange to blue lines below ( you can also run `.tabulate()` to compare the numbers manually. "
      ]
    },
    {
      "cell_type": "code",
      "execution_count": null,
      "metadata": {
        "id": "g5rCdgp4Wdk0"
      },
      "outputs": [],
      "source": [
        "# import matplotlib so we can adjust the plot size\n",
        "import matplotlib.pyplot as plt\n",
        "plt.figure(figsize = (20, 10))\n",
        "\n",
        "# plot the CFD for strength words\n",
        "wwdtm_cfd.plot(conditions = categories, samples = small_strong)"
      ]
    },
    {
      "cell_type": "markdown",
      "metadata": {
        "id": "AdyQPR23ZYcq"
      },
      "source": [
        "## Operating outside of NLTK functions\n",
        "\n",
        "So that's how we could use the built-in NLTK stuff. We can also just say \"screw you NLTK\" and do our own custom stuff. Let's do that below. I wanna use VADER and analyse the average compound sentiment for my texts. How can I do that? First, let's import the vader stuff. It now gives a fun warning about twython which we can ignore. \n"
      ]
    },
    {
      "cell_type": "code",
      "execution_count": 6,
      "metadata": {
        "id": "uE0MygLya1Vh"
      },
      "outputs": [
        {
          "name": "stderr",
          "output_type": "stream",
          "text": [
            "[nltk_data] Downloading package vader_lexicon to\n",
            "[nltk_data]     /Users/sskalicky/nltk_data...\n",
            "[nltk_data]   Package vader_lexicon is already up-to-date!\n"
          ]
        }
      ],
      "source": [
        "# Import the vader sentiment analyzer and save to the variable `sid`\n",
        "import nltk\n",
        "nltk.download('vader_lexicon')\n",
        "from nltk.sentiment.vader import SentimentIntensityAnalyzer\n",
        "sid = SentimentIntensityAnalyzer()"
      ]
    },
    {
      "cell_type": "markdown",
      "metadata": {
        "id": "fWl-tNk5chaK"
      },
      "source": [
        "Ok, I'm going to make a function named `vader_parser()`. This function is going to read in my texts from the `wwdtm` directory and analyse them one at a time. \n",
        "\n",
        "I first create two empty output lists, one for truthful, and one for deceptive stories.\n",
        "\n",
        "I then use `glob` to grab a list of all the `.txt` files in my `wwdtm` directory. \n",
        "\n",
        "I then initiate a `for loop` over the filepaths. For each filepath, I read in the file. I then check whether the file name contains `true` or `fake` in the four characters before `.txt` in the filename — notice the slice to do so. \n",
        "\n",
        "I then run the VADER sentiment score on the file and append the result to `true_polarity` or `fake_polarity` according to the filename. \n",
        "\n",
        "Once the loop is done, I gather the average of each list and print the results. "
      ]
    },
    {
      "cell_type": "code",
      "execution_count": null,
      "metadata": {
        "id": "kHczaC-8ZkjO"
      },
      "outputs": [],
      "source": [
        "import glob\n",
        "\n",
        "def vader_parser():\n",
        "\n",
        "  # initalise empty lists for outout\n",
        "  true_polarity = []\n",
        "  fake_polarity = []\n",
        "\n",
        "  # grab list of texts in the dir\n",
        "  text_paths = glob.glob('/content/drive/MyDrive/texts/wwdtm/*')\n",
        "  \n",
        "  # loop through the texts\n",
        "  for path in text_paths:\n",
        "\n",
        "    # this is where the text is actually opened\n",
        "    t = open(path).read()\n",
        "\n",
        "    # check if text is true or false\n",
        "    # the calculate vader score\n",
        "    # note I slice out the `compound` value from the result. \n",
        "    if path[-8:-4] == 'true':\n",
        "      sentiment_compound = sid.polarity_scores(t)['compound'] # slice out just the compound score\n",
        "      true_polarity.append(sentiment_compound)\n",
        "    else:\n",
        "      sentiment_compound = sid.polarity_scores(t)['compound']\n",
        "      fake_polarity.append(sentiment_compound)\n",
        "\n",
        "  # once the loop is done, calculate the avg compound scores for each text categorie\n",
        "  avg_true_sent = sum(true_polarity)/len(true_polarity)\n",
        "  avg_fake_sent = sum(fake_polarity)/len(fake_polarity)\n",
        "\n",
        "  # print the results\n",
        "  print(f'true polarity = {avg_true_sent}')\n",
        "  print(f'fake polarity = {avg_fake_sent}')"
      ]
    },
    {
      "cell_type": "markdown",
      "metadata": {
        "id": "KnS2J0Jsh8UD"
      },
      "source": [
        "Let's run the function. As you can see, the fake stories have, on average, a higher positive sentiment. This might suggest that the authors of the deceptive stories are consciously or subconsciously using language in a specific way, which manifests as more positive sentiment. This also matches the results in the *please, please* paper :)"
      ]
    },
    {
      "cell_type": "code",
      "execution_count": null,
      "metadata": {
        "id": "k8SENZkwZ9-M"
      },
      "outputs": [],
      "source": [
        "# run the function\n",
        "vader_parser()"
      ]
    },
    {
      "cell_type": "markdown",
      "metadata": {
        "id": "8CKpnxFLiO6W"
      },
      "source": [
        "You could adapt the above function to calculate a variety of features per text, rather than writing different functions. One thing to reflect upon is whether you might want to tokenize and pos_tag first so that you could run the results on specific word categories or even phrases.\n",
        "\n",
        "I hope that this has shown you that you have a pretty wide mandate on how you might want to analyse texts for this course. Although NLTK might seem like you have to use it a certain way, you're free to leave or take any aspects of it you'd like to use. You can also buck NLTK and do you own custom analysis, like I did (although technically I used the NLTK class for VADER sentiment!). \n",
        "\n",
        "For the remainder of this workshop, please take the time to continue analysing these texts *or* reading in your own texts. You should try to find ways to use some of the other lexical resources I've provided, as well as anything else you might want to anlayse. The goal is to become more comfortable comparing texts for various linguistic properties. "
      ]
    }
  ],
  "metadata": {
    "colab": {
      "include_colab_link": true,
      "private_outputs": true,
      "provenance": []
    },
    "kernelspec": {
      "display_name": "Python 3.10.5 64-bit",
      "language": "python",
      "name": "python3"
    },
    "language_info": {
      "codemirror_mode": {
        "name": "ipython",
        "version": 3
      },
      "file_extension": ".py",
      "mimetype": "text/x-python",
      "name": "python",
      "nbconvert_exporter": "python",
      "pygments_lexer": "ipython3",
      "version": "3.10.5"
    },
    "vscode": {
      "interpreter": {
        "hash": "44a9cdcbdccbf05a880e90d2e6fe72470baab4d1b82472d890be0596ed887a6b"
      }
    }
  },
  "nbformat": 4,
  "nbformat_minor": 0
}
