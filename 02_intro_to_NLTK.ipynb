{
  "cells": [
    {
      "cell_type": "markdown",
      "metadata": {
        "colab_type": "text",
        "id": "view-in-github"
      },
      "source": [
        "<a href=\"https://colab.research.google.com/github/scskalicky/LING-226-vuw/blob/main/02_intro_to_NLTK.ipynb\" target=\"_parent\"><img src=\"https://colab.research.google.com/assets/colab-badge.svg\" alt=\"Open In Colab\"/></a>"
      ]
    },
    {
      "cell_type": "markdown",
      "metadata": {
        "id": "d_vjnsOY-w-M"
      },
      "source": [
        "# Getting started with NLTK\n",
        "\n",
        "\n",
        "You'll notice that sections 1.1 and 1.2 of Chapter 1 in the NLTK Book contain instructions for how to install Python and NLTK on your computer. If you are using Google Collaboratory, these points are not relevant. However, you are still encouraged to read these sections for a better understanding of how Python and NLTK would work outside of Google Colab.\n",
        "\n",
        "*A few other notes*\n",
        "- Google Colab does not have the `>>>` prompt mentioned in the NLTK book - this is replaced by the code cells in Colab.\n",
        "- the `generate()` function will not work. \n",
        "- there are likely many other little things that won't work based on various updates to Python/NLTK and/or the use of Google Colab, such as plotting and other functions which come later in the book. "
      ]
    },
    {
      "cell_type": "markdown",
      "metadata": {
        "id": "3hPAJpD5_NyT"
      },
      "source": [
        "## Accessing NLTK on Google Colab\n",
        "\n",
        "- NLTK is already pre-installed in Google Colab. But NLTK requires a lot of additional resources which we need to download. In section 1.2 of Chapter 1, the NLTK book explains that to access these resources one should use `nltk.download()`. We will use the same function but will not see the graphical downloader shown in the book.\n",
        "\n",
        "- For instance, one of the very first lessons in NLTK section 1.2 asks you to use `from nltk.book import *`, which means import everything from `nltk.book` (the `*` means everything). However you will get an error if you try this in Colab because the `book` data has not yet been downloaded.\n",
        "\n",
        "- When you do not have the right resource to run a particular NLTK function, you will see an error which looks like this:\n",
        ">> ![error](https://drive.google.com/uc?id=1nt76M0KbiLueTYHb72HSFnREC9_1DsM4)\n",
        "\n",
        "- If you see this error, don't panic! It just means you are missing a specific resource. In this example, the part that I selected in yellow is what is missing - in this case it is the resource `stopwords`. All you need to do is ask Colab to download the resource using the `nltk.download()` function. Because the Colab notebook is running on a temporary server, you will need to repeat this each time you connect to a new sessino. Fortunately, it does not take very long to download the data. \n",
        "\n",
        "You can specify which resources you need by passing each resource as a `string` inside a single `list` (i.e., inside square brackets `[]`). In the example below, I include a wide range of specific resources which you will need for the first chapter of NLTK. \n",
        "\n",
        "```\n",
        "# define a list of resources and save to variable\n",
        "nltk_resources = ['gutenberg', 'genesis', 'inaugural', 'nps_chat', 'webtext',\n",
        " 'treebank', 'stopwords', 'punkt', 'brown', 'reuters', 'udhr', 'words', 'names', 'cmudict', 'swadesh', 'wordnet', 'state_union']\n",
        "\n",
        "# Pass the list to nltk.download(), which will then download each resource\n",
        "nltk.download(nltk_resources)\n",
        "```\n",
        "\n",
        "Once you have sorted out your ability to access NLTK resources, you are ready to go through the rest of the notebook lessons. "
      ]
    },
    {
      "cell_type": "code",
      "execution_count": 1,
      "metadata": {
        "id": "XpUZxNNO-tL3"
      },
      "outputs": [
        {
          "name": "stderr",
          "output_type": "stream",
          "text": [
            "[nltk_data] Downloading package gutenberg to\n",
            "[nltk_data]     /Users/sskalicky/nltk_data...\n",
            "[nltk_data]   Package gutenberg is already up-to-date!\n",
            "[nltk_data] Downloading package genesis to\n",
            "[nltk_data]     /Users/sskalicky/nltk_data...\n",
            "[nltk_data]   Package genesis is already up-to-date!\n",
            "[nltk_data] Downloading package inaugural to\n",
            "[nltk_data]     /Users/sskalicky/nltk_data...\n",
            "[nltk_data]   Package inaugural is already up-to-date!\n",
            "[nltk_data] Downloading package nps_chat to\n",
            "[nltk_data]     /Users/sskalicky/nltk_data...\n",
            "[nltk_data]   Package nps_chat is already up-to-date!\n",
            "[nltk_data] Downloading package webtext to\n",
            "[nltk_data]     /Users/sskalicky/nltk_data...\n",
            "[nltk_data]   Package webtext is already up-to-date!\n",
            "[nltk_data] Downloading package treebank to\n",
            "[nltk_data]     /Users/sskalicky/nltk_data...\n",
            "[nltk_data]   Package treebank is already up-to-date!\n",
            "[nltk_data] Downloading package stopwords to\n",
            "[nltk_data]     /Users/sskalicky/nltk_data...\n",
            "[nltk_data]   Package stopwords is already up-to-date!\n",
            "[nltk_data] Downloading package punkt to /Users/sskalicky/nltk_data...\n",
            "[nltk_data]   Package punkt is already up-to-date!\n",
            "[nltk_data] Downloading package brown to /Users/sskalicky/nltk_data...\n",
            "[nltk_data]   Package brown is already up-to-date!\n",
            "[nltk_data] Downloading package reuters to\n",
            "[nltk_data]     /Users/sskalicky/nltk_data...\n",
            "[nltk_data]   Package reuters is already up-to-date!\n",
            "[nltk_data] Downloading package udhr to /Users/sskalicky/nltk_data...\n",
            "[nltk_data]   Package udhr is already up-to-date!\n",
            "[nltk_data] Downloading package words to /Users/sskalicky/nltk_data...\n",
            "[nltk_data]   Package words is already up-to-date!\n",
            "[nltk_data] Downloading package names to /Users/sskalicky/nltk_data...\n",
            "[nltk_data]   Package names is already up-to-date!\n",
            "[nltk_data] Downloading package cmudict to\n",
            "[nltk_data]     /Users/sskalicky/nltk_data...\n",
            "[nltk_data]   Package cmudict is already up-to-date!\n",
            "[nltk_data] Downloading package swadesh to\n",
            "[nltk_data]     /Users/sskalicky/nltk_data...\n",
            "[nltk_data]   Package swadesh is already up-to-date!\n",
            "[nltk_data] Downloading package wordnet to\n",
            "[nltk_data]     /Users/sskalicky/nltk_data...\n",
            "[nltk_data]   Package wordnet is already up-to-date!\n",
            "[nltk_data] Downloading package state_union to\n",
            "[nltk_data]     /Users/sskalicky/nltk_data...\n",
            "[nltk_data]   Package state_union is already up-to-date!\n"
          ]
        },
        {
          "data": {
            "text/plain": [
              "True"
            ]
          },
          "execution_count": 1,
          "metadata": {},
          "output_type": "execute_result"
        }
      ],
      "source": [
        "# import the main nltk module\n",
        "import nltk\n",
        "\n",
        "# create a list of resources we will need for this notebook\n",
        "nltk_resources = ['gutenberg', 'genesis', 'inaugural', 'nps_chat', 'webtext', 'treebank', 'stopwords', 'punkt', 'brown', 'reuters', 'udhr', 'words', 'names', 'cmudict', 'swadesh', 'wordnet', 'state_union']\n",
        "\n",
        "# download them\n",
        "nltk.download(nltk_resources)"
      ]
    },
    {
      "cell_type": "markdown",
      "metadata": {
        "id": "muY7BdQQDlq4"
      },
      "source": [
        "# Searching Text\n",
        "\n",
        "Chapter 1 asks you to load in a series of books and corpora which are stored in NLTK as examples. Take a moment to look at the names of the files - some are single books and movie scripts, while others are different corpora. What is the difference between the two? A book is simply a stand-alone book, whereas a corpus is a large collection of text from similar texts/documents, which can be longer or shorter than a single book. "
      ]
    },
    {
      "cell_type": "code",
      "execution_count": 2,
      "metadata": {
        "id": "TPoI-04vK23i"
      },
      "outputs": [
        {
          "name": "stdout",
          "output_type": "stream",
          "text": [
            "*** Introductory Examples for the NLTK Book ***\n",
            "Loading text1, ..., text9 and sent1, ..., sent9\n",
            "Type the name of the text or sentence to view it.\n",
            "Type: 'texts()' or 'sents()' to list the materials.\n",
            "text1: Moby Dick by Herman Melville 1851\n",
            "text2: Sense and Sensibility by Jane Austen 1811\n",
            "text3: The Book of Genesis\n",
            "text4: Inaugural Address Corpus\n",
            "text5: Chat Corpus\n",
            "text6: Monty Python and the Holy Grail\n",
            "text7: Wall Street Journal\n",
            "text8: Personals Corpus\n",
            "text9: The Man Who Was Thursday by G . K . Chesterton 1908\n"
          ]
        }
      ],
      "source": [
        "# import everything from ntlk.book()\n",
        "from nltk.book import *"
      ]
    },
    {
      "cell_type": "markdown",
      "metadata": {
        "id": "vWt6zMhZO_d4"
      },
      "source": [
        "## Concordances\n",
        "\n",
        "NLTK starts off with concordances, which is a method that draws from corpus linguistics to analyse the function of different words in texts. This method is fundamental for performing corpus analysis because a concordance will let you see a single word or patterns of words **in context** of the surrounding words. \n",
        "\n",
        "The example in the NLTK book is to search for the word `monstrous` in *Moby Dick*. \n",
        "\n",
        "Here are some other collocations I searched for based on my own guesses about what you might find in the differnt corpora. "
      ]
    },
    {
      "cell_type": "code",
      "execution_count": 3,
      "metadata": {
        "id": "jgIRw-NLNanl"
      },
      "outputs": [
        {
          "name": "stdout",
          "output_type": "stream",
          "text": [
            "Displaying 2 of 2 matches:\n",
            "BRIDGEKEEPER : What is your favorite color ? LAUNCELOT : Blue . BRIDGEKEEPER : \n",
            "BRIDGEKEEPER : What is your favorite color ? GALAHAD : Blue . No yel -- auuuuuu\n"
          ]
        }
      ],
      "source": [
        "# search for \"color\" in Holy Grail\n",
        "text6.concordance('color')"
      ]
    },
    {
      "cell_type": "code",
      "execution_count": 4,
      "metadata": {
        "id": "UwejNvI2Pco2"
      },
      "outputs": [
        {
          "name": "stdout",
          "output_type": "stream",
          "text": [
            "Displaying 25 of 160 matches:\n",
            "OIN what did you but on e-bay i feel like im in the wrong room yeee haw U30 im\n",
            "1 . . . but appearently she does not like that . cya later guys single white m\n",
            "!! answers for U139 ... hi U101 ;) I like it when you do it , U83 iamahotnipwi\n",
            "how are you ? that sounds freakishly like dr seuss wow . twice , I 'm impresse\n",
            "you asshole ! U115 can i pm you ? is like no it 's not U12 , you shut yo mouth\n",
            "y its election season ooo a scorpion like always U7 and yours same well i was \n",
            "up lol JOIN shakin that 's the way I like it oh ya < sorry dont drink its k < \n",
            " < always 4.20 at my house ya PART i like mine shook over ice why so mad U19 <\n",
            "T lol U19 wooooohoooo with an answer like that ... nope .... lol ha maybe not \n",
            "se it is all good U17 call me what u like just not late for date or dinner lol\n",
            "ometime ... lmao lol with party hair like that .... knockin down the door I be\n",
            "m ... lol had a girlfriend with hair like you U9 howdy doody and what happened\n",
            "going to be disappointed that I look like a soccer mom music out here please w\n",
            "42 : Hello there . i despie no one i like to say if u have done ur time then t\n",
            ", it 's there AGAIN hey U42 i do not like to judge anyone U37 U25 hey O.k. hey\n",
            "ob would take an ex con to use words like escaped ..... lol U37 look now LOL P\n",
            " saw it it is raining U37 I saw it I like n y Only been there one time I wanna\n",
            "e now having a party of your own ? I like bedford street . shut up U17 you wis\n",
            "tron women in this room .... lol you like them rough ? U3 whaaaaats up in ohio\n",
            "em rough ? U3 whaaaaats up in ohio ? Like whip and crop tough ? now now U31 ..\n",
            "w each other .... lol hi U23 love me like a bomb baby come on get it on hi U23\n",
            "otay they r free well ..... I do n't like Splashing in a Puddle for too long .\n",
            "behaving lol Well .... if you do n't like the conversation ... the solution is\n",
            "id you do to yourself U34 ? hi all I like Biographys well i am a hickory nut w\n",
            "classroom with a hot teacher yes U11 like mind rolls her eyes @ U9 lucky U9 no\n"
          ]
        }
      ],
      "source": [
        "# search for \"like\" in webchat\n",
        "text5.concordance('like')"
      ]
    },
    {
      "cell_type": "code",
      "execution_count": 5,
      "metadata": {
        "id": "vvuLwCbGP2G1"
      },
      "outputs": [
        {
          "name": "stdout",
          "output_type": "stream",
          "text": [
            "Displaying 25 of 34 matches:\n",
            " for a meaningful long term rship . Looking forward to hearing from you all . A\n",
            "/ Med build , GSOH , high needs and looking for someone similar . You WONT be d\n",
            "OPPER REDHEAD ? I am 36 y . o . and looking for companionship / friendship . I \n",
            "out for meal & c . Fun to be with . Looking for a com panion , aged between 35 \n",
            "up to a special person in my life . Looking for a caring , honest lady for frie\n",
            "elationship . BUSINESSMAN 60 '' ish Looking for lady , non - smoker , 56 or tal\n",
            "ing and music . Love my 2 kids . Am looking for a lady with similar interests ,\n",
            " eyes , brown hair , Mid 20s , good looking , honest n / smoker . Likes movies \n",
            " important , nor distance / speed . Looking for someone to complete my social c\n",
            "endant , under standing , mid 50s , looking for classy lady who wants to retain\n",
            "till retain her independance and is looking for a special private relationship \n",
            " with 2 teen daughters , 46 y . o . Looking for a special lady FIT & HEALTHY 60\n",
            "MATURE GENT . N / S . Non drinker . Looking for fship / rship with Asian or Ind\n",
            " 177cm . Likes movies and theatre . Looking forward to meeting Lady with sim in\n",
            ", dining out , am a N / S , S / D . Looking for fship and a poss rship . ASIAN \n",
            "yrs for long term relationship Good Looking Male seeks larger lady for f / ship\n",
            "/ d F / ston / Pen MALE MID 30 '' S Looking for no strings attached fun times .\n",
            "ssible r / ship kids OK SINGLE good looking 45 yo seeks 40 + lady casual f / sh\n",
            "& fun Married Ok SLIM attractive 40 looking for fun pref Asian . STERN HEADMAST\n",
            "ctive girls under 23 sought by good looking 30s guy . 39 YR OLD male DTE GSOH l\n",
            "g 30s guy . 39 YR OLD male DTE GSOH looking for lady fun times & outings A BUSI\n",
            "tic easy going GSOH honest reliable looking to find a friend . ASIAN GUY , 47 p\n",
            "IED 32 fit attractive travels a lot looking for women for fun MARRIED 32 person\n",
            "for fun MARRIED 32 personal trainer looking for married woman age open for fun \n",
            "ley rider , semi retired , secure . Looking for nice attractive lady , slim to \n"
          ]
        }
      ],
      "source": [
        "# search for 'looking' in the personals corpus\n",
        "text8.concordance('looking') "
      ]
    },
    {
      "cell_type": "markdown",
      "metadata": {
        "id": "zw_4SPh9QcKc"
      },
      "source": [
        "# Comparing words\n",
        "\n",
        "What you probably noticed is that words are used in specific ways in different corpora. This relatively simple anlaysis has thus already told us something about the way language works: context determines the way words are used and understood. Corpus linguistic anlaysis is thus a crucial way to gain a better understanding of word meanings and language use.\n",
        "\n",
        "\n",
        "The `.similar()` and `.common_contexts()` methods allow you to find words that are used in the same contexts. This means words which occur before/after the same other words. For example, in the following two sentences the words \"truck\" and \"apple\" are similar because they both occur after the word \"red\":\n",
        "\n",
        "- A big red truck\n",
        "- A big red apple\n",
        "\n",
        "\n",
        "Try testing the word \"hello\" using the `.similar()` method in different corpora. The output that you see represents words that are used in similar contexts are your input word. \n"
      ]
    },
    {
      "cell_type": "code",
      "execution_count": 6,
      "metadata": {
        "id": "1Yzjt9XgRyDv"
      },
      "outputs": [
        {
          "name": "stdout",
          "output_type": "stream",
          "text": [
            "what shit sir\n"
          ]
        }
      ],
      "source": [
        "# which words occur in the same contexts as 'hello' in Monty Python\n",
        "text6.similar('hello')"
      ]
    },
    {
      "cell_type": "code",
      "execution_count": 7,
      "metadata": {
        "id": "42WwKcGvSJi2"
      },
      "outputs": [
        {
          "name": "stdout",
          "output_type": "stream",
          "text": [
            "hi part lol join hey and hiya right all m there what one too where wb\n",
            "hugs if nite cool\n"
          ]
        }
      ],
      "source": [
        "# and what about in the webchat corpus?\n",
        "text5.similar('hello')"
      ]
    },
    {
      "cell_type": "markdown",
      "metadata": {
        "id": "ITaNH55-STr_"
      },
      "source": [
        "The `.common_contexts()` method allows you to compare two words in the same text. The book uses the example of testing `monstrous` and `very` in Moby Dick. The book asks you to pick two words of your own and compare them. If you're like me, you will see that many times you have no results because the words you searched for do not occur in the corpus or do not have any common contexts - this further demonstrates how we can predict the types of words based on our knowledge of the corpus."
      ]
    },
    {
      "cell_type": "code",
      "execution_count": 8,
      "metadata": {
        "id": "P3kRvLGDSoDY"
      },
      "outputs": [
        {
          "name": "stdout",
          "output_type": "stream",
          "text": [
            "No common contexts were found\n"
          ]
        }
      ],
      "source": [
        "# do hello and goodbye have simlar contexts in the webchat corpus?\n",
        "text5.common_contexts(['hello', 'goodbye'])"
      ]
    },
    {
      "cell_type": "code",
      "execution_count": 9,
      "metadata": {
        "id": "Ptdcp6ZcS0_o"
      },
      "outputs": [
        {
          "name": "stdout",
          "output_type": "stream",
          "text": [
            "hi_hi part_part part_hey hi_i waves_to\n"
          ]
        }
      ],
      "source": [
        "# what about 'hi' and 'bye' in the webchat corpus? \n",
        "text5.common_contexts(['hi', 'bye'])"
      ]
    },
    {
      "cell_type": "code",
      "execution_count": 10,
      "metadata": {
        "id": "-3povNiVTgw1"
      },
      "outputs": [
        {
          "name": "stdout",
          "output_type": "stream",
          "text": [
            "('The following word(s) were not found:', 'hi bye')\n"
          ]
        }
      ],
      "source": [
        "# how about \"hi\" and \"bye\" in the personals?\n",
        "text8.common_contexts(['hi', 'bye'])"
      ]
    },
    {
      "cell_type": "code",
      "execution_count": 11,
      "metadata": {
        "id": "KI5tcSgM97fw"
      },
      "outputs": [
        {
          "name": "stdout",
          "output_type": "stream",
          "text": [
            "the_- a_- the_, -_, his_- and_- the_head ,_,\n"
          ]
        }
      ],
      "source": [
        "# these words in moby dick?\n",
        "text1.common_contexts(['white', 'whale'])"
      ]
    },
    {
      "cell_type": "markdown",
      "metadata": {
        "id": "twABRQEGTeip"
      },
      "source": [
        "If we wanted to make sure the words are actually in the corpus before running the function, we could use an `in` conditional statement and check the `.vocab()` method of the corpus (which is a list of the words in the corpus!)."
      ]
    },
    {
      "cell_type": "code",
      "execution_count": 12,
      "metadata": {
        "id": "ja4ltQ5gPpNN"
      },
      "outputs": [
        {
          "data": {
            "text/plain": [
              "True"
            ]
          },
          "execution_count": 12,
          "metadata": {},
          "output_type": "execute_result"
        }
      ],
      "source": [
        "# check if a word is are in the corpus text\n",
        "'like' in text5.vocab()"
      ]
    },
    {
      "cell_type": "code",
      "execution_count": 13,
      "metadata": {
        "id": "t4bLVmAjT8cX"
      },
      "outputs": [
        {
          "data": {
            "text/plain": [
              "True"
            ]
          },
          "execution_count": 13,
          "metadata": {},
          "output_type": "execute_result"
        }
      ],
      "source": [
        "'knight' in text6.vocab()"
      ]
    },
    {
      "cell_type": "markdown",
      "metadata": {
        "id": "ndhkAGve8xv1"
      },
      "source": [
        "### **Your Turn**\n",
        "\n",
        "1. Spend a few moments using the `.concordance()` function to search for different words in the texts. See if you can find any interesting examples and share with the class.  \n",
        "\n",
        "2. After looking through some concordances, play with the `.similar()` and `.common_contexts()` functions to see if you can find words used in similar contexts. \n",
        "\n",
        "3. What can this analysis tell us, if anything, about the nature of the different texts? \n",
        "\n"
      ]
    }
  ],
  "metadata": {
    "colab": {
      "collapsed_sections": [],
      "include_colab_link": true,
      "private_outputs": true,
      "provenance": [],
      "toc_visible": true
    },
    "kernelspec": {
      "display_name": "Python 3.10.5 64-bit",
      "language": "python",
      "name": "python3"
    },
    "language_info": {
      "codemirror_mode": {
        "name": "ipython",
        "version": 3
      },
      "file_extension": ".py",
      "mimetype": "text/x-python",
      "name": "python",
      "nbconvert_exporter": "python",
      "pygments_lexer": "ipython3",
      "version": "3.10.5"
    },
    "vscode": {
      "interpreter": {
        "hash": "aee8b7b246df8f9039afb4144a1f6fd8d2ca17a180786b69acc140d282b71a49"
      }
    }
  },
  "nbformat": 4,
  "nbformat_minor": 0
}
