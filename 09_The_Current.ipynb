{
  "cells": [
    {
      "cell_type": "markdown",
      "metadata": {
        "colab_type": "text",
        "id": "view-in-github"
      },
      "source": [
        "<a href=\"https://colab.research.google.com/github/scskalicky/LING-226-vuw/blob/main/09_The_Current.ipynb\" target=\"_parent\"><img src=\"https://colab.research.google.com/assets/colab-badge.svg\" alt=\"Open In Colab\"/></a>"
      ]
    },
    {
      "cell_type": "markdown",
      "metadata": {
        "id": "FBenNQ2s710y"
      },
      "source": [
        "# Te Papa - data from *The Current*\n",
        "\n",
        "Use this notebook to get access to text answers from [The Current exhibit hosted by Te Papa](https://www.tepapa.govt.nz/discover-collections/read-watch-play/current).\n",
        "\n",
        "For each of the prompts used as part of the exhibit at Te Papa, people answered how they felt about the question, and then (optionally) typed in a response to that question. Te Papa has made this data available [here](https://catalogue.data.govt.nz/dataset/te-au-the-current-te-papa-nature-debate-public-response-data).\n",
        "\n",
        "There are however a lot of bad responses, or responses with no text. To make life easier, I have downloaded the data and cleaned it up so that the data only includes comments at least 6 words long.\n",
        "\n",
        "There is a separate `.txt` file for each question. In the `.txt` file, each line has the numeric rating followed by the comment. The numeric rating and the comment are separated by a tab (`'\\t'`).\n",
        "\n",
        "This notebook shows you how to load the data into Colab. Below, you will find screenshots for each question, followed by cells loading in data associated with that question. If and when you choose to anlayze this data later on, you can copy these cells into another notebook to load the data there. You can of course use other methods for loading the data in should you wish.\n"
      ]
    },
    {
      "cell_type": "markdown",
      "metadata": {
        "id": "u6jhhnIhVtPb"
      },
      "source": [
        "## **how the data loading works**\n",
        "\n",
        "For each question, the notebook first loads in the raw data to the notebook environment. This makes it available to the Colab notebook.\n",
        "\n",
        "Then, the data is saved to a variable, which makes the data available in the Python environment.\n",
        "\n",
        "Each text file is in this format:\n",
        "\n",
        "```\n",
        "rating1 \\t commment1 \\n\n",
        "rating2 \\t comment2 \\n\n",
        "...\n",
        "rating100 \\t comment100 \\n\n",
        "...\n",
        "```\n",
        "\n",
        "So, each line is separated by a newline character `\\n`, and each rating/comment pair is separated by a tab character '\\t'.\n",
        "\n",
        "We can use this information to split the lines from other lines, and also split the ratings from the comments, both using `.split()`.\n",
        "\n",
        "See below how this is done for the first question of The Current.\n",
        "\n"
      ]
    },
    {
      "cell_type": "markdown",
      "metadata": {
        "id": "oh5Nxp9P-JAg"
      },
      "source": [
        "# TP001 (Petrol cars should be banned by 2030)\n",
        "\n",
        "People saw this screen at Te Papa, selected which emotion matched their response, then optionally typed in a comment explaining why they chose a particulat option.\n",
        "\n",
        "The responses are coded as 0,1,2,3, or 4, and correspond to this image, from left to right (i.e., 0 = excited, 4 = angry):\n",
        "\n",
        "\n",
        "\n",
        "<img style=\"margin:auto; max-height:100%; display:block\" src=\"https://catalogue.data.govt.nz/dataset/72ee59f3-cafb-4e3e-b8b7-01094c616216/resource/df21c3ed-3335-4de2-9ebd-0bccf32d8576/download/tp001-screenshot-the-current-topic-question-petrol-cars-should-be-banned-by-2030.png\">\n"
      ]
    },
    {
      "cell_type": "markdown",
      "metadata": {
        "id": "Mwpr2g63sQgn"
      },
      "source": [
        "These code cells explain how to get the data associated with this question.\n",
        "\n",
        "First, we can use `!wget` to load in data from a URL. This is actually not a Python function, but instead a way to access the underlying linux/unix server the notebook runs on. The `!` tells the code cell to run it as a terminal command, rather than as a Python command.\n",
        "\n",
        "Don't worry too much about it if you are unsure what this means, or you can read more here: https://www.geeksforgeeks.org/wget-command-in-linux-unix/"
      ]
    },
    {
      "cell_type": "code",
      "execution_count": 12,
      "metadata": {
        "id": "Z0rl6DKrVhqN"
      },
      "outputs": [
        {
          "name": "stderr",
          "output_type": "stream",
          "text": [
            "--2023-11-15 14:56:29--  https://raw.githubusercontent.com/scskalicky/LING-226-vuw/main/the-current/tp001.txt\n",
            "Resolving raw.githubusercontent.com (raw.githubusercontent.com)... 185.199.108.133, 185.199.110.133, 185.199.109.133, ...\n",
            "Connecting to raw.githubusercontent.com (raw.githubusercontent.com)|185.199.108.133|:443... connected.\n",
            "HTTP request sent, awaiting response... 200 OK\n",
            "Length: 220746 (216K) [text/plain]\n",
            "Saving to: 'tp001.txt.1'\n",
            "\n",
            "     0K .......... .......... .......... .......... .......... 23% 7.00M 0s\n",
            "    50K .......... .......... .......... .......... .......... 46% 13.8M 0s\n",
            "   100K .......... .......... .......... .......... .......... 69% 26.2M 0s\n",
            "   150K .......... .......... .......... .......... .......... 92% 17.9M 0s\n",
            "   200K .......... .....                                      100% 65.1M=0.02s\n",
            "\n",
            "2023-11-15 14:56:30 (13.7 MB/s) - 'tp001.txt.1' saved [220746/220746]\n",
            "\n"
          ]
        }
      ],
      "source": [
        "# load the TP001 data to the notebook environment\n",
        "!wget \"https://raw.githubusercontent.com/scskalicky/LING-226-vuw/main/the-current/tp001.txt\""
      ]
    },
    {
      "cell_type": "markdown",
      "metadata": {
        "id": "ejnt8s2psshJ"
      },
      "source": [
        "Now that the data is loaded into the notebook environment, we can access it using Python to load it into a variable.\n",
        "\n",
        "In the cell below, the .txt file is read into memory, any trailing or leading whitespace/newlines are removed, and the text is split on newlines."
      ]
    },
    {
      "cell_type": "code",
      "execution_count": 18,
      "metadata": {
        "id": "qPLyKMREVqjg"
      },
      "outputs": [],
      "source": [
        "# open the text file and split on newlines\n",
        "# rstrip is to clean the final newline that exists in each file.\n",
        "tp001 = open('tp001.txt', encoding=\"utf8\").read().rstrip().split('\\n')"
      ]
    },
    {
      "cell_type": "markdown",
      "metadata": {
        "id": "Wi_nrGs2tADl"
      },
      "source": [
        "Reading in the data this way creates a list of ratings and comments. Looking at the first ten comments, we can see how this works:"
      ]
    },
    {
      "cell_type": "code",
      "execution_count": 19,
      "metadata": {
        "id": "6_Pn58Zss36d"
      },
      "outputs": [
        {
          "data": {
            "text/plain": [
              "['3\\t... we need to work hard to make it happen',\n",
              " '0\\t3d is better than other bands in the whole country',\n",
              " '1\\ta ban on sales of new petrol vehicles would be more sensible than an outright ban .  an outright ban is itself wasteful',\n",
              " '0\\tA carless life is much more fun',\n",
              " '1\\tA good idea in theory but would have to change a lot of infrastructure. Not to mention industry and jobs.',\n",
              " '1\\ta good idea to protect our earth !',\n",
              " '0\\tA good opportunity to reduce harm to the environment',\n",
              " '4\\tA N G E R Y',\n",
              " '1\\tA s part of many other changes',\n",
              " '0\\tA STEP IN THE RIGHT DIRECTION']"
            ]
          },
          "execution_count": 19,
          "metadata": {},
          "output_type": "execute_result"
        }
      ],
      "source": [
        "# look at the first ten members of the list:\n",
        "tp001[:10]"
      ]
    },
    {
      "cell_type": "markdown",
      "metadata": {
        "id": "2lBq7OqFtN9H"
      },
      "source": [
        "We might want only the comments for text analysis (although the ratings will be useful later!). Split the comments on the tab character (`.split('\\t')` to get a list of just the comments."
      ]
    },
    {
      "cell_type": "code",
      "execution_count": 20,
      "metadata": {
        "id": "G2k96UWLWEq-"
      },
      "outputs": [],
      "source": [
        "# Create a list of just the comments (splitting on tab separates the rating from comment)\n",
        "# indexing the second element becomes the comment (using index of [1])\n",
        "tp001_comments = [comment.split('\\t')[1] for comment in tp001]"
      ]
    },
    {
      "cell_type": "markdown",
      "metadata": {
        "id": "or48iVv2tVv6"
      },
      "source": [
        "Now we have a list of different comments made in response to the exhibit!\n",
        "\n",
        "Remember, I cleaned out comments that were less than 6 words long - doing this removed a lot of low quality answers. But, there are likely still other low quality responses, such as the second response in this list:"
      ]
    },
    {
      "cell_type": "code",
      "execution_count": 23,
      "metadata": {
        "id": "GQ8pMYYyWm8B"
      },
      "outputs": [
        {
          "data": {
            "text/plain": [
              "['... we need to work hard to make it happen',\n",
              " '3d is better than other bands in the whole country',\n",
              " 'a ban on sales of new petrol vehicles would be more sensible than an outright ban .  an outright ban is itself wasteful',\n",
              " 'A carless life is much more fun',\n",
              " 'A good idea in theory but would have to change a lot of infrastructure. Not to mention industry and jobs.',\n",
              " 'a good idea to protect our earth !',\n",
              " 'A good opportunity to reduce harm to the environment',\n",
              " 'A N G E R Y',\n",
              " 'A s part of many other changes',\n",
              " 'A STEP IN THE RIGHT DIRECTION']"
            ]
          },
          "execution_count": 23,
          "metadata": {},
          "output_type": "execute_result"
        }
      ],
      "source": [
        "# inspect the first ten answers:\n",
        "tp001_comments[:10]"
      ]
    },
    {
      "cell_type": "markdown",
      "metadata": {
        "id": "k3bfRJ-lthSk"
      },
      "source": [
        "Now, you may also want the ratings, and to do so you could create an additional list with the ratings, or find some other way to keep them in the same data object, such as creating a list of lists: `[[rating, comment], [rating, comment]...`\n",
        "\n",
        "\n",
        "Below, you will find screenshots for the other questions, which provide you with the labels for the numeric rating, as well as code cells loading the text in and creating text of the comments.\n"
      ]
    },
    {
      "cell_type": "markdown",
      "metadata": {
        "id": "sM6e_yM-_BIu"
      },
      "source": [
        "# TP008 (workplaces should give back one day a month for nature)\n",
        "\n",
        "<img src=\"https://catalogue.data.govt.nz/dataset/72ee59f3-cafb-4e3e-b8b7-01094c616216/resource/184490d0-89ba-46af-86db-9b1667a0b808/download/tp008-screenshot-the-current-topic-question-nature-helps-us-get-through-lockdowns.png\">"
      ]
    },
    {
      "cell_type": "code",
      "execution_count": 1,
      "metadata": {
        "id": "KbWyC6m4tz7Y"
      },
      "outputs": [
        {
          "name": "stderr",
          "output_type": "stream",
          "text": [
            "'wget' is not recognized as an internal or external command,\n",
            "operable program or batch file.\n"
          ]
        }
      ],
      "source": [
        "# load the TP008 data to the notebook environment\n",
        "!wget 'https://raw.githubusercontent.com/scskalicky/LING-226-vuw/main/the-current/tp008.txt'"
      ]
    },
    {
      "cell_type": "code",
      "execution_count": null,
      "metadata": {
        "id": "hkgF8FJCtnJq"
      },
      "outputs": [],
      "source": [
        "# read in the entire file\n",
        "tp008 = open('tp008.txt').read().rstrip().split('\\n')"
      ]
    },
    {
      "cell_type": "code",
      "execution_count": null,
      "metadata": {
        "id": "OWYlCSZgtsUs"
      },
      "outputs": [],
      "source": [
        "# extract the comments\n",
        "tp008_comments = [comment.split('\\t')[1] for comment in tp008]"
      ]
    },
    {
      "cell_type": "code",
      "execution_count": null,
      "metadata": {
        "id": "PoKvYJrxt3yj"
      },
      "outputs": [],
      "source": [
        "# look at the first ten comments\n",
        "tp008_comments[:10]"
      ]
    },
    {
      "cell_type": "markdown",
      "metadata": {
        "id": "JF9Yojr8_SaO"
      },
      "source": [
        "# TP009 (we should protect kauri, potentially by not entering kauri forests)\n",
        "\n",
        "<img src=\"https://catalogue.data.govt.nz/dataset/72ee59f3-cafb-4e3e-b8b7-01094c616216/resource/6d100d05-5563-4895-866e-375c3ff6272e/download/tp009-screenshot-the-current-topic-question-we-should-protect-kauri.png\">"
      ]
    },
    {
      "cell_type": "code",
      "execution_count": null,
      "metadata": {
        "id": "WMirXmX4uDDs"
      },
      "outputs": [],
      "source": [
        "# load the TP009 data to the notebook environment\n",
        "!wget 'https://raw.githubusercontent.com/scskalicky/LING-226-vuw/main/the-current/tp009.txt'"
      ]
    },
    {
      "cell_type": "code",
      "execution_count": null,
      "metadata": {
        "id": "FEAbWiHduDDt"
      },
      "outputs": [],
      "source": [
        "# read in the entire file\n",
        "tp009 = open('tp009.txt').read().rstrip().split('\\n')"
      ]
    },
    {
      "cell_type": "code",
      "execution_count": null,
      "metadata": {
        "id": "bCIjTtRcuDDt"
      },
      "outputs": [],
      "source": [
        "# extract the comments\n",
        "tp009_comments = [comment.split('\\t')[1] for comment in tp009]"
      ]
    },
    {
      "cell_type": "code",
      "execution_count": null,
      "metadata": {
        "id": "K8oFElTguDDt"
      },
      "outputs": [],
      "source": [
        "# look at the first ten comments\n",
        "tp009_comments[:10]"
      ]
    },
    {
      "cell_type": "markdown",
      "metadata": {
        "id": "NJcI_hKq_a7o"
      },
      "source": [
        "# TP010 (we should not plant myrtles so we can protect pōhutukawa)\n",
        "\n",
        "<img src=\"https://catalogue.data.govt.nz/dataset/72ee59f3-cafb-4e3e-b8b7-01094c616216/resource/dd42b67f-c7fe-4100-ada7-7cf7dcf24d29/download/tp010-screenshot-of-the-current-topic-question-on-myrtle-rust.png\">"
      ]
    },
    {
      "cell_type": "code",
      "execution_count": null,
      "metadata": {
        "id": "uaSXUQJouOgm"
      },
      "outputs": [],
      "source": [
        "# load the TP010 data to the notebook environment\n",
        "!wget 'https://raw.githubusercontent.com/scskalicky/LING-226-vuw/main/the-current/tp010.txt'"
      ]
    },
    {
      "cell_type": "code",
      "execution_count": null,
      "metadata": {
        "id": "TElALiPBuOgn"
      },
      "outputs": [],
      "source": [
        "# read in the entire file\n",
        "tp010 = open('tp010.txt').read().rstrip().split('\\n')"
      ]
    },
    {
      "cell_type": "code",
      "execution_count": null,
      "metadata": {
        "id": "6y6ioH-uuOgn"
      },
      "outputs": [],
      "source": [
        "# extract the comments\n",
        "tp010_comments = [comment.split('\\t')[1] for comment in tp010]"
      ]
    },
    {
      "cell_type": "code",
      "execution_count": null,
      "metadata": {
        "id": "wdk_i4n_uOgo"
      },
      "outputs": [],
      "source": [
        "# look at the first ten comments\n",
        "tp010_comments[:10]"
      ]
    },
    {
      "cell_type": "markdown",
      "metadata": {
        "id": "_SfnsWYx_ink"
      },
      "source": [
        "# TP011 (tourism should be limited to protect NZ environment)\n",
        "\n",
        "<img src=\"https://catalogue.data.govt.nz/dataset/72ee59f3-cafb-4e3e-b8b7-01094c616216/resource/97145c7c-39ca-4d61-ad8a-4d4a4b99028e/download/tp011-screenshot-of-the-current-topic-question-on-when-our-borders-reopen-we-should-limit-touris.png\">"
      ]
    },
    {
      "cell_type": "code",
      "execution_count": null,
      "metadata": {
        "id": "dd-lgwUduaZB"
      },
      "outputs": [],
      "source": [
        "# load the TP011 data to the notebook environment\n",
        "!wget 'https://raw.githubusercontent.com/scskalicky/LING-226-vuw/main/the-current/tp011.txt'"
      ]
    },
    {
      "cell_type": "code",
      "execution_count": null,
      "metadata": {
        "id": "640SAksYuaZK"
      },
      "outputs": [],
      "source": [
        "# read in the entire file\n",
        "tp011 = open('tp011.txt').read().rstrip().split('\\n')"
      ]
    },
    {
      "cell_type": "code",
      "execution_count": null,
      "metadata": {
        "id": "XqX9dqTWuaZK"
      },
      "outputs": [],
      "source": [
        "# extract the comments\n",
        "tp011_comments = [comment.split('\\t')[1] for comment in tp011]"
      ]
    },
    {
      "cell_type": "code",
      "execution_count": null,
      "metadata": {
        "id": "z8aCpkWluaZK"
      },
      "outputs": [],
      "source": [
        "# look at the first ten comments\n",
        "tp011_comments[:10]"
      ]
    },
    {
      "cell_type": "markdown",
      "metadata": {
        "id": "WU9t7thy_w4z"
      },
      "source": [
        "# TP012 (gene editing instead of poison should be considered to control wasps)\n",
        "\n",
        "<img src=\"https://catalogue.data.govt.nz/dataset/72ee59f3-cafb-4e3e-b8b7-01094c616216/resource/d8d9f14e-3e32-40b7-86cc-0a659aad3a70/download/tp012-screenshot-the-current-topic-waps-gene-editing.png\">"
      ]
    },
    {
      "cell_type": "code",
      "execution_count": null,
      "metadata": {
        "id": "NS9Yk7HRukUp"
      },
      "outputs": [],
      "source": [
        "# load the TP012 data to the notebook environment\n",
        "!wget 'https://raw.githubusercontent.com/scskalicky/LING-226-vuw/main/the-current/tp012.txt'"
      ]
    },
    {
      "cell_type": "code",
      "execution_count": null,
      "metadata": {
        "id": "ivN0sLikukU1"
      },
      "outputs": [],
      "source": [
        "# read in the entire file\n",
        "tp012 = open('tp012.txt').read().rstrip().split('\\n')"
      ]
    },
    {
      "cell_type": "code",
      "execution_count": null,
      "metadata": {
        "id": "Sc8WuMVvukU1"
      },
      "outputs": [],
      "source": [
        "# extract the comments\n",
        "tp012_comments = [comment.split('\\t')[1] for comment in tp012]"
      ]
    },
    {
      "cell_type": "code",
      "execution_count": null,
      "metadata": {
        "id": "I0sOW7PwukU1"
      },
      "outputs": [],
      "source": [
        "# look at the first ten comments\n",
        "tp012_comments[:10]"
      ]
    },
    {
      "cell_type": "markdown",
      "metadata": {
        "id": "_QQph5fH_7_x"
      },
      "source": [
        "# TP002 (supermarkets should only sell sustainably caught fish)\n",
        "\n",
        "<img src=\"https://catalogue.data.govt.nz/dataset/72ee59f3-cafb-4e3e-b8b7-01094c616216/resource/66f42715-0b29-4cb2-91e3-fd461c991855/download/tp002-screenshot-the-current-topic-sustainably-caught-fish.png\">"
      ]
    },
    {
      "cell_type": "code",
      "execution_count": null,
      "metadata": {
        "id": "eeLI1ZgKuwzS"
      },
      "outputs": [],
      "source": [
        "# load the TP002 data to the notebook environment\n",
        "!wget 'https://raw.githubusercontent.com/scskalicky/LING-226-vuw/main/the-current/tp002.txt'"
      ]
    },
    {
      "cell_type": "code",
      "execution_count": null,
      "metadata": {
        "id": "_KCWic0duwzf"
      },
      "outputs": [],
      "source": [
        "# read in the entire file\n",
        "tp002 = open('tp002.txt').read().rstrip().split('\\n')"
      ]
    },
    {
      "cell_type": "code",
      "execution_count": null,
      "metadata": {
        "id": "j87ghOcLuwzf"
      },
      "outputs": [],
      "source": [
        "# extract the comments\n",
        "tp002_comments = [comment.split('\\t')[1] for comment in tp002]"
      ]
    },
    {
      "cell_type": "code",
      "execution_count": null,
      "metadata": {
        "id": "YtcG_4g4uwzf"
      },
      "outputs": [],
      "source": [
        "# look at the first ten comments\n",
        "tp002_comments[:10]"
      ]
    },
    {
      "cell_type": "markdown",
      "metadata": {
        "id": "bzjY50tnAEnI"
      },
      "source": [
        "# TP005 (everyone should be allowed to catch as much whitebait as they like)\n",
        "\n",
        "<img style=\"margin:auto; max-height:100%; display:block\" src=\"https://catalogue.data.govt.nz/dataset/72ee59f3-cafb-4e3e-b8b7-01094c616216/resource/28202b85-33d9-4e69-8d9e-9045e58bf602/download/tp005-screenshot-the-current-topic-catch-whitebait.png\">"
      ]
    },
    {
      "cell_type": "code",
      "execution_count": null,
      "metadata": {
        "id": "NwAtx4lYu8mk"
      },
      "outputs": [],
      "source": [
        "# load the TP005 data to the notebook environment\n",
        "!wget 'https://raw.githubusercontent.com/scskalicky/LING-226-vuw/main/the-current/tp005.txt'"
      ]
    },
    {
      "cell_type": "code",
      "execution_count": null,
      "metadata": {
        "id": "UIgsJs5nu8mt"
      },
      "outputs": [],
      "source": [
        "# read in the entire file\n",
        "tp005 = open('tp005.txt').read().rstrip().split('\\n')"
      ]
    },
    {
      "cell_type": "code",
      "execution_count": null,
      "metadata": {
        "id": "Z1bBAiHyu8mt"
      },
      "outputs": [],
      "source": [
        "# extract the comments\n",
        "tp005_comments = [comment.split('\\t')[1] for comment in tp005]"
      ]
    },
    {
      "cell_type": "code",
      "execution_count": null,
      "metadata": {
        "id": "GmQfNh3Xu8mt"
      },
      "outputs": [],
      "source": [
        "# look at the first ten comments\n",
        "# these ones are particularly...bad?\n",
        "tp005_comments[:10]"
      ]
    },
    {
      "cell_type": "markdown",
      "metadata": {
        "id": "pDWEindcAKT2"
      },
      "source": [
        "# TP017 (freedom camping should be banned)\n",
        "\n",
        "<img src=\"https://catalogue.data.govt.nz/dataset/72ee59f3-cafb-4e3e-b8b7-01094c616216/resource/d0c30685-41b4-4492-ad62-f558a29c5bf5/download/tp017-screenshot-the-current-topic-question-freedom-camping.png\">"
      ]
    },
    {
      "cell_type": "code",
      "execution_count": null,
      "metadata": {
        "id": "q-Lc0O_qvOXR"
      },
      "outputs": [],
      "source": [
        "# load the TP017 data to the notebook environment\n",
        "!wget 'https://raw.githubusercontent.com/scskalicky/LING-226-vuw/main/the-current/tp017.txt'"
      ]
    },
    {
      "cell_type": "code",
      "execution_count": null,
      "metadata": {
        "id": "yJc6D_dvvOXY"
      },
      "outputs": [],
      "source": [
        "# read in the entire file\n",
        "tp017 = open('tp017.txt').read().rstrip().split('\\n')"
      ]
    },
    {
      "cell_type": "code",
      "execution_count": null,
      "metadata": {
        "id": "_NsAKnsVvOXY"
      },
      "outputs": [],
      "source": [
        "# extract the comments\n",
        "tp017_comments = [comment.split('\\t')[1] for comment in tp017]"
      ]
    },
    {
      "cell_type": "code",
      "execution_count": null,
      "metadata": {
        "id": "igusGXHgvOXY"
      },
      "outputs": [],
      "source": [
        "# look at the first ten comments\n",
        "# these ones are particularly...bad?\n",
        "tp017_comments[:10]"
      ]
    },
    {
      "cell_type": "markdown",
      "metadata": {
        "id": "FnhZuVYiAQ1y"
      },
      "source": [
        "# TP003 (cats should be indoor-only pets)\n",
        "\n",
        "<img src=\"https://catalogue.data.govt.nz/dataset/72ee59f3-cafb-4e3e-b8b7-01094c616216/resource/973e4b3f-9ae4-4d6f-838b-555451b750f5/download/tp003-screenshot-the-current-topic-question-cats-indoor-only.png\">"
      ]
    },
    {
      "cell_type": "code",
      "execution_count": null,
      "metadata": {
        "id": "XgLaHVvVvcIq"
      },
      "outputs": [],
      "source": [
        "# load the TP003 data to the notebook environment\n",
        "!wget 'https://raw.githubusercontent.com/scskalicky/LING-226-vuw/main/the-current/tp003.txt'"
      ]
    },
    {
      "cell_type": "code",
      "execution_count": null,
      "metadata": {
        "id": "GwxUdJrRvcIz"
      },
      "outputs": [],
      "source": [
        "# read in the entire file\n",
        "tp003 = open('tp003.txt').read().rstrip().split('\\n')"
      ]
    },
    {
      "cell_type": "code",
      "execution_count": null,
      "metadata": {
        "id": "K_iarDK-vcI0"
      },
      "outputs": [],
      "source": [
        "# extract the comments\n",
        "tp003_comments = [comment.split('\\t')[1] for comment in tp003]"
      ]
    },
    {
      "cell_type": "code",
      "execution_count": null,
      "metadata": {
        "id": "f3uriBMxvcI0"
      },
      "outputs": [],
      "source": [
        "# look at the first ten comments\n",
        "tp003_comments[:10]"
      ]
    },
    {
      "cell_type": "markdown",
      "metadata": {
        "id": "kyx8NWZFAWmq"
      },
      "source": [
        "# TP007 (single use plastics should be bannedby 2025)\n",
        "\n",
        "<img src=\"https://catalogue.data.govt.nz/dataset/72ee59f3-cafb-4e3e-b8b7-01094c616216/resource/7280e3c0-d500-4f8f-b960-211caeb4d1ca/download/tp007-screenshot-the-current-topic-single-use-plastics.png\">"
      ]
    },
    {
      "cell_type": "code",
      "execution_count": null,
      "metadata": {
        "id": "EZRpKCH5voj8"
      },
      "outputs": [],
      "source": [
        "# load the TP007 data to the notebook environment\n",
        "!wget 'https://raw.githubusercontent.com/scskalicky/LING-226-vuw/main/the-current/tp007.txt'"
      ]
    },
    {
      "cell_type": "code",
      "execution_count": null,
      "metadata": {
        "id": "GWesQF61vokH"
      },
      "outputs": [],
      "source": [
        "# read in the entire file\n",
        "tp007 = open('tp007.txt').read().rstrip().split('\\n')"
      ]
    },
    {
      "cell_type": "code",
      "execution_count": null,
      "metadata": {
        "id": "YbW842LIvokH"
      },
      "outputs": [],
      "source": [
        "# extract the comments\n",
        "tp007_comments = [comment.split('\\t')[1] for comment in tp007]"
      ]
    },
    {
      "cell_type": "code",
      "execution_count": null,
      "metadata": {
        "id": "ZZL9hJ5dvokH"
      },
      "outputs": [],
      "source": [
        "# look at the first ten comments\n",
        "tp007_comments[:10]"
      ]
    }
  ],
  "metadata": {
    "colab": {
      "authorship_tag": "ABX9TyOiWJ3kxbFNT3bLH1cav+BV",
      "include_colab_link": true,
      "private_outputs": true,
      "provenance": [],
      "toc_visible": true
    },
    "kernelspec": {
      "display_name": "Python 3",
      "name": "python3"
    },
    "language_info": {
      "codemirror_mode": {
        "name": "ipython",
        "version": 3
      },
      "file_extension": ".py",
      "mimetype": "text/x-python",
      "name": "python",
      "nbconvert_exporter": "python",
      "pygments_lexer": "ipython3",
      "version": "3.11.6"
    }
  },
  "nbformat": 4,
  "nbformat_minor": 0
}
