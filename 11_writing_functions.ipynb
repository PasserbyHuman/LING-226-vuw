{
  "nbformat": 4,
  "nbformat_minor": 0,
  "metadata": {
    "colab": {
      "private_outputs": true,
      "provenance": [],
      "collapsed_sections": [],
      "toc_visible": true,
      "mount_file_id": "1FFYWRdXa4hdrVLi-ILNMssJecEoSnYjA",
      "authorship_tag": "ABX9TyNdp6iSlpp75FXQODKOsLOD",
      "include_colab_link": true
    },
    "kernelspec": {
      "name": "python3",
      "display_name": "Python 3"
    },
    "language_info": {
      "name": "python"
    }
  },
  "cells": [
    {
      "cell_type": "markdown",
      "metadata": {
        "id": "view-in-github",
        "colab_type": "text"
      },
      "source": [
        "<a href=\"https://colab.research.google.com/github/scskalicky/LING-226-vuw/blob/main/11_writing_functions.ipynb\" target=\"_parent\"><img src=\"https://colab.research.google.com/assets/colab-badge.svg\" alt=\"Open In Colab\"/></a>"
      ]
    },
    {
      "cell_type": "markdown",
      "source": [
        "# Writing Functions\n",
        "\n",
        "We've already seen how functions are used and have written some of our own functions. This notebook will now explain these concepts in a little bit more detail. \n",
        "\n",
        "Lots of our code cells do things ephermally - if we write a for loop or print out a bunch of information, that code is limited to the code cell it was written in. Writing a function allows us to store a procedure/operation in memory and reuse it. Moreover, writing several functions which work together is a key to writing structured *programs*. \n",
        "\n",
        "You may have noticed that the word *program* pop up here and there. And while we can argue that a single function we have made is technically a program, programs are usually a series of many different functions. You've seen how NLTK groups functions into different modules for different things, and this is pretty common among different packages. While we aren't going to be making modules or packages, we can start looking at developing a set of cooperative functions as a means to create an NLP pipeline. \n"
      ],
      "metadata": {
        "id": "QeHdV1371x6t"
      }
    },
    {
      "cell_type": "markdown",
      "source": [
        "# Syntax of a function\n",
        "\n",
        "You've already seen how to write a function. We define a function using `def` and then assign a function name, much the same as we name variables. Functions are similar to `if statements` and `for loops` in that they have a header, followed by a colon, followed by an indented block which contains the body of the function. \n",
        "\n",
        "```\n",
        "def function_name():\n",
        "  stuff function does\n",
        "\n",
        "```\n"
      ],
      "metadata": {
        "id": "5gNgFaxT4jCc"
      }
    },
    {
      "cell_type": "code",
      "execution_count": null,
      "metadata": {
        "id": "-UUUuoU61CiZ"
      },
      "outputs": [],
      "source": [
        "# make a useless function\n",
        "def printer(x):\n",
        "  print(x)"
      ]
    },
    {
      "cell_type": "markdown",
      "source": [
        "Note that when I defined `printer()` above, I included an `x` in the parentheses of the function. And, inside the function, I have asked the function to do something with `x` (i.e., use `print()` on `x`). \n",
        "\n",
        "By declaring my function with the `x`, I am including a required `arugment` to my function. The function will *not* work unless the user includes a value for `x`. You can basically think of `x` as a required variable that must be supplied. For example:"
      ],
      "metadata": {
        "id": "TpywrSCV5OKq"
      }
    },
    {
      "cell_type": "code",
      "source": [
        "# supply a string to our printer() function. \n",
        "printer('this dream isn\\'t feeling sweet')"
      ],
      "metadata": {
        "id": "o9ZD5Vrr5yaN"
      },
      "execution_count": null,
      "outputs": []
    },
    {
      "cell_type": "code",
      "source": [
        "# supply nothing to our printer function. \n",
        "printer()"
      ],
      "metadata": {
        "id": "qI7iQTGO54Ti"
      },
      "execution_count": null,
      "outputs": []
    },
    {
      "cell_type": "markdown",
      "source": [
        "If you run the cell above you get:\n",
        "\n",
        "```\n",
        "TypeError: printer() missing 1 required positional argument: 'x'\n",
        "```\n",
        "\n",
        "In other words, the function is complaining that it was not provided with the sufficient data it needs to work.\n",
        "\n",
        "You can also provide default values for arguments in functions. For example, we could make our default argument for `printer()` a string which tells the user that they have not entered a value:\n",
        "\n"
      ],
      "metadata": {
        "id": "pNYA40VS56T1"
      }
    },
    {
      "cell_type": "code",
      "source": [
        "def printer(x = 'please enter a string'):\n",
        "  print(x)"
      ],
      "metadata": {
        "id": "unMDLekU8mJ1"
      },
      "execution_count": null,
      "outputs": []
    },
    {
      "cell_type": "markdown",
      "source": [
        "Now we can run the function without an argument, although it's a bit silly. In some ways it would be better to provide an error which teaches the user they need to enter a string to use the function properly. "
      ],
      "metadata": {
        "id": "jUXHOa_W8qRw"
      }
    },
    {
      "cell_type": "code",
      "source": [
        "# we don't get an error anymore, but still isn't overly useful :)\n",
        "printer()"
      ],
      "metadata": {
        "id": "N75uR92H8o2L"
      },
      "execution_count": null,
      "outputs": []
    },
    {
      "cell_type": "markdown",
      "source": [
        "## Function variable scope\n",
        "\n",
        "Another benefit of using functions is that it helps us from accidently overwriting variables or run into other issues with variable names. This introduces us to the concept of variable scope. The main distinction in variable scope is between **global** scope and **local** scope. Essentially, global scope refers to your entire Python environment, and something which is global can be accessed anywhere and from anything. Local scope, on the other hand, restricts variables to the functions and classes they belong to.\n",
        "\n",
        "For example, if I declare a variable in the next code cell, that variable is available to other code cells:"
      ],
      "metadata": {
        "id": "3gwz2NUE9eUZ"
      }
    },
    {
      "cell_type": "code",
      "source": [
        "# defining a variable here is in global scope\n",
        "ribs = \"And I've never felt more alone, It feels so scary getting old\""
      ],
      "metadata": {
        "id": "Hx86R3EL9dbb"
      },
      "execution_count": null,
      "outputs": []
    },
    {
      "cell_type": "code",
      "source": [
        "# which I can access in this code cell\n",
        "[i.upper() for i in ribs.split()]"
      ],
      "metadata": {
        "id": "m1WzYDRq_Am8"
      },
      "execution_count": null,
      "outputs": []
    },
    {
      "cell_type": "markdown",
      "source": [
        "However, if I define a variable in local scope, such as within a function, that variable is only available in that function. "
      ],
      "metadata": {
        "id": "7tABQVjS_Z43"
      }
    },
    {
      "cell_type": "code",
      "source": [
        "def nin_fragile():\n",
        "  # note that I am assigning a variable just like you do anywhere else\n",
        "   fragile = 'She reads the minds of all the people as they pass her by'\n",
        "   print(fragile)"
      ],
      "metadata": {
        "id": "0Q_LD-Sf_w9-"
      },
      "execution_count": null,
      "outputs": []
    },
    {
      "cell_type": "code",
      "source": [
        "# function works great\n",
        "nin_fragile()"
      ],
      "metadata": {
        "id": "QmIhe3jCAaD_"
      },
      "execution_count": null,
      "outputs": []
    },
    {
      "cell_type": "code",
      "source": [
        "# but if I try to access `fragile` here?\n",
        "print(fragile)"
      ],
      "metadata": {
        "id": "pOk2uAGrAbH5"
      },
      "execution_count": null,
      "outputs": []
    },
    {
      "cell_type": "markdown",
      "source": [
        "I get a `is not defined` error, meaning there is no such variable named `fragile` available in the context I asked for it in (i.e., in the global scope). \n",
        "\n",
        "So, using functions allows us to avoid all kinds of problems *and* perform some good tricks when it comes variables. Perhaps most specifically, I could run a for loop in function A and another for loop in function B using the same iterator variable, and I would not need to worry about any cross contamination of the variables names between the functions. (Well, in theory at least!). Scope is a bit more complicated than I've presented it here, but I just want to make sure you see the difference, and also understand that one benefit of functions is to help us sanitize our global environment from rambling variables. "
      ],
      "metadata": {
        "id": "U93EtH6qAgdj"
      }
    },
    {
      "cell_type": "markdown",
      "source": [
        "## Building a less useless function\n",
        "\n",
        "We can make much better functions than `printer()`, which is just a shell around the pre-existing `print()` function in Python. Almost anything we've already seen in Python can be done within a function, such as including conditional statements, looping, list comprehensions, and so on. \n",
        "\n",
        "We can also use arguments not just as data which is passed to the function, but also as flags and switches the user can use to control the way a function works. Let's explore this now. \n",
        "\n",
        "\n",
        "Let's write a function called `pre_process1()` which allows for a variety of text cleaning options. We'll start by asking our function to lowercase a string."
      ],
      "metadata": {
        "id": "ocKfgLsvS1jQ"
      }
    },
    {
      "cell_type": "code",
      "source": [
        "# pre_process1 returns a lowercased string\n",
        "def pre_process1(x):\n",
        "  x = x.lower()\n",
        "  return x"
      ],
      "metadata": {
        "id": "tW7A1_dATOrg"
      },
      "execution_count": null,
      "outputs": []
    },
    {
      "cell_type": "code",
      "source": [
        "# test the function:\n",
        "pre_process1('WELLINGTON')"
      ],
      "metadata": {
        "id": "XRXeax6MTr_I"
      },
      "execution_count": null,
      "outputs": []
    },
    {
      "cell_type": "markdown",
      "source": [
        "### `return`\n",
        "\n",
        "`pre_process1()` includes a `return` statment, which means the function will output a particlar value (or set of values). In the case of `pre_process1()`, the output is the lowercased string. We'll continue using `return` statements to make our functions be able to pass data to and from one another. "
      ],
      "metadata": {
        "id": "Rk5ce8xWT3ix"
      }
    },
    {
      "cell_type": "markdown",
      "source": [
        "Let's now add another operation to our function, removing punctuation."
      ],
      "metadata": {
        "id": "nIYpcxNTUIWF"
      }
    },
    {
      "cell_type": "code",
      "source": [
        "def pre_process2(x):\n",
        "  punctuation = '.;\"!\\'[]{}:><-_?'\n",
        "  x = x.lower()\n",
        "  x = ''.join([x for x in x if x not in punctuation])\n",
        "  return x"
      ],
      "metadata": {
        "id": "cH5m4OBbUOPT"
      },
      "execution_count": null,
      "outputs": []
    },
    {
      "cell_type": "code",
      "source": [
        "pre_process2('We\\'re never done with killing time. Can I kill it with you?')"
      ],
      "metadata": {
        "id": "ZXrAfgznUgV8"
      },
      "execution_count": null,
      "outputs": []
    },
    {
      "cell_type": "markdown",
      "source": [
        "### Arguments controlling conditionals\n",
        "\n",
        "Now, let's provide the option for the user to choose exactly how the string will be pre-processed. We can do so by adding more arguments and some conditional logic inside the function. I add two arguments to the function, `lower` and `remove_punc`. I set the default values of both to `True`. \n",
        "\n",
        "Then I used a series of conditional `if` statements to determine if the string should be processed in different ways. The defaults being `True` means that they will run unless the user explicitly sets the arguments to `False`."
      ],
      "metadata": {
        "id": "UtAmx505VRsm"
      }
    },
    {
      "cell_type": "code",
      "source": [
        "# define with default values of True for lower and remove_punc arguments\n",
        "def pre_process3(x, lower = True, remove_punc = True):\n",
        "  # remember, this effectively says if lower == True\n",
        "  if lower:\n",
        "    x = x.lower()\n",
        "  \n",
        "  # remember, this effectively says if remove_punc == True\n",
        "  if remove_punc:\n",
        "    # this variable won't be declared unless the flag is set to True\n",
        "    punctuation = '.;\"!\\'[]{}:><-_?'\n",
        "    x = ''.join([x for x in x if x not in punctuation])\n",
        "  return x"
      ],
      "metadata": {
        "id": "FsClievBVZrU"
      },
      "execution_count": null,
      "outputs": []
    },
    {
      "cell_type": "code",
      "source": [
        "# use the function to only remove punc - capitals still remain\n",
        "pre_process3('We\\'re never done with killing time. Can I kill it with you?', lower = False)"
      ],
      "metadata": {
        "id": "5Pv2-CrDWE86"
      },
      "execution_count": null,
      "outputs": []
    },
    {
      "cell_type": "code",
      "source": [
        "# or to only lowercase - punctuation still remains\n",
        "pre_process3('We\\'re never done with killing time. Can I kill it with you?', remove_punc = False)"
      ],
      "metadata": {
        "id": "aBTAa-rOWOHl"
      },
      "execution_count": null,
      "outputs": []
    },
    {
      "cell_type": "code",
      "source": [
        "# default behaviour if we don't set the flags:\n",
        "pre_process3('We\\'re never done with killing time. Can I kill it with you?')"
      ],
      "metadata": {
        "id": "yKh8_nGTWopr"
      },
      "execution_count": null,
      "outputs": []
    },
    {
      "cell_type": "markdown",
      "source": [
        "# Chaining functions\n",
        "\n",
        "Now that we have our cute little prepocessing function, let's use it within *another* function. For instance, we could develop a tokenizer function which pre-processes each token of a string. Let's use good old `string.split()` for now. "
      ],
      "metadata": {
        "id": "X3slVZkGXjLS"
      }
    },
    {
      "cell_type": "code",
      "source": [
        "# a simple tokenizer on whitespace\n",
        "def tokenizer(x):\n",
        "  x = x.split()\n",
        "  return x"
      ],
      "metadata": {
        "id": "gQ37VjzYXtej"
      },
      "execution_count": null,
      "outputs": []
    },
    {
      "cell_type": "code",
      "source": [
        "# let's save our target string to a variable\n",
        "target = \"What if you could look right through the cracks? Would you find yourself? Find yourself afraid to see?\""
      ],
      "metadata": {
        "id": "vi7gTgtiX4jA"
      },
      "execution_count": null,
      "outputs": []
    },
    {
      "cell_type": "code",
      "source": [
        "# our function works!\n",
        "tokenizer(target)"
      ],
      "metadata": {
        "id": "TPXzWFNNYRBA"
      },
      "execution_count": null,
      "outputs": []
    },
    {
      "cell_type": "markdown",
      "source": [
        "Okay, now let's use our functions together. We've already been doing this in for loops and other repeated actions, and here is another example, where I use the `pre_process3()` function on each token returned by the `tokenizer()` function:"
      ],
      "metadata": {
        "id": "23UFMiKBYvf2"
      }
    },
    {
      "cell_type": "code",
      "source": [
        "# pre process each token, one at a time\n",
        "for token in tokenizer(target):\n",
        "  token = pre_process3(token)\n",
        "  print(token)"
      ],
      "metadata": {
        "id": "DtC9lt2NY4d0"
      },
      "execution_count": null,
      "outputs": []
    },
    {
      "cell_type": "markdown",
      "source": [
        "We printed the results above, which isn't ideal. Let's make yet *another* function which uses our `tokenizer()` and `pre_process3()` functions. I need to do a bit more here to make the output make sense. \n",
        "\n",
        "In the first line of the function, I create my list of tokens.\n",
        "\n",
        "Because this is a list, I need to either loop or use a list comprehension to get all of my values back. \n",
        "\n",
        "Then if I want everything as a string I need to use `' '.join()` on that list comprehension to get it all back. As you can probably imagine, there are a variety of ways things can go wrong during this process :)\n"
      ],
      "metadata": {
        "id": "_KwDgWPmZktd"
      }
    },
    {
      "cell_type": "code",
      "source": [
        "# make my pipeline function\n",
        "def pipeline(x):\n",
        "  # first create a tokenized list\n",
        "  tokens = tokenizer(x)\n",
        "\n",
        "  # then use a list comprehension to apply pre_process3 to each individual token\n",
        "  processed = [pre_process3(token) for token in tokens]\n",
        "  return ' '.join(processed)"
      ],
      "metadata": {
        "id": "bfFlrlUZabn6"
      },
      "execution_count": null,
      "outputs": []
    },
    {
      "cell_type": "code",
      "source": [
        "# it works\n",
        "pipeline(target)"
      ],
      "metadata": {
        "id": "imsJIYeDah7A"
      },
      "execution_count": null,
      "outputs": []
    },
    {
      "cell_type": "markdown",
      "source": [
        "## Adding defenses to our program\n",
        "\n",
        "Our program is doing okay for itself eh? But, what happens if we pass something that isn't a string?"
      ],
      "metadata": {
        "id": "DWij3dZ7bK3J"
      }
    },
    {
      "cell_type": "code",
      "source": [
        "pipeline(123)"
      ],
      "metadata": {
        "id": "i3Ht7iqWcEAL"
      },
      "execution_count": null,
      "outputs": []
    },
    {
      "cell_type": "markdown",
      "source": [
        "We get an error because all of our functions are assuming a string is being entered. However, a user might not know this, or we might do something somewhere along the lines that doesn't play nice with strings. \n",
        "\n",
        "One way to address this is to add checks to our function which will ensure the input is what we want. There are a variety of ways to do this — `assert` statements are one method to do so and the one explained in Chapter 4 of NLTK. There are other methods we can use as well, such as try and except statements. \n",
        "\n",
        "We could also be less fancy and write a simple `if` statement to check the Type and prevent the program from proceeding. "
      ],
      "metadata": {
        "id": "k1qvJ3DXcGUY"
      }
    },
    {
      "cell_type": "code",
      "source": [
        "def pipeline2(x):\n",
        "  # before doing anything else, is x is a str?\n",
        "  if type(x) != str:\n",
        "    print('Please enter a string!')\n",
        "  else:\n",
        "    tokens = tokenizer(x)\n",
        "    processed = [pre_process3(token) for token in tokens]\n",
        "    return ' '.join(processed)"
      ],
      "metadata": {
        "id": "5O32B-bQdb1x"
      },
      "execution_count": null,
      "outputs": []
    },
    {
      "cell_type": "code",
      "source": [
        "pipeline2(target)"
      ],
      "metadata": {
        "id": "WCG4uw0PdvuB"
      },
      "execution_count": null,
      "outputs": []
    },
    {
      "cell_type": "code",
      "source": [
        "# We tell the user they need to enter a string. \n",
        "pipeline2(1337)"
      ],
      "metadata": {
        "id": "skT7tb8Xdxm8"
      },
      "execution_count": null,
      "outputs": []
    },
    {
      "cell_type": "markdown",
      "source": [
        "As I said there are a number of other ways to inform the user of what values to enter — but perhaps for this course and other applications your \"user\" is really just \"you\", so writing your functions defensively is a way to help you help yourself. "
      ],
      "metadata": {
        "id": "HsGWTq0Ed4yo"
      }
    },
    {
      "cell_type": "markdown",
      "metadata": {
        "id": "R-wFI1zL6FLj"
      },
      "source": [
        "# Writing a `load_text` program\n",
        "\n",
        "Let's create a function which loads texts for us, so that we can simply avoid having to type the `open()` syntax each time we want to load a text. Why? We might find that we are constantly opening files from locations. We might want to write a simple function to do this for us, so we can use this in many different places. For example, we have been reading in `.txt` files from our Google Drive using `open(text).read()`. A simple function can help us do this more programmaticaly and allow for some more pre-processing. \n",
        "\n",
        "\n",
        "Note in the program below I include a `docstring` which is the triple quoted description of the function inside the cell. You can see these descriptions in different programming environments, in Colab you can type the function name then put your cursor in the brackets of the function and push tab and the context menu should pop up showing you the docstring definition. . \n"
      ]
    },
    {
      "cell_type": "code",
      "metadata": {
        "id": "TurQhkbFOZat"
      },
      "source": [
        "# create a program which loads in a reads files.\n",
        "def load_txt(path):\n",
        "  \"\"\"opens and returns a text\"\"\"\n",
        "  text = open(path).read()\n",
        "  return text"
      ],
      "execution_count": null,
      "outputs": []
    },
    {
      "cell_type": "code",
      "source": [
        "# put your cursor in the brackets and push tab - it will show you the details of this function.\n",
        "# (don't run the cell or else it will give you an error) \n",
        "load_txt() "
      ],
      "metadata": {
        "id": "HJFxm57vfIBE"
      },
      "execution_count": null,
      "outputs": []
    },
    {
      "cell_type": "markdown",
      "source": [
        "I'll test my program on a text named `mood_ring.txt` located in my Google Drive (you can download this file from the [LING 226 GitHub](https://github.com/scskalicky/LING-226-vuw/tree/main/texts))"
      ],
      "metadata": {
        "id": "D1ZF9HEufz4r"
      }
    },
    {
      "cell_type": "code",
      "metadata": {
        "id": "EEMSImbrO9Wy"
      },
      "source": [
        "# mount your drive before running this cell. \n",
        "load_txt('/content/drive/MyDrive/mood_ring.txt')"
      ],
      "execution_count": null,
      "outputs": []
    },
    {
      "cell_type": "markdown",
      "metadata": {
        "id": "sKfVrYQAO5BJ"
      },
      "source": [
        "Sweet, it works. We could then add a feature to `load_txt` that lowercases the words, right? And in fact we could do this in one line:"
      ]
    },
    {
      "cell_type": "code",
      "metadata": {
        "id": "424gplnwO82l"
      },
      "source": [
        "def load_txt(path):\n",
        "  \"\"\"opens and returns a text\"\"\"\n",
        "  text = open(path).read().lower() # read in and lowercase the string\n",
        "  return text"
      ],
      "execution_count": null,
      "outputs": []
    },
    {
      "cell_type": "code",
      "metadata": {
        "id": "AExSyO0IPPJT"
      },
      "source": [
        "load_txt('/content/drive/MyDrive/mood_ring.txt')"
      ],
      "execution_count": null,
      "outputs": []
    },
    {
      "cell_type": "markdown",
      "metadata": {
        "id": "DRnquijUPQ0W"
      },
      "source": [
        "As shown above, we could then *further* revise the function to make lower-casing optional by adding a toggle argument"
      ]
    },
    {
      "cell_type": "code",
      "metadata": {
        "id": "DO7K0t30PYAy"
      },
      "source": [
        "def load_txt(path, lower = True):\n",
        "  \"\"\"opens and returns a text\"\"\"\n",
        "  if lower == True:   # add condition for lowercasing\n",
        "    text = open(path).read().lower()\n",
        "  else: \n",
        "    text = open(path).read()\n",
        "  return text"
      ],
      "execution_count": null,
      "outputs": []
    },
    {
      "cell_type": "code",
      "metadata": {
        "id": "WJY5lzF3PeSW"
      },
      "source": [
        "# default will return lower cased\n",
        "load_txt('/content/drive/MyDrive/mood_ring.txt')"
      ],
      "execution_count": null,
      "outputs": []
    },
    {
      "cell_type": "code",
      "metadata": {
        "id": "KE-Wp5yrPhHu"
      },
      "source": [
        "# but we can turn that off if we like\n",
        "load_txt('/content/drive/MyDrive/mood_ring.txt', lower = False)"
      ],
      "execution_count": null,
      "outputs": []
    },
    {
      "cell_type": "markdown",
      "source": [
        "A helper function such as `load_text()` becomes worthwhile to make when developing programs because it saves you a lot of time retyping, but also because it brings consistency to your program and reduces error. Knowing that you can call `load_text()` multiple times in a program and that each time it will work the same way means you don't have to worry about inconsistencies or even typos. Also, you can change `load_text()` just one time and then it will change all instances of `load_text()`. \n",
        "\n",
        "The next notebook after this one will continue exploring how to chain functions together (and some other stuff). However, you might find it worthwhile to take a moment here and create two small functions which work with one another. For example, you could try creating a function which returns the ten most frequent words in a text (using `nltk.FreqDist()`) as well as a tokenizer function, or any other combination of things. "
      ],
      "metadata": {
        "id": "eb_G48-IhAaW"
      }
    }
  ]
}