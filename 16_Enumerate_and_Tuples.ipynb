{
  "cells": [
    {
      "cell_type": "markdown",
      "metadata": {
        "colab_type": "text",
        "id": "view-in-github"
      },
      "source": [
        "<a href=\"https://colab.research.google.com/github/scskalicky/LING-226-vuw/blob/main/16_Enumerate_and_Tuples.ipynb\" target=\"_parent\"><img src=\"https://colab.research.google.com/assets/colab-badge.svg\" alt=\"Open In Colab\"/></a>"
      ]
    },
    {
      "cell_type": "markdown",
      "metadata": {
        "id": "SLNHkNJrZwbe"
      },
      "source": [
        "# Enumerate for efficient loops, Named Tuples for new data structures\n",
        "\n",
        "This notebook first describes some new Python functions and data types before extending the conversation from the previous notebook regarding how to write more structured programs. The first new thing is learning how to use `enumerate()` as a means to write more flexible for loops."
      ]
    },
    {
      "cell_type": "markdown",
      "metadata": {
        "id": "3mythrt3iU6R"
      },
      "source": [
        "# Enumerate\n",
        "\n",
        "`enumerate()` is a handy Python function which lets you declare a `for loop` alongside a counter. This means that you can loop through values *and* the counter of a loop, which can be handy for indexing and doing other tricks.\n",
        "\n",
        "To use `enumerate()`, you declare a `for loop` per usual but wrap the sequence you are looping over in `enumerate()`. You also need to declare two iterators: one for the count of the loop, and one for the value.\n"
      ]
    },
    {
      "cell_type": "code",
      "execution_count": 2,
      "metadata": {
        "id": "YST8ZzJNi8vx"
      },
      "outputs": [],
      "source": [
        "# define a string to use as an example\n",
        "target = 'soda'"
      ]
    },
    {
      "cell_type": "code",
      "execution_count": 3,
      "metadata": {
        "id": "8kozBITtiL5g"
      },
      "outputs": [
        {
          "name": "stdout",
          "output_type": "stream",
          "text": [
            "0 s\n",
            "1 o\n",
            "2 d\n",
            "3 a\n"
          ]
        }
      ],
      "source": [
        "# create an enumerate loop\n",
        "for index, character in enumerate(target):\n",
        "  # print the loop counter plus value\n",
        "  # remember, Python starts at 0\n",
        "  print(index, character)"
      ]
    },
    {
      "cell_type": "markdown",
      "metadata": {
        "id": "1-c4jz0Qjd8C"
      },
      "source": [
        "We can use this process to do things such as index different locations during a loop."
      ]
    },
    {
      "cell_type": "code",
      "execution_count": 4,
      "metadata": {
        "id": "m-ad7petjdPS"
      },
      "outputs": [
        {
          "name": "stdout",
          "output_type": "stream",
          "text": [
            "s\n",
            "o\n",
            "d\n",
            "a\n"
          ]
        }
      ],
      "source": [
        "# create an enumerate loop\n",
        "for index, character in enumerate(target):\n",
        "  # use the loop index as a way to indext the target at that spot, which is the same result\n",
        "  print(target[index])"
      ]
    },
    {
      "cell_type": "code",
      "execution_count": 5,
      "metadata": {
        "id": "Rvcr1H7Sjri7"
      },
      "outputs": [
        {
          "name": "stdout",
          "output_type": "stream",
          "text": [
            "s o\n",
            "o d\n",
            "d a\n"
          ]
        }
      ],
      "source": [
        "# now print the previous character\n",
        "for index, character in enumerate(target):\n",
        "  # we add a conditional to make sure the index isn't the first, or else we would get an error\n",
        "  # (becaues there is no index before 0)\n",
        "  if index != 0:\n",
        "    print(target[index - 1], character)\n"
      ]
    },
    {
      "cell_type": "markdown",
      "metadata": {
        "id": "1KRD1GZwkAvO"
      },
      "source": [
        "Consider how we can use this on a list of tokens to print word pairs:\n"
      ]
    },
    {
      "cell_type": "code",
      "execution_count": 6,
      "metadata": {
        "id": "5yh1xl4zkD_X"
      },
      "outputs": [
        {
          "name": "stderr",
          "output_type": "stream",
          "text": [
            "[nltk_data] Downloading package punkt to\n",
            "[nltk_data]     C:\\Users\\Ming\\AppData\\Roaming\\nltk_data...\n",
            "[nltk_data]   Package punkt is already up-to-date!\n"
          ]
        }
      ],
      "source": [
        "# use nltk to tokenize\n",
        "import nltk\n",
        "nltk.download('punkt')\n",
        "\n",
        "# create a sentence to work with.\n",
        "sentence = nltk.word_tokenize('I overthink your punctuation use. Not my fault, just a thing that my mind do')"
      ]
    },
    {
      "cell_type": "code",
      "execution_count": 7,
      "metadata": {
        "id": "14yZQImDkMsN"
      },
      "outputs": [
        {
          "name": "stdout",
          "output_type": "stream",
          "text": [
            "I overthink\n",
            "overthink your\n",
            "your punctuation\n",
            "punctuation use\n",
            "use .\n",
            ". Not\n",
            "Not my\n",
            "my fault\n",
            "fault ,\n",
            ", just\n",
            "just a\n",
            "a thing\n",
            "thing that\n",
            "that my\n",
            "my mind\n",
            "mind do\n"
          ]
        }
      ],
      "source": [
        "# print word pairs\n",
        "for index, word in enumerate(sentence):\n",
        "  # make sure index is not at the end of the sentence\n",
        "  if index != len(sentence) - 1:\n",
        "    # I am using the enumerate index to index the structure we are looping over\n",
        "    print(word, sentence[index + 1])"
      ]
    },
    {
      "cell_type": "markdown",
      "metadata": {
        "id": "MMcxLhU7vU-5"
      },
      "source": [
        "Knowing about `enumerate()` is handy for looking at word combination because you may want to iterate before and after words during a loop. Keep this function in mind as we explore bigrams and other ways words pattern together. It might help you when you start making your own functions and analyses!"
      ]
    },
    {
      "cell_type": "markdown",
      "metadata": {
        "id": "g0JQZOX8lBZr"
      },
      "source": [
        "# Tuples\n",
        "\n",
        "Tuples are another data type in Python.\n",
        "\n",
        "In some ways, tuples are similar to lists:\n",
        "- They are sequences of values (which can be different types)\n",
        "- The sequences are ordered (and thus can be indexed)\n",
        "\n",
        "In some ways, tuples are different than lists\n",
        "- They are immutable — you cannot alter their values after they are created.\n",
        "- They use different syntax\n",
        "\n",
        "\n",
        "You can index tuples, you can slice them, and you can measure their length."
      ]
    },
    {
      "cell_type": "markdown",
      "metadata": {
        "id": "_Bqzi-kE-cOB"
      },
      "source": [
        "## Creating Tuples\n",
        "\n",
        "Tuples are created by separating values by commas, usually placed between parentheses\n"
      ]
    },
    {
      "cell_type": "code",
      "execution_count": 8,
      "metadata": {
        "id": "olR_k3AE-j7x"
      },
      "outputs": [
        {
          "data": {
            "text/plain": [
              "('Nine', 'Inch', 'Nails')"
            ]
          },
          "execution_count": 8,
          "metadata": {},
          "output_type": "execute_result"
        }
      ],
      "source": [
        "# create a tuple with no brackets\n",
        "nin1 = 'Nine', 'Inch', 'Nails'\n",
        "nin1"
      ]
    },
    {
      "cell_type": "code",
      "execution_count": 9,
      "metadata": {
        "id": "igmSxuNr_HZb"
      },
      "outputs": [
        {
          "data": {
            "text/plain": [
              "tuple"
            ]
          },
          "execution_count": 9,
          "metadata": {},
          "output_type": "execute_result"
        }
      ],
      "source": [
        "type(nin1)"
      ]
    },
    {
      "cell_type": "code",
      "execution_count": 10,
      "metadata": {
        "id": "nZOusbaG-_YW"
      },
      "outputs": [
        {
          "data": {
            "text/plain": [
              "('Trent', 'Reznor')"
            ]
          },
          "execution_count": 10,
          "metadata": {},
          "output_type": "execute_result"
        }
      ],
      "source": [
        "# create a tuple with brackets\n",
        "nin2 = ('Trent', 'Reznor')\n",
        "nin2"
      ]
    },
    {
      "cell_type": "code",
      "execution_count": 11,
      "metadata": {
        "id": "W2aNUq7I_I8p"
      },
      "outputs": [
        {
          "data": {
            "text/plain": [
              "tuple"
            ]
          },
          "execution_count": 11,
          "metadata": {},
          "output_type": "execute_result"
        }
      ],
      "source": [
        "type(nin2)"
      ]
    },
    {
      "cell_type": "markdown",
      "metadata": {
        "id": "GvkaCHU5_NxT"
      },
      "source": [
        "## Tuple assignment\n",
        "\n",
        "You can use tuple assignment to efficiently generate\n",
        "multiple variables. To do so, you first generate your variable names, separated by commas, and then assign values, also separated by commas:\n",
        "\n"
      ]
    },
    {
      "cell_type": "code",
      "execution_count": 12,
      "metadata": {
        "id": "0DQ4zrRi_Zd3"
      },
      "outputs": [],
      "source": [
        "# we create three variables in one go\n",
        "past, present, future = 1982, 2023, 2055"
      ]
    },
    {
      "cell_type": "code",
      "execution_count": 13,
      "metadata": {
        "id": "X7vXqzya__4l"
      },
      "outputs": [
        {
          "data": {
            "text/plain": [
              "1982"
            ]
          },
          "execution_count": 13,
          "metadata": {},
          "output_type": "execute_result"
        }
      ],
      "source": [
        "past"
      ]
    },
    {
      "cell_type": "code",
      "execution_count": 14,
      "metadata": {
        "id": "4ITOeKp6AB9M"
      },
      "outputs": [
        {
          "data": {
            "text/plain": [
              "2023"
            ]
          },
          "execution_count": 14,
          "metadata": {},
          "output_type": "execute_result"
        }
      ],
      "source": [
        "present"
      ]
    },
    {
      "cell_type": "code",
      "execution_count": 15,
      "metadata": {
        "id": "FCgsBZvpACg5"
      },
      "outputs": [
        {
          "data": {
            "text/plain": [
              "2055"
            ]
          },
          "execution_count": 15,
          "metadata": {},
          "output_type": "execute_result"
        }
      ],
      "source": [
        "future"
      ]
    },
    {
      "cell_type": "code",
      "execution_count": 16,
      "metadata": {
        "id": "-TQ1-Gl4_cQL"
      },
      "outputs": [
        {
          "ename": "ValueError",
          "evalue": "not enough values to unpack (expected 3, got 2)",
          "output_type": "error",
          "traceback": [
            "\u001b[1;31m---------------------------------------------------------------------------\u001b[0m",
            "\u001b[1;31mValueError\u001b[0m                                Traceback (most recent call last)",
            "\u001b[1;32md:\\OneDrive\\OneDrive - Victoria University of Wellington - STUDENT\\200 level docs\\LING226\\Jupyter Notebook\\16_Enumerate_and_Tuples.ipynb Cell 24\u001b[0m line \u001b[0;36m2\n\u001b[0;32m      <a href='vscode-notebook-cell:/d%3A/OneDrive/OneDrive%20-%20Victoria%20University%20of%20Wellington%20-%20STUDENT/200%20level%20docs/LING226/Jupyter%20Notebook/16_Enumerate_and_Tuples.ipynb#X32sZmlsZQ%3D%3D?line=0'>1</a>\u001b[0m \u001b[39m# however, length of each side has to match\u001b[39;00m\n\u001b[1;32m----> <a href='vscode-notebook-cell:/d%3A/OneDrive/OneDrive%20-%20Victoria%20University%20of%20Wellington%20-%20STUDENT/200%20level%20docs/LING226/Jupyter%20Notebook/16_Enumerate_and_Tuples.ipynb#X32sZmlsZQ%3D%3D?line=1'>2</a>\u001b[0m past, present, future \u001b[39m=\u001b[39m \u001b[39m1982\u001b[39m, \u001b[39m2023\u001b[39m\n",
            "\u001b[1;31mValueError\u001b[0m: not enough values to unpack (expected 3, got 2)"
          ]
        }
      ],
      "source": [
        "# however, length of each side has to match\n",
        "past, present, future = 1982, 2023"
      ]
    },
    {
      "cell_type": "markdown",
      "metadata": {
        "id": "5B6_5JnsAINX"
      },
      "source": [
        "The \"not enough values to unpack\" error is telling us that it expected 3 (because there are three variable names) but only got 2 (because there are only two values on the right side of the variable assignment)."
      ]
    },
    {
      "cell_type": "markdown",
      "metadata": {
        "id": "zuPkZ3aCAUar"
      },
      "source": [
        "## Using `.split()` and tuple assignment\n",
        "\n",
        "Knowing that we can assign resulting values to multiple variables, we can also use the results of functions like `.split()` as a means to provide multiple values in tuple assignment. For example, we can split a date into day, month, and year:"
      ]
    },
    {
      "cell_type": "code",
      "execution_count": null,
      "metadata": {
        "id": "dF_hDseIAeK0"
      },
      "outputs": [],
      "source": [
        "# save a date to a string\n",
        "date = '11.11.22'"
      ]
    },
    {
      "cell_type": "code",
      "execution_count": null,
      "metadata": {
        "id": "FgHfGJS9ArNY"
      },
      "outputs": [],
      "source": [
        "# split the string on '.' gives us three values\n",
        "day, month, year = date.split('.')"
      ]
    },
    {
      "cell_type": "code",
      "execution_count": null,
      "metadata": {
        "id": "8pbvo6-RAvg5"
      },
      "outputs": [],
      "source": [
        "day"
      ]
    },
    {
      "cell_type": "code",
      "execution_count": null,
      "metadata": {
        "id": "UXjlmReDAwOP"
      },
      "outputs": [],
      "source": [
        "month"
      ]
    },
    {
      "cell_type": "code",
      "execution_count": null,
      "metadata": {
        "id": "CQk9oL__Aw4R"
      },
      "outputs": [],
      "source": [
        "year"
      ]
    },
    {
      "cell_type": "markdown",
      "metadata": {
        "id": "9v50PvthCnXX"
      },
      "source": [
        "Why would you use tuples instead of lists? It's not a bad question, and many other people [also wonder](https://stackoverflow.com/questions/1708510/list-vs-tuple-when-to-use-each) about this. The main distinction seems to boil down to mutability — you can change the values in lists as you like, but tuples cannot change. So, for structures you'd prefer to be set, you may want to use tuples, otherwise use lists. At the end of the day, there is no one \"right\" way to do it.\n"
      ]
    },
    {
      "cell_type": "code",
      "execution_count": null,
      "metadata": {
        "id": "EgkIFOtPDGA1"
      },
      "outputs": [],
      "source": [
        "# create equivalent lists/tuples\n",
        "albums_list = ['Pure Heroine', 'Melodrama', 'Solar Power']\n",
        "albums_tuple = ('Pure Heroine', 'Melodrama', 'Solar Power')"
      ]
    },
    {
      "cell_type": "code",
      "execution_count": null,
      "metadata": {
        "id": "gm0CoxNBDn2A"
      },
      "outputs": [],
      "source": [
        "# I can change the value of values in the list\n",
        "albums_list[1] = 'PH'\n",
        "albums_list"
      ]
    },
    {
      "cell_type": "code",
      "execution_count": null,
      "metadata": {
        "id": "1m5NtFVvEqOq"
      },
      "outputs": [],
      "source": [
        "# but cannot do so with Tuples\n",
        "albums_tuple[1] = 'PH'"
      ]
    },
    {
      "cell_type": "markdown",
      "metadata": {
        "id": "4xTbSPjzE0eS"
      },
      "source": [
        "# Named Tuples\n",
        "\n",
        "Name tuples are a cool extension of tuples which provide you with a way of building factories to create objects containing similar properties. In this way, they are sort of like a dictionary, in that an object will have nested pieces of information, but they are different from a dictionary in that we pre-assign the properties in advance.\n",
        "\n",
        " To use named tuples we need to import the function from the `collections` module:"
      ]
    },
    {
      "cell_type": "code",
      "execution_count": 1,
      "metadata": {
        "id": "CMBkPLntE-_l"
      },
      "outputs": [],
      "source": [
        "from collections import namedtuple"
      ]
    },
    {
      "cell_type": "markdown",
      "metadata": {
        "id": "jJVPb60IFF3p"
      },
      "source": [
        "To use `namedtuple`, we first need to define our blueprint. This provides us with a reusable template that we can create new data from. The syntax to do so is:\n",
        "\n",
        "```\n",
        "Name = namedtuple('Name', ['attribute1', 'attribute2', ...])\n",
        "\n",
        "```\n",
        "\n",
        "The first Name (on the left of the = ) saves our namedtuple to a variable. The second Name (the string inside the brackets) will be the identifier or name of this tuple. By saving the named tuple to a variable, we can then call that variable name to create additional tuples of the same structure.\n",
        "\n",
        "The `attributes` inside the list represent the sorts of information we want to store about the tuple. Think of them like dictionary keys.\n",
        "\n",
        "\n",
        "Maybe a bit confusing, I know, so let's look at an example. Let's create a namedtuple which stores information about a text. We will store the length of the text in words as well as the longest word for a text.\n"
      ]
    },
    {
      "cell_type": "code",
      "execution_count": 2,
      "metadata": {
        "id": "xyFHPAR3HeWR"
      },
      "outputs": [],
      "source": [
        "# running this cell creates the factory/blueprint\n",
        "TextInfo = namedtuple('TextInfo', ['length', 'longest_word'])"
      ]
    },
    {
      "cell_type": "markdown",
      "metadata": {
        "id": "DbHQejT5IPxx"
      },
      "source": [
        "Now that we've created the blueprint, we can start making individual versions of this blueprint for different texts. To do so, we choose a new variable name for our individual version and save it to an instance of `TextInfo`.\n",
        "\n",
        "We also need to set the values of the attribues, which we can do similar in how we set values of arguments in functions:"
      ]
    },
    {
      "cell_type": "code",
      "execution_count": 3,
      "metadata": {
        "id": "4pm_zEW4IMiu"
      },
      "outputs": [],
      "source": [
        "# now create our first object with fake values\n",
        "text1 = TextInfo(length = 100, longest_word = 'incontrovertible')"
      ]
    },
    {
      "cell_type": "markdown",
      "metadata": {
        "id": "6Gv8cBmkIlGA"
      },
      "source": [
        "After having created our object, we can see the true value of namedtuple start to shine. We can access information about the object using dot notation. Each attribute can be accessed by typing the name of the namedtuple (in this case, `text1`), followed by a full stop or dot `.`, followed by the name of the attribute:\n",
        "\n",
        "```\n",
        "name.attribute\n",
        "```\n",
        "\n",
        "So, we can quickly query the text1 length doing:\n"
      ]
    },
    {
      "cell_type": "code",
      "execution_count": 4,
      "metadata": {
        "id": "LeN1jdc6I3kb"
      },
      "outputs": [
        {
          "data": {
            "text/plain": [
              "100"
            ]
          },
          "execution_count": 4,
          "metadata": {},
          "output_type": "execute_result"
        }
      ],
      "source": [
        "text1.length"
      ]
    },
    {
      "cell_type": "markdown",
      "metadata": {
        "id": "uppn5_lEI5du"
      },
      "source": [
        "As well as the longest word:"
      ]
    },
    {
      "cell_type": "code",
      "execution_count": 5,
      "metadata": {
        "id": "Tp9lW6wtI6vl"
      },
      "outputs": [
        {
          "data": {
            "text/plain": [
              "'incontrovertible'"
            ]
          },
          "execution_count": 5,
          "metadata": {},
          "output_type": "execute_result"
        }
      ],
      "source": [
        "text1.longest_word"
      ]
    },
    {
      "cell_type": "markdown",
      "metadata": {
        "id": "bxgMl0ZbI-_P"
      },
      "source": [
        "# Writing a full program\n",
        "\n",
        "Let's put this together into something more useful using some functions we already know. We'll load in some texts, count the tokens, and collect the most frequent word and store it all in some named tuples, which we can then query and loop through.\n",
        "\n",
        "1. make a function to load in a text\n",
        "2. make a function to tokenize and find most frequent token\n",
        "3. make a function to store that information in a namedtuple"
      ]
    },
    {
      "cell_type": "code",
      "execution_count": 13,
      "metadata": {
        "id": "TurQhkbFOZat"
      },
      "outputs": [],
      "source": [
        "# our load text function from the prior notebook\n",
        "def load_txt(path):\n",
        "  \"\"\"opens and returns a text\"\"\"\n",
        "  text = open(path, encoding=\"utf8\").read()\n",
        "  return text"
      ]
    },
    {
      "cell_type": "code",
      "execution_count": 7,
      "metadata": {
        "id": "ts32Uiw4Kj4R"
      },
      "outputs": [],
      "source": [
        "# a function to use nltk.word_tokenize()\n",
        "def tokenize(x):\n",
        "  x = nltk.word_tokenize(x)\n",
        "  return x"
      ]
    },
    {
      "cell_type": "code",
      "execution_count": 8,
      "metadata": {
        "id": "cf6Sd30JKsWR"
      },
      "outputs": [],
      "source": [
        "# a function to find the most frequent word\n",
        "def find_most_frequent(tokens):\n",
        "  fd = nltk.FreqDist(tokens)\n",
        "  return fd.most_common(1)"
      ]
    },
    {
      "cell_type": "code",
      "execution_count": 9,
      "metadata": {
        "id": "RRV-2nx5K1WP"
      },
      "outputs": [],
      "source": [
        "# a control function to run a string through the other functions and store results in a named tuple\n",
        "def process_text(path):\n",
        "  # first load the text\n",
        "  txt = load_txt(path)\n",
        "\n",
        "  # then tokenize\n",
        "  tokens = tokenize(txt)\n",
        "\n",
        "  # then find the most frequent word\n",
        "  most_frequent = find_most_frequent(tokens)\n",
        "\n",
        "  # return the values - note that I can use tuple assignment to return more than one value\n",
        "  return tokens, most_frequent\n"
      ]
    },
    {
      "cell_type": "markdown",
      "metadata": {
        "id": "UDsIJi2-Lekm"
      },
      "source": [
        "The functions I have just defined are all the different bits and pieces of our program. Now we need one final function which will control the whole show - it will define the named tuple and choose which texts to run through the whole set of programs. We will call this function `main` and will feed it a list of filenames for texts we want to process.\n",
        "\n",
        "Here is an explanation of the function:\n",
        "\n",
        "\n",
        "Line 2: I require two arguments: the `root` folder of the texts, and then a list of `files` which are located in that root folder. Doing it this way allows me to separate the filename from the full file path (there are of course other ways of doing this).\n",
        "\n",
        "Line 4: I then declare the `TextStats` namedtuple, which includes three attributes: `filename`, `number_of_words`, and `most_frequent_word`. This is the blueprint for our other named tuples.\n",
        "\n",
        "Line 7: I create an empty list which I will store all of my tuples in.\n",
        "\n",
        "Line 10: I then loop through each of the files. In each loop, I use tuple assignment to store the values which are returned by `process_text()` into two variables named `tokens` and `most_frequent`. In the call to `process_text()`, I concatenate the individual filename to the end of root (which is the path to the folder containing the files).\n",
        "\n",
        "Line 15: I then create a named tuple comprised of the filename, number of tokens, and the most frequent word. This named tuple is appended directly to my output list.\n",
        "\n",
        "Line 17: after the loop completes, I return the list of named tuples.\n"
      ]
    },
    {
      "cell_type": "code",
      "execution_count": 10,
      "metadata": {
        "id": "rE6gFWQNLbcU"
      },
      "outputs": [],
      "source": [
        "# write control function\n",
        "def main(root, files):\n",
        "  # define our named tuple\n",
        "  TextStats = namedtuple('TextStats', ['filename', 'number_of_words', 'most_frequent_word'])\n",
        "\n",
        "  # define an empty data container\n",
        "  output = []\n",
        "\n",
        "  # feed each file to our other functions\n",
        "  for file in files:\n",
        "    # get the tokens and most frequent word\n",
        "    tokens, most_frequent = process_text(root + file)\n",
        "\n",
        "    # create a named tuple\n",
        "    output.append(TextStats(file,len(tokens), most_frequent))\n",
        "\n",
        "  return output"
      ]
    },
    {
      "cell_type": "code",
      "execution_count": 11,
      "metadata": {
        "id": "opbALaWdOdhS"
      },
      "outputs": [
        {
          "name": "stderr",
          "output_type": "stream",
          "text": [
            "[nltk_data] Downloading package punkt to\n",
            "[nltk_data]     C:\\Users\\Ming\\AppData\\Roaming\\nltk_data...\n",
            "[nltk_data]   Package punkt is already up-to-date!\n"
          ]
        },
        {
          "data": {
            "text/plain": [
              "True"
            ]
          },
          "execution_count": 11,
          "metadata": {},
          "output_type": "execute_result"
        }
      ],
      "source": [
        "# need our nltk resources since I will use word_tokenize().\n",
        "import nltk\n",
        "nltk.download('punkt')"
      ]
    },
    {
      "cell_type": "code",
      "execution_count": 14,
      "metadata": {
        "id": "ACSDnIn4MQn7"
      },
      "outputs": [],
      "source": [
        "# texts are in the same folder, so save that to a variable\n",
        "root = './the-current/'\n",
        "\n",
        "# my list of two texts\n",
        "texts = ['tp001.txt', 'tp002.txt']\n",
        "\n",
        "# run the function\n",
        "analysis = main(root = root, files = texts)"
      ]
    },
    {
      "cell_type": "code",
      "execution_count": 15,
      "metadata": {
        "id": "n5S6Z6M3Oo4o"
      },
      "outputs": [
        {
          "data": {
            "text/plain": [
              "[TextStats(filename='tp001.txt', number_of_words=43855, most_frequent_word=[('to', 1467)]),\n",
              " TextStats(filename='tp002.txt', number_of_words=164783, most_frequent_word=[('the', 5459)])]"
            ]
          },
          "execution_count": 15,
          "metadata": {},
          "output_type": "execute_result"
        }
      ],
      "source": [
        "analysis"
      ]
    },
    {
      "cell_type": "code",
      "execution_count": 16,
      "metadata": {
        "id": "iPGyLB0Tetg1"
      },
      "outputs": [
        {
          "name": "stdout",
          "output_type": "stream",
          "text": [
            "tp001.txt\n",
            "43855\n",
            "[('to', 1467)]\n",
            "tp002.txt\n",
            "164783\n",
            "[('the', 5459)]\n"
          ]
        }
      ],
      "source": [
        "# loop through anlaysis\n",
        "for text in analysis:\n",
        "  print(text.filename)\n",
        "  print(text.number_of_words)\n",
        "  print(text.most_frequent_word)"
      ]
    },
    {
      "cell_type": "markdown",
      "metadata": {
        "id": "gnrlyUpxevKC"
      },
      "source": [
        "Looking at the output, we can see that there are probably some additional steps or at least *options* we would want to consider for pre-processing. For instance we probably don't want punctuation to count as our most frequent word. Regardless, hopefully this notebook can give you some ideas on how to structure your programs. And, using namedtuples might be useful to you if you are used to oop style methods of programming."
      ]
    },
    {
      "cell_type": "markdown",
      "metadata": {
        "id": "mi9N2wKW86IS"
      },
      "source": [
        "# Conclusion\n",
        "\n",
        "In this notebook we have explored a new function (`enumerate`) as well as a new data type (tuples). We also learned about an extension to tuples called `namedtuples`, which provides us with another more structured way to query attributes of objects.\n",
        "\n",
        "Then I wrote a structured program which drew from different functions in a pipeline. You should spend some time playing around with each individual function to see if you can make tweaks here and there - for example could you add more functions to process texts further? What about a function to auomatically grab the filenames from a directory so you don't have to manually type them? Extending pre-existing functions, rather than reinventing the wheel each time, is a good way to develop more complex and interesting programs."
      ]
    }
  ],
  "metadata": {
    "colab": {
      "authorship_tag": "ABX9TyNtKnSl5sXIl93owiHuAsoO",
      "include_colab_link": true,
      "mount_file_id": "1Ty8-ZrpEkGyaJ6jSyYEoPUDihmZcgzA1",
      "private_outputs": true,
      "provenance": []
    },
    "kernelspec": {
      "display_name": "Python 3",
      "name": "python3"
    },
    "language_info": {
      "codemirror_mode": {
        "name": "ipython",
        "version": 3
      },
      "file_extension": ".py",
      "mimetype": "text/x-python",
      "name": "python",
      "nbconvert_exporter": "python",
      "pygments_lexer": "ipython3",
      "version": "3.11.4"
    }
  },
  "nbformat": 4,
  "nbformat_minor": 0
}
